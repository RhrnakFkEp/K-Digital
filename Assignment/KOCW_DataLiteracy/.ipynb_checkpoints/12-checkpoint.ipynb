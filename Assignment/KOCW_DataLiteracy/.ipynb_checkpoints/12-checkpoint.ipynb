{
 "cells": [
  {
   "cell_type": "markdown",
   "metadata": {},
   "source": [
    "# KOCW AI 보안 데이터 리터러시\n",
    "URL : http://www.kocw.net/home/search/kemView.do?kemId=1379416\n",
    "\n",
    "<strong>작성일자</strong> : 2021-05-29<br>\n",
    "<strong>작성자</strong> : 이예희<br>\n",
    "<strong>작성내용</strong> : KOCW AI 보안 리터러시 강의 12\n",
    "<hr>"
   ]
  },
  {
   "cell_type": "markdown",
   "metadata": {},
   "source": [
    "## 12.pandas"
   ]
  },
  {
   "cell_type": "code",
   "execution_count": 20,
   "metadata": {},
   "outputs": [],
   "source": [
    "import pandas as pd\n",
    "import numpy as np\n",
    "import copy "
   ]
  },
  {
   "cell_type": "code",
   "execution_count": 41,
   "metadata": {},
   "outputs": [
    {
     "name": "stdout",
     "output_type": "stream",
     "text": [
      "     순서  나이  도시\n",
      "사람1   1  30  서울\n",
      "사람2   2  20  인천\n",
      "사람3   3  30  인천\n"
     ]
    }
   ],
   "source": [
    "df = pd.DataFrame([[1, 30, \"서울\"], [2, 20, \"인천\"], [3, 30, \"인천\"]],\n",
    "                 index = [\"사람1\", \"사람2\", \"사람3\"],\n",
    "                 columns = [\"순서\", \"나이\", \"도시\"])\n",
    "print(df)"
   ]
  },
  {
   "cell_type": "code",
   "execution_count": 42,
   "metadata": {},
   "outputs": [
    {
     "name": "stdout",
     "output_type": "stream",
     "text": [
      "     순서  나이  도시  직업\n",
      "사람1   1  30  서울  학생\n",
      "사람2   2  20  인천  학생\n",
      "사람3   3  30  인천  학생\n",
      "\n",
      "      순서    나이  도시   직업  나이대\n",
      "사람1  1.0  30.0  서울   학생  NaN\n",
      "사람2  2.0  20.0  인천   학생  NaN\n",
      "사람3  3.0  30.0  인천   학생  NaN\n",
      "사람4  NaN   NaN  충청  NaN  30대\n"
     ]
    }
   ],
   "source": [
    "df[\"직업\"] = \"학생\"\n",
    "print(df)\n",
    "print()\n",
    "\n",
    "df.loc[\"사람4\", [\"도시\", \"나이대\"]] = [\"충청\", \"30대\"]\n",
    "print(df)"
   ]
  },
  {
   "cell_type": "code",
   "execution_count": 43,
   "metadata": {},
   "outputs": [
    {
     "name": "stdout",
     "output_type": "stream",
     "text": [
      "      순서    나이  도시  직업  나이대\n",
      "사람1  1.0  30.0  서울  학생  NaN\n",
      "사람2  2.0  20.0  인천  학생  NaN\n",
      "사람3  3.0  30.0  인천  학생  NaN\n",
      "\n",
      "      순서    나이  도시  직업\n",
      "사람1  1.0  30.0  서울  학생\n",
      "사람2  2.0  20.0  인천  학생\n",
      "사람3  3.0  30.0  인천  학생\n"
     ]
    }
   ],
   "source": [
    "df.drop('사람4', axis = 0, inplace = True)\n",
    "print(df)\n",
    "print()\n",
    "\n",
    "df.drop(\"나이대\", axis = 1, inplace = True)\n",
    "print(df)"
   ]
  },
  {
   "cell_type": "code",
   "execution_count": 44,
   "metadata": {},
   "outputs": [
    {
     "name": "stdout",
     "output_type": "stream",
     "text": [
      "      순서    나이  도시  직업\n",
      "사람1  1.0  30.0  서울  학생\n",
      "사람2  2.0  20.0  인천  학생\n",
      "사람3  3.0  30.0  인천  학생\n"
     ]
    }
   ],
   "source": [
    "df2 = df\n",
    "print(df2)"
   ]
  },
  {
   "cell_type": "code",
   "execution_count": 45,
   "metadata": {},
   "outputs": [
    {
     "name": "stdout",
     "output_type": "stream",
     "text": [
      "      순서    나이  도시  직업\n",
      "사람1  1.0  20.0  서울  학생\n",
      "사람2  2.0  20.0  인천  학생\n",
      "사람3  3.0  30.0  인천  학생\n",
      "\n",
      "      순서    나이  도시  직업\n",
      "사람1  1.0  20.0  서울  학생\n",
      "사람2  2.0  20.0  인천  학생\n",
      "사람3  3.0  30.0  인천  학생\n"
     ]
    }
   ],
   "source": [
    "df2.loc[\"사람1\", \"나이\"] = 20\n",
    "print(df2)\n",
    "print()\n",
    "print(df)\n",
    "# 둘이 같이 수정됨. 연결되어있는것."
   ]
  },
  {
   "cell_type": "code",
   "execution_count": 49,
   "metadata": {},
   "outputs": [
    {
     "name": "stdout",
     "output_type": "stream",
     "text": [
      "      순서    나이  도시  직업\n",
      "사람1  1.0  20.0  서울  학생\n",
      "사람2  2.0  20.0  인천  학생\n",
      "사람3  3.0  30.0  인천  학생\n",
      "\n",
      "      순서    나이  도시  직업\n",
      "사람1  1.0  20.0  서울  학생\n",
      "사람2  2.0  20.0  인천  학생\n",
      "사람3  3.0  45.0  인천  학생\n",
      "\n",
      "      순서    나이  도시  직업\n",
      "사람1  1.0  20.0  서울  학생\n",
      "사람2  2.0  20.0  인천  학생\n",
      "사람3  3.0  30.0  인천  학생\n"
     ]
    }
   ],
   "source": [
    "# 카피했기 때문에 연결 끊김\n",
    "df2 = df.copy()\n",
    "print(df2)\n",
    "print()\n",
    "\n",
    "df2.loc[\"사람3\", \"나이\"] = 45\n",
    "print(df2)\n",
    "print()\n",
    "print(df)"
   ]
  },
  {
   "cell_type": "code",
   "execution_count": 50,
   "metadata": {},
   "outputs": [
    {
     "name": "stdout",
     "output_type": "stream",
     "text": [
      "      순서    나이  도시  직업\n",
      "사람1  1.0  20.0  충남  학생\n",
      "사람2  2.0  20.0  제주  학생\n",
      "사람3  3.0  45.0  제주  학생\n"
     ]
    }
   ],
   "source": [
    "# map\n",
    "a = {\"서울\" : \"충남\", \"인천\" : \"제주\"}\n",
    "\n",
    "df2[\"도시\"] = df2[\"도시\"].map(a)\n",
    "print(df2)"
   ]
  },
  {
   "cell_type": "code",
   "execution_count": 56,
   "metadata": {},
   "outputs": [
    {
     "name": "stdout",
     "output_type": "stream",
     "text": [
      "a    1\n",
      "b    2\n",
      "c    3\n",
      "d    4\n",
      "dtype: int64\n",
      "a    1\n",
      "c    3\n",
      "e    5\n",
      "dtype: int64\n",
      "\n",
      "a    2.0\n",
      "b    NaN\n",
      "c    6.0\n",
      "d    NaN\n",
      "e    NaN\n",
      "dtype: float64\n",
      "\n",
      "a    0.0\n",
      "b    2.0\n",
      "c    0.0\n",
      "d    4.0\n",
      "e   -5.0\n",
      "dtype: float64\n"
     ]
    }
   ],
   "source": [
    "# series 연산\n",
    "\n",
    "s1 = pd.Series({\"a\" : 1, \"b\" : 2, \"c\" : 3, \"d\" : 4})\n",
    "s2 = pd.Series({\"a\" : 1, \"c\" : 3, \"e\" : 5})\n",
    "print(s1)\n",
    "print(s2)\n",
    "print()\n",
    "\n",
    "print(s1 + s2)\n",
    "# NaN에는 어떤 연산을 해도 NaN\n",
    "print()\n",
    "\n",
    "print(s1.sub(s2, fill_value = 0))\n",
    "# add, sub, div, mul"
   ]
  },
  {
   "cell_type": "code",
   "execution_count": 59,
   "metadata": {},
   "outputs": [
    {
     "name": "stdout",
     "output_type": "stream",
     "text": [
      "   이름  도시\n",
      "0  김씨  부산\n",
      "1  박씨  인천\n",
      "   이름  나이\n",
      "0  김씨  30\n",
      "1  박씨  50\n",
      "\n",
      "   이름  도시  나이\n",
      "0  김씨  부산  30\n",
      "1  박씨  인천  50\n"
     ]
    }
   ],
   "source": [
    "# merge\n",
    "\n",
    "df1 = pd.DataFrame([[\"김씨\", \"부산\"], [\"박씨\", \"인천\"]], columns = [\"이름\", \"도시\"])\n",
    "df2 = pd.DataFrame([[\"김씨\", 30], [\"박씨\", 50]], columns = [\"이름\", \"나이\"])\n",
    "print(df1)\n",
    "print(df2)\n",
    "print()\n",
    "\n",
    "df = pd.merge(left = df1, right = df2, how = \"left\", \n",
    "              left_on = \"이름\", right_on = \"이름\")\n",
    "print(df)\n",
    "# 왼쪽에 붙일것, 오른쪽에 붙일것. 어떤것에 대해서(기준인듯)\n",
    "# 왼쪽에서 붙일 것의 기준, 오른쪽에서 붙일 것의 기준"
   ]
  },
  {
   "cell_type": "code",
   "execution_count": null,
   "metadata": {},
   "outputs": [],
   "source": []
  }
 ],
 "metadata": {
  "kernelspec": {
   "display_name": "Python 3",
   "language": "python",
   "name": "python3"
  },
  "language_info": {
   "codemirror_mode": {
    "name": "ipython",
    "version": 3
   },
   "file_extension": ".py",
   "mimetype": "text/x-python",
   "name": "python",
   "nbconvert_exporter": "python",
   "pygments_lexer": "ipython3",
   "version": "3.8.5"
  }
 },
 "nbformat": 4,
 "nbformat_minor": 4
}
