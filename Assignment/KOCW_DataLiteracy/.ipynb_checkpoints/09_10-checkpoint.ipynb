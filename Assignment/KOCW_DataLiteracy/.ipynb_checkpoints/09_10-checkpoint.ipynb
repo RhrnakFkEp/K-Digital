{
 "cells": [
  {
   "cell_type": "markdown",
   "metadata": {},
   "source": [
    "# KOCW AI 보안 데이터 리터러시\n",
    "URL : http://www.kocw.net/home/search/kemView.do?kemId=1379416\n",
    "\n",
    "<strong>작성일자</strong> : 2021-05-24<br>\n",
    "<strong>작성자</strong> : 이예희<br>\n",
    "<strong>작성내용</strong> : KOCW AI 보안 리터러시 강의 09~10 \n",
    "<hr>"
   ]
  },
  {
   "cell_type": "markdown",
   "metadata": {},
   "source": [
    "## 09. 변수, 리스트, 튜플"
   ]
  },
  {
   "cell_type": "markdown",
   "metadata": {},
   "source": [
    "### List"
   ]
  },
  {
   "cell_type": "code",
   "execution_count": 70,
   "metadata": {},
   "outputs": [
    {
     "name": "stdout",
     "output_type": "stream",
     "text": [
      "[1, 2, 3, 4, 5]\n"
     ]
    }
   ],
   "source": [
    "a = [1, 2, 3, 4, 5]\n",
    "print(a)"
   ]
  },
  {
   "cell_type": "code",
   "execution_count": 72,
   "metadata": {},
   "outputs": [
    {
     "name": "stdout",
     "output_type": "stream",
     "text": [
      "[2, 3, 4, 5, 6, 6]\n",
      "[3, 4, 5, 6, 6]\n"
     ]
    }
   ],
   "source": [
    "# a = a.append(6)로 쓰지 않음. 바로 적용됨.\n",
    "a.append(6)\n",
    "print(a)\n",
    "\n",
    "del a[0]\n",
    "# a = del a[0]이 아님. 그냥 바로 적용됨\n",
    "print(a)"
   ]
  },
  {
   "cell_type": "code",
   "execution_count": 19,
   "metadata": {},
   "outputs": [
    {
     "name": "stdout",
     "output_type": "stream",
     "text": [
      "[2, 3, 4]\n"
     ]
    }
   ],
   "source": [
    "a.remove(5)\n",
    "# 값을 통한 제거 가능\n",
    "print(a)"
   ]
  },
  {
   "cell_type": "markdown",
   "metadata": {},
   "source": [
    "### Tuple"
   ]
  },
  {
   "cell_type": "code",
   "execution_count": 73,
   "metadata": {},
   "outputs": [
    {
     "name": "stdout",
     "output_type": "stream",
     "text": [
      "(10, 20, 30, 40, 50)\n"
     ]
    }
   ],
   "source": [
    "# Tuple\n",
    "a = (10, 20, 30, 40, 50)\n",
    "print(a)\n",
    "\n",
    "# del a[0]\n",
    "# 튜플은 변경이 불가능"
   ]
  },
  {
   "cell_type": "code",
   "execution_count": 74,
   "metadata": {},
   "outputs": [
    {
     "name": "stdout",
     "output_type": "stream",
     "text": [
      "150\n",
      "10\n",
      "(10, 20, 30)\n"
     ]
    }
   ],
   "source": [
    "# list와 마찬가지로 sum, len, max, min, 슬라이싱 등 사용가능\n",
    "print(sum(a))  # 튜플의 총합 \n",
    "print(min(a))  # 튜플의 원소 중 가장 작은원소값\n",
    "print(a[:3])\n",
    "# print(a.add(3))  # 튜플은 수정할 수 없음"
   ]
  },
  {
   "cell_type": "code",
   "execution_count": 75,
   "metadata": {},
   "outputs": [
    {
     "data": {
      "text/plain": [
       "(10, 20, 30, 40, 50, 1, 2, 3, 4, 5)"
      ]
     },
     "execution_count": 75,
     "metadata": {},
     "output_type": "execute_result"
    }
   ],
   "source": [
    "b = (1, 2, 3, 4, 5)\n",
    "a + b   # 연결가능"
   ]
  },
  {
   "cell_type": "code",
   "execution_count": 76,
   "metadata": {},
   "outputs": [
    {
     "name": "stdout",
     "output_type": "stream",
     "text": [
      "((1, 2), [3, 4, 5])\n"
     ]
    }
   ],
   "source": [
    "# 리스트와 혼합해서 사용가능. 전체 타입은 당연히 튜플\n",
    "c = ((1, 2), [3, 4, 5])\n",
    "print(c)"
   ]
  },
  {
   "cell_type": "markdown",
   "metadata": {},
   "source": [
    "---"
   ]
  },
  {
   "cell_type": "markdown",
   "metadata": {},
   "source": [
    "## 10. 딕셔너리, 문자열, 자료형 처리"
   ]
  },
  {
   "cell_type": "markdown",
   "metadata": {},
   "source": [
    "### 딕셔너리와 집합"
   ]
  },
  {
   "cell_type": "code",
   "execution_count": 77,
   "metadata": {},
   "outputs": [
    {
     "name": "stdout",
     "output_type": "stream",
     "text": [
      "{'a': 10, 'b': 20, 'c': 30}\n"
     ]
    }
   ],
   "source": [
    "dic = {\"a\" : 10, \"b\": 20, \"c\":30}\n",
    "print(dic)"
   ]
  },
  {
   "cell_type": "code",
   "execution_count": 78,
   "metadata": {},
   "outputs": [
    {
     "name": "stdout",
     "output_type": "stream",
     "text": [
      "dict_keys(['a', 'b', 'c'])\n",
      "dict_values([10, 20, 30])\n"
     ]
    }
   ],
   "source": [
    "# 딕셔너리에서 키값만 추출\n",
    "print(dic.keys())\n",
    "\n",
    "# 딕셔너리에서 값만 추출\n",
    "print(dic.values())"
   ]
  },
  {
   "cell_type": "code",
   "execution_count": 79,
   "metadata": {},
   "outputs": [
    {
     "name": "stdout",
     "output_type": "stream",
     "text": [
      "{'a': 10, 'b': 20}\n"
     ]
    }
   ],
   "source": [
    "# 리스트나 튜플에서 제거하듯 제거하면 됨\n",
    "del dic['c']\n",
    "print(dic)\n",
    "\n",
    "# dic.remove('a')\n",
    "# remove는 사용불가. 없음."
   ]
  },
  {
   "cell_type": "code",
   "execution_count": 80,
   "metadata": {},
   "outputs": [
    {
     "name": "stdout",
     "output_type": "stream",
     "text": [
      "{'a': 10, 'b': 20, 'li': [1, 2, 3], 'tu': (4, 5, 6)}\n"
     ]
    }
   ],
   "source": [
    "dic['li'] = [1, 2, 3]\n",
    "dic['tu'] = (4, 5, 6)\n",
    "print(dic)"
   ]
  },
  {
   "cell_type": "code",
   "execution_count": 86,
   "metadata": {},
   "outputs": [
    {
     "name": "stdout",
     "output_type": "stream",
     "text": [
      "{1, 2, 3} {4, 5, 6, 7}\n",
      "<class 'set'>\n",
      "{1, 2, 3, 4}\n",
      "{2, 3, 4}\n"
     ]
    }
   ],
   "source": [
    "# 집합. 딕셔너리 형태로 작성하되 키값은 없이 작성함\n",
    "a = {1, 2, 3}\n",
    "b = {4, 5, 6, 7}\n",
    "print(a, b)\n",
    "\n",
    "# type : set. 타입이 집합임.\n",
    "print(type(a))\n",
    "\n",
    "# 집합에 원소 추가\n",
    "a.add(4)\n",
    "print(a)\n",
    "\n",
    "# 원소 제거\n",
    "a.remove(1)\n",
    "print(a)"
   ]
  },
  {
   "cell_type": "code",
   "execution_count": 87,
   "metadata": {},
   "outputs": [
    {
     "name": "stdout",
     "output_type": "stream",
     "text": [
      "False\n",
      "True\n"
     ]
    }
   ],
   "source": [
    "# 자료 있는지 없는지 정보 확인하는데 유용\n",
    "print(1 in a)\n",
    "print(1 not in a)\n",
    "# True, False 값으로 반환"
   ]
  },
  {
   "cell_type": "code",
   "execution_count": 90,
   "metadata": {},
   "outputs": [
    {
     "name": "stdout",
     "output_type": "stream",
     "text": [
      "{2, 3, 4, 5, 6, 7}\n"
     ]
    },
    {
     "data": {
      "text/plain": [
       "{4}"
      ]
     },
     "execution_count": 90,
     "metadata": {},
     "output_type": "execute_result"
    }
   ],
   "source": [
    "# 합집합\n",
    "print(a | b)\n",
    "# 합집합 값을 반환함\n",
    "\n",
    "# 교집합\n",
    "a & b \n",
    "# 교집합 값을 반환"
   ]
  },
  {
   "cell_type": "markdown",
   "metadata": {},
   "source": [
    "### 문자열"
   ]
  },
  {
   "cell_type": "code",
   "execution_count": 92,
   "metadata": {},
   "outputs": [],
   "source": [
    "# * : 반복, + : 연결\n",
    "# 슬라이싱 가능"
   ]
  },
  {
   "cell_type": "code",
   "execution_count": 97,
   "metadata": {},
   "outputs": [
    {
     "name": "stdout",
     "output_type": "stream",
     "text": [
      "Hello World!\n",
      "Hi World!\n"
     ]
    }
   ],
   "source": [
    "a = \"Hello World!\"\n",
    "a.replace(\"Hello\", \"Hi\")\n",
    "print(a) # 변경사항이 저장되지 않음. 따로 변수에 담아줘야함\n",
    "# replace(\"변경하고싶은것\", \"변경할것\")\n",
    "\n",
    "b = a.replace(\"Hello\", \"Hi\")\n",
    "print(b)"
   ]
  },
  {
   "cell_type": "code",
   "execution_count": 101,
   "metadata": {},
   "outputs": [
    {
     "name": "stdout",
     "output_type": "stream",
     "text": [
      "     안녕   안녕\n",
      "False\n",
      "     안녕  \n",
      "안녕\n"
     ]
    }
   ],
   "source": [
    "a = \"     안녕  \"\n",
    "b = \"안녕\"\n",
    "print(a, b)\n",
    "print(a == b)\n",
    "# 당연히 다름\n",
    "\n",
    "a.strip()  # 양쪽 공백 제거\n",
    "print(a)  # 변경사항 저장 x. 따로 담아야함\n",
    "a = a.strip()\n",
    "print(a)"
   ]
  },
  {
   "cell_type": "code",
   "execution_count": 112,
   "metadata": {},
   "outputs": [
    {
     "name": "stdout",
     "output_type": "stream",
     "text": [
      "000-1234-5678\n",
      "['000', '1234', '5678']\n"
     ]
    }
   ],
   "source": [
    "a = '000-1234-5678'\n",
    "a.split('-')\n",
    "# split에 넣은 것을 기준으로 쪼개줌\n",
    "print(a)  # 적용된게 저장되어있지 않음. 따로 담아줘야함\n",
    "a = a.split('-') \n",
    "print(a)\n",
    "# 리스트 형태로 반환함"
   ]
  },
  {
   "cell_type": "code",
   "execution_count": 113,
   "metadata": {},
   "outputs": [
    {
     "name": "stdout",
     "output_type": "stream",
     "text": [
      "000-1234-5678\n",
      "<class 'str'>\n"
     ]
    }
   ],
   "source": [
    "''.join(a) # 쪼개둔것을 이어줌\n",
    "# 이어붙일 때, ''으로 이어붙임\n",
    "a = '-'.join(a)\n",
    "print(a)\n",
    "print(type(a)) # 문자열타입"
   ]
  },
  {
   "cell_type": "code",
   "execution_count": 118,
   "metadata": {},
   "outputs": [
    {
     "data": {
      "text/plain": [
       "3"
      ]
     },
     "execution_count": 118,
     "metadata": {},
     "output_type": "execute_result"
    }
   ],
   "source": [
    "# a.lower(), a.upper()\n",
    "# 대 -> 소 / 소 -> 대\n",
    "a = \"Hello World!\"\n",
    "a.count('l')  \n",
    "# 문자열에 찾는게 몇개 포함있는지?"
   ]
  },
  {
   "cell_type": "markdown",
   "metadata": {},
   "source": [
    "### 자료형 처리"
   ]
  },
  {
   "cell_type": "code",
   "execution_count": 120,
   "metadata": {},
   "outputs": [],
   "source": [
    "from collections import Counter"
   ]
  },
  {
   "cell_type": "code",
   "execution_count": 122,
   "metadata": {},
   "outputs": [
    {
     "name": "stdout",
     "output_type": "stream",
     "text": [
      "['a', 'abc', 'a', 'ab', 'abc', 'a']\n"
     ]
    }
   ],
   "source": [
    "a = \"a abc a ab abc a\"\n",
    "b = a.split()\n",
    "print(b)"
   ]
  },
  {
   "cell_type": "code",
   "execution_count": 128,
   "metadata": {},
   "outputs": [
    {
     "name": "stdout",
     "output_type": "stream",
     "text": [
      "Counter({'a': 3, 'abc': 2, 'ab': 1})\n"
     ]
    },
    {
     "data": {
      "text/plain": [
       "collections.Counter"
      ]
     },
     "execution_count": 128,
     "metadata": {},
     "output_type": "execute_result"
    }
   ],
   "source": [
    "c = Counter(b)\n",
    "print(c)   # 나온 단어 빈도수 출력\n",
    "type(c)\n",
    "# 딕셔너리 타입아님. "
   ]
  },
  {
   "cell_type": "code",
   "execution_count": 134,
   "metadata": {},
   "outputs": [
    {
     "name": "stdout",
     "output_type": "stream",
     "text": [
      "<class 'list'>\n",
      "{'a': 3, 'abc': 2, 'ab': 1}\n",
      "<class 'dict'>\n"
     ]
    }
   ],
   "source": [
    "d = dict(c.most_common())\n",
    "print(type(c.most_common()))\n",
    "# c.most_common() : 리스트 형태로 만들어줌\n",
    "# dict() : 딕셔너리 형태로 바꿔줌\n",
    "print(d)\n",
    "print(type(d))"
   ]
  },
  {
   "cell_type": "code",
   "execution_count": 137,
   "metadata": {},
   "outputs": [
    {
     "name": "stdout",
     "output_type": "stream",
     "text": [
      "[10, 20, 30] [10, 20, 30]\n",
      "\n",
      "[10, 200, 30] [10, 200, 30]\n"
     ]
    }
   ],
   "source": [
    "a = [10, 20, 30]\n",
    "b = a\n",
    "print(a, b)\n",
    "print()\n",
    "b[1] = 200\n",
    "print(a, b)\n",
    "# 값이 같이 바뀜. \n",
    "# 와 신기하네 이건몰랐다.;;;"
   ]
  },
  {
   "cell_type": "code",
   "execution_count": 136,
   "metadata": {},
   "outputs": [],
   "source": [
    "from copy import copy"
   ]
  },
  {
   "cell_type": "code",
   "execution_count": 138,
   "metadata": {},
   "outputs": [
    {
     "name": "stdout",
     "output_type": "stream",
     "text": [
      "[10, 20, 30]\n",
      "[10, 20, 30]\n",
      "[10, 20, 30]\n",
      "[10, 200, 30]\n"
     ]
    }
   ],
   "source": [
    "a = [10, 20, 30]\n",
    "b = a.copy()\n",
    "print(a)\n",
    "print(b)\n",
    "\n",
    "b[1] = 200\n",
    "print(a)\n",
    "print(b)\n",
    "# b의 값만 바뀜"
   ]
  },
  {
   "cell_type": "code",
   "execution_count": 141,
   "metadata": {},
   "outputs": [
    {
     "name": "stdout",
     "output_type": "stream",
     "text": [
      "{1: 100, 2: 200, 3: 300} {1: 100, 2: 200, 3: 300}\n",
      "{2: 200, 3: 300} {2: 200, 3: 300}\n"
     ]
    }
   ],
   "source": [
    "c = {1: 100, 2:200, 3:300}\n",
    "d = c\n",
    "print(c, d)\n",
    "\n",
    "del c[1]\n",
    "print(c, d)\n",
    "# 값을 제거하는것도 양쪽다 적용됨"
   ]
  },
  {
   "cell_type": "code",
   "execution_count": 143,
   "metadata": {},
   "outputs": [
    {
     "name": "stdout",
     "output_type": "stream",
     "text": [
      "{1: 100, 2: 200, 3: 300} {1: 100, 2: 200, 3: 300}\n",
      "{2: 200, 3: 300} {1: 100, 2: 200, 3: 300}\n"
     ]
    }
   ],
   "source": [
    "c = {1:100, 2:200, 3:300}\n",
    "d = c.copy()\n",
    "print(c, d)\n",
    "\n",
    "del c[1]\n",
    "print(c, d)\n",
    "# 한쪽만 변경됨"
   ]
  },
  {
   "cell_type": "code",
   "execution_count": 144,
   "metadata": {},
   "outputs": [],
   "source": [
    "# 집합도 같은 경우도 같은 결과가 나오기 때문에\n",
    "# 카피를 해서 서로에게 영향을 미치지 않게 값을 복사해야함"
   ]
  },
  {
   "cell_type": "code",
   "execution_count": 160,
   "metadata": {},
   "outputs": [
    {
     "name": "stdout",
     "output_type": "stream",
     "text": [
      "a 1\n",
      "b 2\n",
      "c 3\n",
      "d 4\n"
     ]
    }
   ],
   "source": [
    "a = 'abcd'\n",
    "b = [1, 2, 3, 4]\n",
    "\n",
    "for x, y in zip(a, b):\n",
    "    print(x, y)\n",
    "\n",
    "ab = dict(zip(a, b))\n",
    "print(a)\n",
    "print(b)\n",
    "print(ab)"
   ]
  },
  {
   "cell_type": "code",
   "execution_count": 162,
   "metadata": {},
   "outputs": [
    {
     "name": "stdout",
     "output_type": "stream",
     "text": [
      "10 a\n",
      "11 b\n",
      "12 c\n",
      "13 d\n"
     ]
    }
   ],
   "source": [
    "for i, x in enumerate(a, 10):\n",
    "    print(i, x)\n",
    "    \n",
    "# 인덱스값 가져올수있음.\n",
    "# 인덱스의 시작값도 정해줄 수 있음"
   ]
  },
  {
   "cell_type": "code",
   "execution_count": 163,
   "metadata": {},
   "outputs": [
    {
     "name": "stdout",
     "output_type": "stream",
     "text": [
      "['홍길동', '홍길순', '아무개'] {1: '홍길동', 2: '홍길순', 3: '아무개'}\n"
     ]
    }
   ],
   "source": [
    "a = ['홍길동', '홍길순', '아무개']\n",
    "b = dict(enumerate(a, 1))\n",
    "print(a, b)"
   ]
  },
  {
   "cell_type": "code",
   "execution_count": null,
   "metadata": {},
   "outputs": [],
   "source": []
  }
 ],
 "metadata": {
  "kernelspec": {
   "display_name": "Python 3",
   "language": "python",
   "name": "python3"
  },
  "language_info": {
   "codemirror_mode": {
    "name": "ipython",
    "version": 3
   },
   "file_extension": ".py",
   "mimetype": "text/x-python",
   "name": "python",
   "nbconvert_exporter": "python",
   "pygments_lexer": "ipython3",
   "version": "3.8.5"
  }
 },
 "nbformat": 4,
 "nbformat_minor": 4
}
