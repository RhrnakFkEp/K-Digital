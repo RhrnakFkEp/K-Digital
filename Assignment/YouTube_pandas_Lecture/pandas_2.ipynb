{
 "cells": [
  {
   "cell_type": "markdown",
   "id": "2924019a",
   "metadata": {},
   "source": [
    "# 2. DataFrame과 subset observation\n",
    "2021-06-02\n",
    "<li>영우 글로벌 러닝 판다스 보충강의 2</li>\n",
    "<li>DataFrame과 subset observation</li>\n",
    "<li><a href = https://www.youtube.com/watch?v=pTTG4a0uyUY>강의 유튜브 링크</a></li>"
   ]
  },
  {
   "cell_type": "markdown",
   "id": "cd91ea11",
   "metadata": {},
   "source": [
    "실습 : <br>\n",
    "https://dataitgirls2.github.io/10minutes2pandas/<br><br>\n",
    "코드 연습 : <br>\n",
    "https://pandas.pydata.org/<br>\n",
    "https://pandas.pydata.org/Pandas_Cheat_Sheet.pdf<br>\n",
    "<hr>"
   ]
  },
  {
   "cell_type": "markdown",
   "id": "7d5f2c0d",
   "metadata": {},
   "source": [
    "목적?\n",
    "여러 유형읟 데이터를 공통의 포맷으로 정리"
   ]
  },
  {
   "cell_type": "markdown",
   "id": "9e41b7f6",
   "metadata": {},
   "source": [
    "판다스\n",
    "- 시리즈(1차원배열), 데이터프레임(2차원배열)\n",
    "- 인덱스가 0부터 시작"
   ]
  },
  {
   "cell_type": "markdown",
   "id": "c9a22a09",
   "metadata": {},
   "source": [
    "## 실습"
   ]
  },
  {
   "cell_type": "code",
   "execution_count": 124,
   "id": "407ff362",
   "metadata": {},
   "outputs": [],
   "source": [
    "# import\n",
    "\n",
    "import pandas as pd\n",
    "import numpy as np\n",
    "import seaborn as sns"
   ]
  },
  {
   "cell_type": "code",
   "execution_count": 9,
   "id": "045a6e58",
   "metadata": {},
   "outputs": [
    {
     "name": "stdout",
     "output_type": "stream",
     "text": [
      "   a  b   c\n",
      "1  4  7  10\n",
      "2  5  8  11\n",
      "3  6  9  12\n",
      "   a  b\n",
      "1  4  7\n",
      "2  5  8\n",
      "3  6  9\n"
     ]
    }
   ],
   "source": [
    "df = pd.DataFrame({\"a\" : [4 ,5, 6], \n",
    "                   \"b\" : [7, 8, 9],\n",
    "                   \"c\" : [10, 11, 12]},\n",
    "                  index = [1, 2, 3])\n",
    "print(df)\n",
    "print(df[[\"a\", \"b\"]])"
   ]
  },
  {
   "cell_type": "code",
   "execution_count": 13,
   "id": "3324e0a7",
   "metadata": {},
   "outputs": [
    {
     "name": "stdout",
     "output_type": "stream",
     "text": [
      "a     6\n",
      "b     9\n",
      "c    12\n",
      "Name: 3, dtype: int64\n",
      "a     5\n",
      "b     8\n",
      "c    11\n",
      "Name: 2, dtype: int64\n",
      "1    4\n",
      "2    5\n",
      "3    6\n",
      "Name: a, dtype: int64\n"
     ]
    }
   ],
   "source": [
    "# loc, iloc\n",
    "print(df.iloc[2])\n",
    "print(df.loc[2])\n",
    "print(df.loc[:, \"a\"])"
   ]
  },
  {
   "cell_type": "code",
   "execution_count": 19,
   "id": "39ded288",
   "metadata": {},
   "outputs": [
    {
     "name": "stdout",
     "output_type": "stream",
     "text": [
      "     a  b   c\n",
      "n v          \n",
      "d 1  4  7  10\n",
      "  2  5  8  11\n",
      "e 2  6  9  12\n"
     ]
    }
   ],
   "source": [
    "# Mulitiindex\n",
    "# 인덱스를 여러개 생성\n",
    "\n",
    "df = pd.DataFrame({\"a\" : [4 ,5, 6],\n",
    "                   \"b\" : [7, 8, 9],\n",
    "                   \"c\" : [10, 11, 12]},\n",
    "                  index = pd.MultiIndex.from_tuples([('d',1),('d',2),('e',2)],\n",
    "                                                    names=['n','v']))\n",
    "print(df)"
   ]
  },
  {
   "cell_type": "markdown",
   "id": "6e350c15",
   "metadata": {},
   "source": [
    "<hr>"
   ]
  },
  {
   "cell_type": "markdown",
   "id": "402247be",
   "metadata": {},
   "source": [
    "## 실습 2\n",
    "### 시리즈(Series)\n",
    "열벡터"
   ]
  },
  {
   "cell_type": "code",
   "execution_count": 25,
   "id": "276f649c",
   "metadata": {},
   "outputs": [
    {
     "name": "stdout",
     "output_type": "stream",
     "text": [
      "{'a': 1, 'b': 2, 'c': 3}\n",
      "<class 'dict'>\n",
      "\n",
      "a    1\n",
      "b    2\n",
      "c    3\n",
      "dtype: int64\n",
      "<class 'pandas.core.series.Series'>\n",
      "\n"
     ]
    }
   ],
   "source": [
    "# 시리즈 생성\n",
    "dict_data = {\"a\": 1, \"b\" : 2, \"c\" : 3}\n",
    "print(dict_data)\n",
    "print(type(dict_data))\n",
    "print()\n",
    "\n",
    "sr = pd.Series(dict_data)\n",
    "print(sr)\n",
    "print(type(sr))\n",
    "print()"
   ]
  },
  {
   "cell_type": "code",
   "execution_count": 28,
   "id": "c941dc75",
   "metadata": {},
   "outputs": [
    {
     "name": "stdout",
     "output_type": "stream",
     "text": [
      "0    2019-01-02\n",
      "1          3.14\n",
      "2           ABC\n",
      "3           100\n",
      "4          True\n",
      "dtype: object\n",
      "\n",
      "RangeIndex(start=0, stop=5, step=1)\n",
      "['2019-01-02' 3.14 'ABC' 100 True]\n"
     ]
    }
   ],
   "source": [
    "# 시리즈 인덱스, 값\n",
    "list_data = [\"2019-01-02\", 3.14, \"ABC\", 100, True]\n",
    "sr = pd.Series(list_data)\n",
    "print(sr)\n",
    "print()\n",
    "\n",
    "idx = sr.index\n",
    "val = sr.values\n",
    "print(idx)\n",
    "print(val)"
   ]
  },
  {
   "cell_type": "code",
   "execution_count": 33,
   "id": "2df0ef9e",
   "metadata": {},
   "outputs": [
    {
     "name": "stdout",
     "output_type": "stream",
     "text": [
      "이름              영인\n",
      "생년월일    2010-05-01\n",
      "성별               여\n",
      "학생여부          True\n",
      "dtype: object\n",
      "\n",
      "영인\n",
      "영인\n",
      "영인\n",
      "\n",
      "생년월일    2010-05-01\n",
      "성별               여\n",
      "dtype: object\n",
      "[['생년월일', '성별']]\n",
      "\n",
      "생년월일    2010-05-01\n",
      "dtype: object\n",
      "생년월일 성별\n"
     ]
    }
   ],
   "source": [
    "# 인덱스로 값 추출\n",
    "tup_data = (\"영인\", \"2010-05-01\", \"여\", True)\n",
    "sr = pd.Series(tup_data, index = [\"이름\", \"생년월일\", \"성별\", \"학생여부\"])\n",
    "print(sr)\n",
    "print()\n",
    "\n",
    "# 인덱스 1개 선택\n",
    "print(sr[0])\n",
    "print(sr[\"이름\"])\n",
    "print(sr.이름)\n",
    "print()\n",
    "\n",
    "# 인덱스 여러개 선택\n",
    "print(sr[[1, 2]])\n",
    "print([[\"생년월일\", \"성별\"]])\n",
    "print()\n",
    "\n",
    "# 인덱스 슬라이싱\n",
    "# 아래 두 코드의 결과가 다름\n",
    "print(sr[1:2])\n",
    "print(\"생년월일\", \"성별\")"
   ]
  },
  {
   "cell_type": "markdown",
   "id": "1c76ad09",
   "metadata": {},
   "source": [
    "<hr>"
   ]
  },
  {
   "cell_type": "markdown",
   "id": "7f8ee3e1",
   "metadata": {},
   "source": [
    "### 데이터프레임\n",
    "R에서 유래<br>\n",
    "2차원 행렬<br>\n",
    "열벡터 + 행벡터<br>\n",
    "레코드(record)"
   ]
  },
  {
   "cell_type": "markdown",
   "id": "c8a6fe89",
   "metadata": {},
   "source": [
    "<hr>"
   ]
  },
  {
   "cell_type": "markdown",
   "id": "8b1d1e63",
   "metadata": {},
   "source": [
    "## 실습 3 Subset_observation(Rows)"
   ]
  },
  {
   "cell_type": "code",
   "execution_count": 51,
   "id": "5c7253a5",
   "metadata": {},
   "outputs": [
    {
     "name": "stdout",
     "output_type": "stream",
     "text": [
      "     a  b   c\n",
      "n v          \n",
      "d 1  4  7  10\n",
      "  2  5  8  11\n",
      "e 2  6  9  12\n",
      "\n",
      "\n",
      "\n",
      "      a    b   c\n",
      "n v             \n",
      "d 1 NaN  NaN  10\n",
      "  2 NaN  8.0  11\n",
      "e 2 NaN  9.0  12\n",
      "\n",
      "n  v\n",
      "d  1    False\n",
      "   2     True\n",
      "e  2     True\n",
      "Name: b, dtype: bool\n",
      "\n",
      "     a  b   c\n",
      "n v          \n",
      "e 2  6  9  12\n"
     ]
    }
   ],
   "source": [
    "# 조건에 따라 출력\n",
    "df = pd.DataFrame({\"a\" : [4, 5, 6], \n",
    "                 \"b\" : [7, 8, 9], \n",
    "                 \"c\" : [10, 11, 12]}, \n",
    "                index = pd.MultiIndex.from_tuples(\n",
    "                    [(\"d\", 1), (\"d\", 2), (\"e\", 2)], \n",
    "                    names = [\"n\", \"v\"]))\n",
    "print(df)\n",
    "print(\"\\n\\n\")\n",
    "\n",
    "print(df[df>7])\n",
    "print()\n",
    "print(df.b > 7)\n",
    "print()\n",
    "print(df[df.a > 5])"
   ]
  },
  {
   "cell_type": "code",
   "execution_count": 60,
   "id": "f46c27f3",
   "metadata": {},
   "outputs": [
    {
     "name": "stdout",
     "output_type": "stream",
     "text": [
      "     a  b   c\n",
      "n v          \n",
      "d 1  4  7  10\n",
      "  2  5  8  11\n",
      "e 3  6  9  12\n",
      "  3  6  9  12\n",
      "\n",
      "\n",
      "\n",
      "     a  b   c\n",
      "n v          \n",
      "d 1  4  7  10\n",
      "  2  5  8  11\n",
      "e 3  6  9  12\n",
      "     a  b   c\n",
      "n v          \n",
      "d 1  4  7  10\n",
      "  2  5  8  11\n",
      "e 3  6  9  12\n",
      "  3  6  9  12\n",
      "\n",
      "\n",
      "\n",
      "     a  b   c\n",
      "n v          \n",
      "d 1  4  7  10\n",
      "  2  5  8  11\n",
      "e 3  6  9  12\n",
      "  3  6  9  12\n",
      "\n",
      "     a  b   c\n",
      "n v          \n",
      "d 1  4  7  10\n",
      "  2  5  8  11\n",
      "e 3  6  9  12\n"
     ]
    }
   ],
   "source": [
    "# drop_duplicates()\n",
    "# 중복 제거\n",
    "\n",
    "df2 = pd.DataFrame(\n",
    "    {\"a\" : [4, 5, 6, 6], \n",
    "     \"b\" : [7, 8, 9, 9], \n",
    "     \"c\" : [10, 11, 12, 12]}, \n",
    "     index = pd.MultiIndex.from_tuples(\n",
    "         [(\"d\", 1), (\"d\", 2), (\"e\", 3), (\"e\", 3)], \n",
    "         names = [\"n\", \"v\"]))\n",
    "print(df2)\n",
    "print(\"\\n\\n\")\n",
    "\n",
    "print(df2.drop_duplicates())\n",
    "print(df2)\n",
    "print(\"\\n\\n\")\n",
    "\n",
    "# df2.drop_duplicates(inplace = True)\n",
    "print(df2)\n",
    "# 파이썬에서 inplace 사용을 권장하지 않음\n",
    "# 오버라이트 할 것\n",
    "df2 = df2.drop_duplicates()\n",
    "print()\n",
    "\n",
    "# 중복되는 행 중 마지막 행 사용하겠다는것\n",
    "df2 = df2.drop_duplicates(keep = \"last\")\n",
    "print(df2)"
   ]
  },
  {
   "cell_type": "markdown",
   "id": "0f4d5604",
   "metadata": {},
   "source": [
    "<hr>"
   ]
  },
  {
   "cell_type": "markdown",
   "id": "91469a20",
   "metadata": {},
   "source": [
    "## 실습 4 Subset_observation(Rows)\n",
    "## Logic in Python and Pandas"
   ]
  },
  {
   "cell_type": "code",
   "execution_count": 62,
   "id": "eabd7034",
   "metadata": {},
   "outputs": [
    {
     "data": {
      "text/html": [
       "<div>\n",
       "<style scoped>\n",
       "    .dataframe tbody tr th:only-of-type {\n",
       "        vertical-align: middle;\n",
       "    }\n",
       "\n",
       "    .dataframe tbody tr th {\n",
       "        vertical-align: top;\n",
       "    }\n",
       "\n",
       "    .dataframe thead th {\n",
       "        text-align: right;\n",
       "    }\n",
       "</style>\n",
       "<table border=\"1\" class=\"dataframe\">\n",
       "  <thead>\n",
       "    <tr style=\"text-align: right;\">\n",
       "      <th></th>\n",
       "      <th></th>\n",
       "      <th>a</th>\n",
       "      <th>b</th>\n",
       "      <th>c</th>\n",
       "    </tr>\n",
       "    <tr>\n",
       "      <th>n</th>\n",
       "      <th>v</th>\n",
       "      <th></th>\n",
       "      <th></th>\n",
       "      <th></th>\n",
       "    </tr>\n",
       "  </thead>\n",
       "  <tbody>\n",
       "    <tr>\n",
       "      <th rowspan=\"2\" valign=\"top\">d</th>\n",
       "      <th>1</th>\n",
       "      <td>4</td>\n",
       "      <td>7</td>\n",
       "      <td>10</td>\n",
       "    </tr>\n",
       "    <tr>\n",
       "      <th>2</th>\n",
       "      <td>5</td>\n",
       "      <td>8</td>\n",
       "      <td>11</td>\n",
       "    </tr>\n",
       "    <tr>\n",
       "      <th>e</th>\n",
       "      <th>2</th>\n",
       "      <td>6</td>\n",
       "      <td>9</td>\n",
       "      <td>12</td>\n",
       "    </tr>\n",
       "  </tbody>\n",
       "</table>\n",
       "</div>"
      ],
      "text/plain": [
       "     a  b   c\n",
       "n v          \n",
       "d 1  4  7  10\n",
       "  2  5  8  11\n",
       "e 2  6  9  12"
      ]
     },
     "execution_count": 62,
     "metadata": {},
     "output_type": "execute_result"
    }
   ],
   "source": [
    "df"
   ]
  },
  {
   "cell_type": "code",
   "execution_count": 64,
   "id": "aa4bc1ba",
   "metadata": {},
   "outputs": [
    {
     "name": "stdout",
     "output_type": "stream",
     "text": [
      "n  v\n",
      "d  1    True\n",
      "   2    True\n",
      "e  2    True\n",
      "Name: a, dtype: bool\n",
      "\n",
      "     a  b   c\n",
      "n v          \n",
      "d 2  5  8  11\n",
      "e 2  6  9  12\n"
     ]
    }
   ],
   "source": [
    "# 논리 연산자\n",
    "print(df[\"a\"] != 7)\n",
    "print()\n",
    "\n",
    "# 데이터 프레임 형태로 출력\n",
    "print(df[df[\"b\"] != 7])"
   ]
  },
  {
   "cell_type": "code",
   "execution_count": 71,
   "id": "986040c2",
   "metadata": {},
   "outputs": [
    {
     "name": "stdout",
     "output_type": "stream",
     "text": [
      "n  v\n",
      "d  1    False\n",
      "   2     True\n",
      "e  2    False\n",
      "Name: a, dtype: bool\n",
      "\n",
      "         a      b      c\n",
      "n v                     \n",
      "d 1  False  False  False\n",
      "  2   True  False  False\n",
      "e 2  False  False  False\n"
     ]
    }
   ],
   "source": [
    "# .isin()\n",
    "print(df[\"a\"].isin([5]))\n",
    "print()\n",
    "\n",
    "# print(df[[df[\"a\"].isin[5]]])\n",
    "# 이 형태로 사용하는건 불가능!\n",
    "\n",
    "print(df.isin([5]))"
   ]
  },
  {
   "cell_type": "code",
   "execution_count": 79,
   "id": "3207a095",
   "metadata": {},
   "outputs": [
    {
     "name": "stdout",
     "output_type": "stream",
     "text": [
      "         a      b      c\n",
      "n v                     \n",
      "d 1  False  False  False\n",
      "  2  False  False  False\n",
      "e 2  False  False  False\n",
      "\n",
      "\n",
      "\n",
      "       a    b     c\n",
      "n v                \n",
      "d 1  4.0  7.0  10.0\n",
      "  2  5.0  8.0  11.0\n",
      "e 3  6.0  NaN  12.0\n",
      "  3  6.0  9.0   NaN\n",
      "  3  NaN  9.0  12.0\n",
      "\n",
      "\n",
      "\n",
      "         a      b      c\n",
      "n v                     \n",
      "d 1  False  False  False\n",
      "  2  False  False  False\n",
      "e 3  False   True  False\n",
      "  3  False  False   True\n",
      "  3   True  False  False\n",
      "         a      b      c\n",
      "n v                     \n",
      "d 1  False  False  False\n",
      "  2  False  False  False\n",
      "e 3  False   True  False\n",
      "  3  False  False   True\n",
      "  3   True  False  False\n",
      "\n",
      "\n",
      "\n",
      "n  v\n",
      "d  1    False\n",
      "   2    False\n",
      "e  3    False\n",
      "   3    False\n",
      "   3     True\n",
      "Name: a, dtype: bool\n",
      "1\n",
      "\n",
      "\n",
      "\n",
      "        a     b     c\n",
      "n v                  \n",
      "d 1  True  True  True\n",
      "  2  True  True  True\n",
      "e 2  True  True  True\n",
      "3\n"
     ]
    }
   ],
   "source": [
    "# .isnull()\n",
    "print(df.isnull())\n",
    "print(\"\\n\\n\")\n",
    "\n",
    "df3 = pd.DataFrame(\n",
    "    {\"a\" : [4, 5, 6, 6, np.nan], \n",
    "     \"b\" : [7, 8, np.nan, 9, 9], \n",
    "     \"c\" : [10, 11, 12, np.nan, 12]}, \n",
    "     index = pd.MultiIndex.from_tuples(\n",
    "         [(\"d\", 1), (\"d\", 2), (\"e\", 3), (\"e\", 3), (\"e\", 3)], \n",
    "         names = [\"n\", \"v\"]))\n",
    "print(df3)\n",
    "print(\"\\n\\n\")\n",
    "\n",
    "print(pd.isnull(df3))\n",
    "print(df3.isnull())\n",
    "# 둘이 같은거\n",
    "print(\"\\n\\n\")\n",
    "\n",
    "# null 합계\n",
    "print(df3[\"a\"].isnull())\n",
    "print(df3[\"a\"].isnull().sum())\n",
    "print(\"\\n\\n\")\n",
    "\n",
    "\n",
    "# not null\n",
    "print(df.notnull())\n",
    "print(df.a.notnull().sum())"
   ]
  },
  {
   "cell_type": "code",
   "execution_count": 90,
   "id": "21a22f1a",
   "metadata": {},
   "outputs": [
    {
     "name": "stdout",
     "output_type": "stream",
     "text": [
      "a    True\n",
      "b    True\n",
      "c    True\n",
      "dtype: bool\n",
      "n  v\n",
      "d  1    False\n",
      "   2    False\n",
      "e  3    False\n",
      "   3    False\n",
      "   3     True\n",
      "Name: a, dtype: bool\n",
      "n  v\n",
      "d  1     True\n",
      "   2     True\n",
      "e  3     True\n",
      "   3     True\n",
      "   3    False\n",
      "Name: a, dtype: bool\n"
     ]
    }
   ],
   "source": [
    "# .any()\n",
    "# 어떤 값이 있는지?\n",
    "print(df3.any())\n",
    "print(~df3.a.notnull())\n",
    "print(df3.a.notnull())\n",
    "# ~ 는 토글의 의미 인듯. not 역할? 반대로"
   ]
  },
  {
   "cell_type": "code",
   "execution_count": 125,
   "id": "27e0a6f6",
   "metadata": {},
   "outputs": [],
   "source": [
    "# 논리연산자\n",
    "# 데이터 프레임에서 and 사용 불가능\n",
    "# print(df3[df3.b == 7] | df3[df3.a == 5])\n",
    "# 오류 발생\n",
    "# ?"
   ]
  },
  {
   "cell_type": "markdown",
   "id": "77d48999",
   "metadata": {},
   "source": [
    "<hr>"
   ]
  },
  {
   "cell_type": "markdown",
   "id": "dcabe5d2",
   "metadata": {},
   "source": [
    "## 실습 5 Subset_observation(Rows)"
   ]
  },
  {
   "cell_type": "code",
   "execution_count": 96,
   "id": "cb803729",
   "metadata": {},
   "outputs": [
    {
     "name": "stdout",
     "output_type": "stream",
     "text": [
      "     a  b   c\n",
      "n v          \n",
      "d 1  4  7  10\n",
      "  2  5  8  11\n",
      "e 2  6  9  12\n",
      "     a  b   c\n",
      "n v          \n",
      "d 2  5  8  11\n",
      "e 2  6  9  12\n"
     ]
    }
   ],
   "source": [
    "# head, tail\n",
    "# default 5\n",
    "\n",
    "print(df.head(3))\n",
    "print(df.tail(2))"
   ]
  },
  {
   "cell_type": "code",
   "execution_count": 109,
   "id": "0a1349e0",
   "metadata": {},
   "outputs": [
    {
     "name": "stdout",
     "output_type": "stream",
     "text": [
      "       a    b     c\n",
      "n v                \n",
      "e 3  6.0  9.0   NaN\n",
      "d 2  5.0  8.0  11.0\n",
      "       a    b     c\n",
      "n v                \n",
      "e 3  6.0  NaN  12.0\n",
      "  3  NaN  9.0  12.0\n",
      "  3  6.0  9.0   NaN\n"
     ]
    }
   ],
   "source": [
    "# sample\n",
    "print(df3.sample(frac = 0.5))\n",
    "# frac : 지정한 비율로 랜덤하게 샘플링\n",
    "\n",
    "# n : 몇개 추출할건지?\n",
    "# print(df3.sample(n = 6))\n",
    "# 행 수를 넘어서 지정했기에 오류 발생\n",
    "print(df3.sample(n = 3))\n",
    "\n",
    "# 비율로 샘플링 : frac = 0.nn\n",
    "# 지정된 횟수, 개수로 샘플링 : n = x"
   ]
  },
  {
   "cell_type": "code",
   "execution_count": 118,
   "id": "39c6d6a0",
   "metadata": {},
   "outputs": [
    {
     "name": "stdout",
     "output_type": "stream",
     "text": [
      "Empty DataFrame\n",
      "Columns: []\n",
      "Index: [(d, 1), (d, 2)]\n"
     ]
    },
    {
     "data": {
      "text/html": [
       "<div>\n",
       "<style scoped>\n",
       "    .dataframe tbody tr th:only-of-type {\n",
       "        vertical-align: middle;\n",
       "    }\n",
       "\n",
       "    .dataframe tbody tr th {\n",
       "        vertical-align: top;\n",
       "    }\n",
       "\n",
       "    .dataframe thead th {\n",
       "        text-align: right;\n",
       "    }\n",
       "</style>\n",
       "<table border=\"1\" class=\"dataframe\">\n",
       "  <thead>\n",
       "    <tr style=\"text-align: right;\">\n",
       "      <th></th>\n",
       "      <th></th>\n",
       "      <th>a</th>\n",
       "      <th>b</th>\n",
       "    </tr>\n",
       "    <tr>\n",
       "      <th>n</th>\n",
       "      <th>v</th>\n",
       "      <th></th>\n",
       "      <th></th>\n",
       "    </tr>\n",
       "  </thead>\n",
       "  <tbody>\n",
       "    <tr>\n",
       "      <th rowspan=\"2\" valign=\"top\">d</th>\n",
       "      <th>1</th>\n",
       "      <td>4.0</td>\n",
       "      <td>7.0</td>\n",
       "    </tr>\n",
       "    <tr>\n",
       "      <th>2</th>\n",
       "      <td>5.0</td>\n",
       "      <td>8.0</td>\n",
       "    </tr>\n",
       "  </tbody>\n",
       "</table>\n",
       "</div>"
      ],
      "text/plain": [
       "       a    b\n",
       "n v          \n",
       "d 1  4.0  7.0\n",
       "  2  5.0  8.0"
      ]
     },
     "execution_count": 118,
     "metadata": {},
     "output_type": "execute_result"
    }
   ],
   "source": [
    "# iloc\n",
    "# df3.iloc[10:20]\n",
    "print(df3.iloc[:2, 3:])\n",
    "df3.iloc[:2, :-1]"
   ]
  },
  {
   "cell_type": "code",
   "execution_count": 123,
   "id": "ac57c2dc",
   "metadata": {},
   "outputs": [
    {
     "name": "stdout",
     "output_type": "stream",
     "text": [
      "    a  b    c\n",
      "0   1  a  1.0\n",
      "1  10  b  2.0\n",
      "2   8  c  NaN\n",
      "3  11  d  3.0\n",
      "4  -1  e  4.0\n",
      "\n",
      "\n",
      "\n",
      "    a  b    c\n",
      "3  11  d  3.0\n",
      "\n",
      "    a  b    c\n",
      "4  -1  e  4.0\n",
      "3  11  d  3.0\n",
      "1  10  b  2.0\n"
     ]
    }
   ],
   "source": [
    "# .nlargest[n, value]\n",
    "\n",
    "df4 = pd.DataFrame({\"a\" : [1, 10, 8, 11, -1], \n",
    "                    \"b\" : list(\"abcde\"), \n",
    "                    \"c\" : [1.0, 2.0, np.nan, 3.0, 4.0]})\n",
    "print(df4)\n",
    "print(\"\\n\\n\")\n",
    "\n",
    "\n",
    "print(df4.nlargest(1, \"a\"))\n",
    "# a열에서 가장 큰 값\n",
    "print()\n",
    "\n",
    "# print(df.nlargest(1, 'b'))\n",
    "# 데이터가 숫자일때문 가능\n",
    "\n",
    "print(df4.nlargest(3, \"c\"))\n",
    "# 큰 순서대로 3개 가져옴"
   ]
  },
  {
   "cell_type": "markdown",
   "id": "3fc753fc",
   "metadata": {},
   "source": [
    "<hr>"
   ]
  },
  {
   "cell_type": "markdown",
   "id": "8f90b21d",
   "metadata": {},
   "source": [
    "## 실습 6 Subset_observation(Columns)"
   ]
  },
  {
   "cell_type": "code",
   "execution_count": 126,
   "id": "673aaeef",
   "metadata": {},
   "outputs": [
    {
     "data": {
      "text/html": [
       "<div>\n",
       "<style scoped>\n",
       "    .dataframe tbody tr th:only-of-type {\n",
       "        vertical-align: middle;\n",
       "    }\n",
       "\n",
       "    .dataframe tbody tr th {\n",
       "        vertical-align: top;\n",
       "    }\n",
       "\n",
       "    .dataframe thead th {\n",
       "        text-align: right;\n",
       "    }\n",
       "</style>\n",
       "<table border=\"1\" class=\"dataframe\">\n",
       "  <thead>\n",
       "    <tr style=\"text-align: right;\">\n",
       "      <th></th>\n",
       "      <th>sepal_length</th>\n",
       "      <th>sepal_width</th>\n",
       "      <th>petal_length</th>\n",
       "      <th>petal_width</th>\n",
       "      <th>species</th>\n",
       "    </tr>\n",
       "  </thead>\n",
       "  <tbody>\n",
       "    <tr>\n",
       "      <th>0</th>\n",
       "      <td>5.1</td>\n",
       "      <td>3.5</td>\n",
       "      <td>1.4</td>\n",
       "      <td>0.2</td>\n",
       "      <td>setosa</td>\n",
       "    </tr>\n",
       "    <tr>\n",
       "      <th>1</th>\n",
       "      <td>4.9</td>\n",
       "      <td>3.0</td>\n",
       "      <td>1.4</td>\n",
       "      <td>0.2</td>\n",
       "      <td>setosa</td>\n",
       "    </tr>\n",
       "    <tr>\n",
       "      <th>2</th>\n",
       "      <td>4.7</td>\n",
       "      <td>3.2</td>\n",
       "      <td>1.3</td>\n",
       "      <td>0.2</td>\n",
       "      <td>setosa</td>\n",
       "    </tr>\n",
       "    <tr>\n",
       "      <th>3</th>\n",
       "      <td>4.6</td>\n",
       "      <td>3.1</td>\n",
       "      <td>1.5</td>\n",
       "      <td>0.2</td>\n",
       "      <td>setosa</td>\n",
       "    </tr>\n",
       "    <tr>\n",
       "      <th>4</th>\n",
       "      <td>5.0</td>\n",
       "      <td>3.6</td>\n",
       "      <td>1.4</td>\n",
       "      <td>0.2</td>\n",
       "      <td>setosa</td>\n",
       "    </tr>\n",
       "  </tbody>\n",
       "</table>\n",
       "</div>"
      ],
      "text/plain": [
       "   sepal_length  sepal_width  petal_length  petal_width species\n",
       "0           5.1          3.5           1.4          0.2  setosa\n",
       "1           4.9          3.0           1.4          0.2  setosa\n",
       "2           4.7          3.2           1.3          0.2  setosa\n",
       "3           4.6          3.1           1.5          0.2  setosa\n",
       "4           5.0          3.6           1.4          0.2  setosa"
      ]
     },
     "execution_count": 126,
     "metadata": {},
     "output_type": "execute_result"
    }
   ],
   "source": [
    "df = sns.load_dataset(\"iris\")\n",
    "df.head()"
   ]
  },
  {
   "cell_type": "code",
   "execution_count": 129,
   "id": "c2c17262",
   "metadata": {},
   "outputs": [
    {
     "data": {
      "text/html": [
       "<div>\n",
       "<style scoped>\n",
       "    .dataframe tbody tr th:only-of-type {\n",
       "        vertical-align: middle;\n",
       "    }\n",
       "\n",
       "    .dataframe tbody tr th {\n",
       "        vertical-align: top;\n",
       "    }\n",
       "\n",
       "    .dataframe thead th {\n",
       "        text-align: right;\n",
       "    }\n",
       "</style>\n",
       "<table border=\"1\" class=\"dataframe\">\n",
       "  <thead>\n",
       "    <tr style=\"text-align: right;\">\n",
       "      <th></th>\n",
       "      <th>sepal_length</th>\n",
       "      <th>sepal_width</th>\n",
       "      <th>species</th>\n",
       "    </tr>\n",
       "  </thead>\n",
       "  <tbody>\n",
       "    <tr>\n",
       "      <th>0</th>\n",
       "      <td>5.1</td>\n",
       "      <td>3.5</td>\n",
       "      <td>setosa</td>\n",
       "    </tr>\n",
       "    <tr>\n",
       "      <th>1</th>\n",
       "      <td>4.9</td>\n",
       "      <td>3.0</td>\n",
       "      <td>setosa</td>\n",
       "    </tr>\n",
       "    <tr>\n",
       "      <th>2</th>\n",
       "      <td>4.7</td>\n",
       "      <td>3.2</td>\n",
       "      <td>setosa</td>\n",
       "    </tr>\n",
       "    <tr>\n",
       "      <th>3</th>\n",
       "      <td>4.6</td>\n",
       "      <td>3.1</td>\n",
       "      <td>setosa</td>\n",
       "    </tr>\n",
       "    <tr>\n",
       "      <th>4</th>\n",
       "      <td>5.0</td>\n",
       "      <td>3.6</td>\n",
       "      <td>setosa</td>\n",
       "    </tr>\n",
       "  </tbody>\n",
       "</table>\n",
       "</div>"
      ],
      "text/plain": [
       "   sepal_length  sepal_width species\n",
       "0           5.1          3.5  setosa\n",
       "1           4.9          3.0  setosa\n",
       "2           4.7          3.2  setosa\n",
       "3           4.6          3.1  setosa\n",
       "4           5.0          3.6  setosa"
      ]
     },
     "execution_count": 129,
     "metadata": {},
     "output_type": "execute_result"
    }
   ],
   "source": [
    "columns = [\"sepal_length\", \"sepal_width\", \"species\"]\n",
    "df[columns].head()"
   ]
  },
  {
   "cell_type": "code",
   "execution_count": 130,
   "id": "2bdc3ae8",
   "metadata": {},
   "outputs": [
    {
     "data": {
      "text/plain": [
       "0    3.5\n",
       "1    3.0\n",
       "2    3.2\n",
       "3    3.1\n",
       "4    3.6\n",
       "Name: sepal_width, dtype: float64"
      ]
     },
     "execution_count": 130,
     "metadata": {},
     "output_type": "execute_result"
    }
   ],
   "source": [
    "df[\"sepal_width\"].head()"
   ]
  },
  {
   "cell_type": "code",
   "execution_count": 133,
   "id": "a4a649f9",
   "metadata": {},
   "outputs": [
    {
     "name": "stdout",
     "output_type": "stream",
     "text": [
      "\n"
     ]
    },
    {
     "data": {
      "text/html": [
       "<div>\n",
       "<style scoped>\n",
       "    .dataframe tbody tr th:only-of-type {\n",
       "        vertical-align: middle;\n",
       "    }\n",
       "\n",
       "    .dataframe tbody tr th {\n",
       "        vertical-align: top;\n",
       "    }\n",
       "\n",
       "    .dataframe thead th {\n",
       "        text-align: right;\n",
       "    }\n",
       "</style>\n",
       "<table border=\"1\" class=\"dataframe\">\n",
       "  <thead>\n",
       "    <tr style=\"text-align: right;\">\n",
       "      <th></th>\n",
       "      <th>sepal_length</th>\n",
       "      <th>sepal_width</th>\n",
       "      <th>petal_length</th>\n",
       "      <th>petal_width</th>\n",
       "    </tr>\n",
       "  </thead>\n",
       "  <tbody>\n",
       "    <tr>\n",
       "      <th>0</th>\n",
       "      <td>5.1</td>\n",
       "      <td>3.5</td>\n",
       "      <td>1.4</td>\n",
       "      <td>0.2</td>\n",
       "    </tr>\n",
       "    <tr>\n",
       "      <th>1</th>\n",
       "      <td>4.9</td>\n",
       "      <td>3.0</td>\n",
       "      <td>1.4</td>\n",
       "      <td>0.2</td>\n",
       "    </tr>\n",
       "    <tr>\n",
       "      <th>2</th>\n",
       "      <td>4.7</td>\n",
       "      <td>3.2</td>\n",
       "      <td>1.3</td>\n",
       "      <td>0.2</td>\n",
       "    </tr>\n",
       "    <tr>\n",
       "      <th>3</th>\n",
       "      <td>4.6</td>\n",
       "      <td>3.1</td>\n",
       "      <td>1.5</td>\n",
       "      <td>0.2</td>\n",
       "    </tr>\n",
       "    <tr>\n",
       "      <th>4</th>\n",
       "      <td>5.0</td>\n",
       "      <td>3.6</td>\n",
       "      <td>1.4</td>\n",
       "      <td>0.2</td>\n",
       "    </tr>\n",
       "    <tr>\n",
       "      <th>...</th>\n",
       "      <td>...</td>\n",
       "      <td>...</td>\n",
       "      <td>...</td>\n",
       "      <td>...</td>\n",
       "    </tr>\n",
       "    <tr>\n",
       "      <th>145</th>\n",
       "      <td>6.7</td>\n",
       "      <td>3.0</td>\n",
       "      <td>5.2</td>\n",
       "      <td>2.3</td>\n",
       "    </tr>\n",
       "    <tr>\n",
       "      <th>146</th>\n",
       "      <td>6.3</td>\n",
       "      <td>2.5</td>\n",
       "      <td>5.0</td>\n",
       "      <td>1.9</td>\n",
       "    </tr>\n",
       "    <tr>\n",
       "      <th>147</th>\n",
       "      <td>6.5</td>\n",
       "      <td>3.0</td>\n",
       "      <td>5.2</td>\n",
       "      <td>2.0</td>\n",
       "    </tr>\n",
       "    <tr>\n",
       "      <th>148</th>\n",
       "      <td>6.2</td>\n",
       "      <td>3.4</td>\n",
       "      <td>5.4</td>\n",
       "      <td>2.3</td>\n",
       "    </tr>\n",
       "    <tr>\n",
       "      <th>149</th>\n",
       "      <td>5.9</td>\n",
       "      <td>3.0</td>\n",
       "      <td>5.1</td>\n",
       "      <td>1.8</td>\n",
       "    </tr>\n",
       "  </tbody>\n",
       "</table>\n",
       "<p>150 rows × 4 columns</p>\n",
       "</div>"
      ],
      "text/plain": [
       "     sepal_length  sepal_width  petal_length  petal_width\n",
       "0             5.1          3.5           1.4          0.2\n",
       "1             4.9          3.0           1.4          0.2\n",
       "2             4.7          3.2           1.3          0.2\n",
       "3             4.6          3.1           1.5          0.2\n",
       "4             5.0          3.6           1.4          0.2\n",
       "..            ...          ...           ...          ...\n",
       "145           6.7          3.0           5.2          2.3\n",
       "146           6.3          2.5           5.0          1.9\n",
       "147           6.5          3.0           5.2          2.0\n",
       "148           6.2          3.4           5.4          2.3\n",
       "149           5.9          3.0           5.1          1.8\n",
       "\n",
       "[150 rows x 4 columns]"
      ]
     },
     "execution_count": 133,
     "metadata": {},
     "output_type": "execute_result"
    }
   ],
   "source": [
    "# 정규표현식\n",
    "\n",
    "# df.filter(regex = \"regex\")\n",
    "df.filter(regex = \"_\")\n",
    "# column name에 _가 포함된 column 가져옴\n",
    "print()\n",
    "\n",
    "# . : 문자 하나 대체\n",
    "# a$ : a로 끝나는 컬럼만 가져옴\n",
    "# ^a : a로 시작하는 컬럼 가져옴\n",
    "\n",
    "\n",
    "df.filter(regex = \"^(?!species$).*\")\n",
    "# species로 끝나는 것을 제외하고 모두 추출"
   ]
  },
  {
   "cell_type": "code",
   "execution_count": 141,
   "id": "17d6a7f7",
   "metadata": {},
   "outputs": [
    {
     "name": "stdout",
     "output_type": "stream",
     "text": [
      "     sepal_width  petal_length  petal_width\n",
      "2            3.2           1.3          0.2\n",
      "3            3.1           1.5          0.2\n",
      "4            3.6           1.4          0.2\n",
      "5            3.9           1.7          0.4\n",
      "6            3.4           1.4          0.3\n",
      "..           ...           ...          ...\n",
      "145          3.0           5.2          2.3\n",
      "146          2.5           5.0          1.9\n",
      "147          3.0           5.2          2.0\n",
      "148          3.4           5.4          2.3\n",
      "149          3.0           5.1          1.8\n",
      "\n",
      "[148 rows x 3 columns]\n",
      "     sepal_width  petal_length\n",
      "2            3.2           1.3\n",
      "3            3.1           1.5\n",
      "4            3.6           1.4\n",
      "5            3.9           1.7\n",
      "6            3.4           1.4\n",
      "..           ...           ...\n",
      "145          3.0           5.2\n",
      "146          2.5           5.0\n",
      "147          3.0           5.2\n",
      "148          3.4           5.4\n",
      "149          3.0           5.1\n",
      "\n",
      "[148 rows x 2 columns]\n",
      "\n",
      "    sepal_length  sepal_width\n",
      "0            5.1          3.5\n",
      "5            5.4          3.9\n",
      "10           5.4          3.7\n",
      "14           5.8          4.0\n",
      "15           5.7          4.4\n"
     ]
    }
   ],
   "source": [
    "# loc\n",
    "\n",
    "# 슬라이싱\n",
    "print(df.loc[2:, \"sepal_width\":\"petal_width\"])\n",
    "print(df.iloc[2:, 1:3])\n",
    "print()\n",
    "\n",
    "\n",
    "# 논리연산\n",
    "print(df.loc[df[\"sepal_length\"]>5, [\"sepal_length\", \"sepal_width\"]].head())\n"
   ]
  },
  {
   "cell_type": "code",
   "execution_count": null,
   "id": "75345da2",
   "metadata": {},
   "outputs": [],
   "source": []
  }
 ],
 "metadata": {
  "kernelspec": {
   "display_name": "Python 3",
   "language": "python",
   "name": "python3"
  },
  "language_info": {
   "codemirror_mode": {
    "name": "ipython",
    "version": 3
   },
   "file_extension": ".py",
   "mimetype": "text/x-python",
   "name": "python",
   "nbconvert_exporter": "python",
   "pygments_lexer": "ipython3",
   "version": "3.8.8"
  }
 },
 "nbformat": 4,
 "nbformat_minor": 5
}
