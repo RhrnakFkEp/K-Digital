{
 "cells": [
  {
   "cell_type": "markdown",
   "id": "b71febc6",
   "metadata": {},
   "source": [
    "# 1. 데이터 시각화란 무엇인가?\n",
    "2021-06-01\n",
    "<li>영우 글로벌 러닝 판다스 보충강의 1</li>\n",
    "<li>데이터 시각화란 무엇인가</li>\n",
    "<li><a href = https://www.youtube.com/watch?v=_VMXD7W2gZc>강의 유튜브 링크</a></li>\n"
   ]
  },
  {
   "cell_type": "markdown",
   "id": "6fb1460e",
   "metadata": {},
   "source": [
    "### 데이터 시각화 이유?\n",
    "데이터의 <b>통계적 수치가 같아도 그래프를 그리면 전혀 다른 분포</b>를 보임"
   ]
  },
  {
   "cell_type": "markdown",
   "id": "f47dba37",
   "metadata": {},
   "source": [
    "### 데이터 시각화 개념?\n",
    "- <b>데이터 분석, 가공하여 데이터 분석 결과를 쉽게 이해할 수 있도록 시각적으로 표현하고 전달하는 과정</b>\n",
    "- 그래프라는 수단을 통해 <b>정보를 명확하고 효과적으로 전달</b>하는 것이 목적\n",
    "- 사람이 보다 쉽고 빠르게 이해할 수 있도록하는 <b>기술이자 커뮤니케이션 도구</b>"
   ]
  },
  {
   "cell_type": "markdown",
   "id": "aa4fbc40",
   "metadata": {},
   "source": [
    "### 고려사항?\n",
    "- <b>많은 처리과정과 계산</b>\n",
    "- 범위와 대상을 최대한 <b>좁혀서 구체적으로</b> 만들어야함\n",
    "- <b>어떤 활동때문에</b> 차트의 선이 오르내리는지 보여줘야함"
   ]
  },
  {
   "cell_type": "markdown",
   "id": "a01348c1",
   "metadata": {},
   "source": [
    "<hr>"
   ]
  },
  {
   "cell_type": "markdown",
   "id": "cceba8ea",
   "metadata": {},
   "source": [
    "### 인포그래픽? \n",
    "- <b>information + graphic. 정보를 시각화</b>\n",
    "\n",
    "### 대시보드?\n",
    "- powerBI\n",
    "- <b>상황모니터링하거나 이해를 돕거나</b> 둘 다에 사용하는 데이터 시각적 표시\n",
    "- e.g. powerBI로 만든 대시보드, PDF 파일\n",
    "\n",
    "### 차트?\n",
    "- <b>데이터를 그래픽적으로 표현</b>한것.\n",
    "- 버블차트, 라인차트 등\n",
    "- 비교, 어떤 파트에 속하는지,? 경향, 상관관계, 범위 등을 파악하는데 사용"
   ]
  },
  {
   "cell_type": "markdown",
   "id": "ad828139",
   "metadata": {},
   "source": [
    "<hr>"
   ]
  },
  {
   "cell_type": "markdown",
   "id": "c1af4453",
   "metadata": {},
   "source": [
    "### 대시보드 설계와 보고서 구성법\n",
    "\n",
    "#### 대시보드 설계\n",
    "- 데이터 가져오고(CSV, Excel 등) 정리(전처리 : 가장 오래걸리고 중요함 파워비아이 판다스 등 사용)\n",
    "- 보고서 시각화\n",
    "- 반응형 보고서 제작(powerBI, matplotlib 등)\n",
    "- 보고서 게시"
   ]
  },
  {
   "cell_type": "markdown",
   "id": "cfbaabac",
   "metadata": {},
   "source": [
    "<hr>"
   ]
  },
  {
   "cell_type": "markdown",
   "id": "be87b497",
   "metadata": {},
   "source": [
    "### 데이터 유형?\n",
    "#### 정성적 데이터\n",
    "<ul><b>범주형 데이터</b> (Norminal, 명목형 데이터)\n",
    "    <li>사물. 어떤 숫자 값도 없는 상호 배타적인 레이블</li>\n",
    "    <li>e.g. 남/여, 국/영/수</li></ul>\n",
    "<ul><b>순서형 데이터</b>\n",
    "    <li>순서있으며, 값 사이 간격 일정하지 않음</li>\n",
    "    <li>e.g. 나이순(영아, 유아, 어린이, 청소년), 성적순(A~F)</li>\n",
    "</ul>\n",
    "\n",
    "#### 정량적 데이터\n",
    "숫자로 측정, 분류 가능한 데이터. 이산데이터와 연속데이터로 나뉨\n",
    "e.g. 키, 몸무게, 나이\n",
    "    <ul><b>이산데이터</b> \n",
    "        <li>정수형으로 나타나짐</li></ul>\n",
    "    <ul><b>연속데이터</b>\n",
    "        <li>실수형으로 나타나짐. 수와 수 사이에 무한한 수가 있음</li></ul>"
   ]
  },
  {
   "cell_type": "markdown",
   "id": "287ca44e",
   "metadata": {},
   "source": [
    "<hr>"
   ]
  },
  {
   "cell_type": "markdown",
   "id": "599df23e",
   "metadata": {},
   "source": [
    "### 데이터시각화_색상?\n",
    "- 데이터시각화에서 가장 중요한 요소 중 하나\n",
    "- 오용하는 경우 많음\n",
    "- 순차, 발산, 범주, 강조, 경고를 구분하기 위한 목적으로 사용\n",
    "- 명확한 의도를 가지고 색을 사용해야함\n",
    "<hr>\n",
    "- 순차 : 밝은색부터 어두운색까지 단색으로 표현\n",
    "- 발산 : 중간점에서 발생하는 범위 표시. 2가지 상반되는 데이터 시각화 혹은 2가지 카테고리 중 1가지 측정범위 나타낼 때 사용\n",
    "- 범주 : 카테고리에 따라 색상 구별\n",
    "- 강조 : 특정 강조할 부분 색을 다르게\n",
    "- 경고 : 사용자 주목 끌어야 할 때. 밝고 경종 울리는 색 사용. 주황, 빨강 등"
   ]
  },
  {
   "cell_type": "markdown",
   "id": "e0b8b8de",
   "metadata": {},
   "source": [
    "<hr>"
   ]
  },
  {
   "cell_type": "markdown",
   "id": "9a73455e",
   "metadata": {},
   "source": [
    "### 핵심 차트\n",
    "- 지역 지도 차트(Geo Chart) : 지역별 정의된 영역내에서 음영이나 색 차이로 영역 값이나 카테고리 표시"
   ]
  },
  {
   "cell_type": "code",
   "execution_count": null,
   "id": "3799c978",
   "metadata": {},
   "outputs": [],
   "source": []
  }
 ],
 "metadata": {
  "kernelspec": {
   "display_name": "Python 3",
   "language": "python",
   "name": "python3"
  },
  "language_info": {
   "codemirror_mode": {
    "name": "ipython",
    "version": 3
   },
   "file_extension": ".py",
   "mimetype": "text/x-python",
   "name": "python",
   "nbconvert_exporter": "python",
   "pygments_lexer": "ipython3",
   "version": "3.8.8"
  }
 },
 "nbformat": 4,
 "nbformat_minor": 5
}
