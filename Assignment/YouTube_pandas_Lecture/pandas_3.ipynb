{
 "cells": [
  {
   "cell_type": "markdown",
   "id": "77b5ba69",
   "metadata": {},
   "source": [
    "# 3. 데이터 요약, 결측치 다루기, 새로운 컬럼 만들기\n",
    "2021-06-05\n",
    "\n",
    "<li>영우 글로벌 러닝 판다스 보충강의 3</li>\n",
    "<li>데이터 요약, 결측치 다루기, 새로운 컬럼 만들기</li>\n",
    "<li><a href = https://www.youtube.com/watch?v=6wBvax3yvYI>강의 유튜브 링크</a>"
   ]
  },
  {
   "cell_type": "markdown",
   "id": "df013a14",
   "metadata": {},
   "source": [
    "sum() : 합계<br>\n",
    "median() : 중앙값<br>\n",
    "qunatile() : 사분위수. 지정해서 출력가능<br>\n",
    "apply(function) : 함수 적용<br>\n",
    "min() : 최소<br>\n",
    "max() : 최대<br>\n",
    "min과 max에는 axis를 지정해줄 수 있음<br>\n",
    "mean() : 평균<br>\n",
    "var() : 분산<br>\n",
    "std() : 표준편차\n",
    "corr() : 상관계수\n",
    "value_conts() : 시리즈 객체 고유값 개수 카운트\n",
    "unique() : unique 값의 개수\n",
    "describe() : include, exclude, 요약"
   ]
  },
  {
   "cell_type": "code",
   "execution_count": 1,
   "id": "c2430f90",
   "metadata": {},
   "outputs": [],
   "source": [
    "# import \n",
    "\n",
    "import pandas as pd\n",
    "import numpy as np\n",
    "import seaborn as sns"
   ]
  },
  {
   "cell_type": "code",
   "execution_count": 2,
   "id": "19115bc7",
   "metadata": {},
   "outputs": [
    {
     "name": "stdout",
     "output_type": "stream",
     "text": [
      "(150, 5)\n",
      "\n",
      "   sepal_length  sepal_width  petal_length  petal_width species\n",
      "0           5.1          3.5           1.4          0.2  setosa\n",
      "1           4.9          3.0           1.4          0.2  setosa\n",
      "2           4.7          3.2           1.3          0.2  setosa\n",
      "3           4.6          3.1           1.5          0.2  setosa\n",
      "4           5.0          3.6           1.4          0.2  setosa\n"
     ]
    }
   ],
   "source": [
    "# iris\n",
    "df = sns.load_dataset(\"iris\")\n",
    "\n",
    "print(df.shape) # 150, 5\n",
    "print()\n",
    "print(df.head())"
   ]
  },
  {
   "cell_type": "code",
   "execution_count": 3,
   "id": "d69304c2",
   "metadata": {},
   "outputs": [
    {
     "name": "stdout",
     "output_type": "stream",
     "text": [
      "versicolor    50\n",
      "setosa        50\n",
      "virginica     50\n",
      "Name: species, dtype: int64\n",
      "\n",
      "     petal_width\n",
      "0.2           29\n",
      "1.3           13\n",
      "1.5           12\n",
      "1.8           12\n",
      "1.4            8\n",
      "2.3            8\n",
      "1.0            7\n",
      "0.4            7\n",
      "0.3            7\n",
      "2.1            6\n",
      "2.0            6\n",
      "1.2            5\n",
      "1.9            5\n",
      "0.1            5\n",
      "1.6            4\n",
      "2.5            3\n",
      "2.2            3\n",
      "1.1            3\n",
      "2.4            3\n",
      "1.7            2\n",
      "0.5            1\n",
      "0.6            1\n"
     ]
    }
   ],
   "source": [
    "# value_counts()\n",
    "\n",
    "print(df[\"species\"].value_counts())   # 범주\n",
    "print()\n",
    "print(pd.DataFrame(df[\"petal_width\"].value_counts())) # 수치. 데이터프레임으로 변환"
   ]
  },
  {
   "cell_type": "code",
   "execution_count": 4,
   "id": "c0b818f9",
   "metadata": {},
   "outputs": [
    {
     "name": "stdout",
     "output_type": "stream",
     "text": [
      "150\n",
      "\n",
      "150\n",
      "5\n",
      "\n"
     ]
    }
   ],
   "source": [
    "# len\n",
    "print(len(df))  # 행\n",
    "print()\n",
    "\n",
    "# .shape()\n",
    "print(df.shape[0])  # 행\n",
    "print(df.shape[1])  # 열\n",
    "print()"
   ]
  },
  {
   "cell_type": "code",
   "execution_count": 5,
   "id": "612cb903",
   "metadata": {},
   "outputs": [
    {
     "name": "stdout",
     "output_type": "stream",
     "text": [
      "3\n",
      "\n",
      "           species\n",
      "count          150\n",
      "unique           3\n",
      "top     versicolor\n",
      "freq            50\n",
      "\n",
      "       sepal_length  sepal_width  petal_length  petal_width\n",
      "count    150.000000   150.000000    150.000000   150.000000\n",
      "mean       5.843333     3.057333      3.758000     1.199333\n",
      "std        0.828066     0.435866      1.765298     0.762238\n",
      "min        4.300000     2.000000      1.000000     0.100000\n",
      "25%        5.100000     2.800000      1.600000     0.300000\n",
      "50%        5.800000     3.000000      4.350000     1.300000\n",
      "75%        6.400000     3.300000      5.100000     1.800000\n",
      "max        7.900000     4.400000      6.900000     2.500000\n"
     ]
    },
    {
     "name": "stderr",
     "output_type": "stream",
     "text": [
      "<ipython-input-5-ea968dae1450>:7: DeprecationWarning: `np.object` is a deprecated alias for the builtin `object`. To silence this warning, use `object` by itself. Doing this will not modify any behavior and is safe. \n",
      "Deprecated in NumPy 1.20; for more details and guidance: https://numpy.org/devdocs/release/1.20.0-notes.html#deprecations\n",
      "  print(df.describe(include = [np.object]))\n",
      "<ipython-input-5-ea968dae1450>:10: DeprecationWarning: `np.object` is a deprecated alias for the builtin `object`. To silence this warning, use `object` by itself. Doing this will not modify any behavior and is safe. \n",
      "Deprecated in NumPy 1.20; for more details and guidance: https://numpy.org/devdocs/release/1.20.0-notes.html#deprecations\n",
      "  print(df.describe(exclude = [np.object]))\n"
     ]
    }
   ],
   "source": [
    "# nunique()\n",
    "print(df[\"species\"].nunique())\n",
    "# 중복되지 않는 값의 개수\n",
    "print()\n",
    "\n",
    "# describe()\n",
    "print(df.describe(include = [np.object]))\n",
    "# include : all, object, int, np.object....\n",
    "print()\n",
    "print(df.describe(exclude = [np.object]))\n",
    "# exclude : 지정한것을 제외하고 모두 보여줌"
   ]
  },
  {
   "cell_type": "code",
   "execution_count": 6,
   "id": "986e1edc",
   "metadata": {},
   "outputs": [
    {
     "name": "stdout",
     "output_type": "stream",
     "text": [
      "1.3\n",
      "\n",
      "0.25    0.3\n",
      "0.75    1.8\n",
      "Name: petal_width, dtype: float64\n"
     ]
    }
   ],
   "source": [
    "# quantile()\n",
    "print(df[\"petal_width\"].quantile())\n",
    "# 중위수(median)이 디폴트 값임\n",
    "print()\n",
    "print(df[\"petal_width\"].quantile([0.25, 0.75]))\n",
    "# 분위수 여러개 지정 가능"
   ]
  },
  {
   "cell_type": "code",
   "execution_count": 7,
   "id": "fd07b790",
   "metadata": {},
   "outputs": [
    {
     "name": "stdout",
     "output_type": "stream",
     "text": [
      "sepal_length       5.1\n",
      "sepal_width        3.5\n",
      "petal_length       1.4\n",
      "petal_width        0.2\n",
      "species         setosa\n",
      "dtype: object\n",
      "\n",
      "\n",
      "\n",
      "0    set\n",
      "1    set\n",
      "2    set\n",
      "3    set\n",
      "4    set\n",
      "Name: species_3, dtype: object\n",
      "\n",
      "\n",
      "\n",
      "0    osa\n",
      "1    osa\n",
      "2    osa\n",
      "3    osa\n",
      "4    osa\n",
      "Name: species-3, dtype: object\n"
     ]
    }
   ],
   "source": [
    "# apply, lambda(익명함수)\n",
    "print(df.apply(lambda x : x[0]))\n",
    "print(\"\\n\\n\")\n",
    "\n",
    "df[\"species_3\"] = df[\"species\"].apply(lambda x : x[:3])\n",
    "print(df[\"species_3\"].head())\n",
    "print(\"\\n\\n\")\n",
    "\n",
    "def smp(x):\n",
    "    x = x[-3:]\n",
    "    return x\n",
    "df[\"species-3\"] = df[\"species\"].apply(smp)\n",
    "print(df[\"species-3\"].head())"
   ]
  },
  {
   "cell_type": "code",
   "execution_count": 8,
   "id": "10389890",
   "metadata": {},
   "outputs": [],
   "source": [
    "# 결측치(NA/Null) 제거\n",
    "\n",
    "# df.dropna(axis = 1, how = \"all\")\n",
    "# axis = 행기준/열기준\n",
    "# how = \"all\"(행/열이 모두 na일 때 해당 행/열 제거), \n",
    "# \"any\"(행/열 중에 하나라도 na 값이 포함되어있을 때, 해당 행/열 제거)\n",
    "\n",
    "# fillna() :  na값을 채움\n",
    "# isnull() : null 이면 True\n",
    "# notnull() : null 이니면 True"
   ]
  },
  {
   "cell_type": "code",
   "execution_count": 9,
   "id": "ec6fe434",
   "metadata": {},
   "outputs": [],
   "source": [
    "# df.dropna?\n",
    "# na값에대한 설명\n",
    "# 함수 뒤에 () 지우고 ? 붙이면 그에대한 설명 볼 수 있음"
   ]
  },
  {
   "cell_type": "code",
   "execution_count": 10,
   "id": "ab010e17",
   "metadata": {},
   "outputs": [
    {
     "name": "stdout",
     "output_type": "stream",
     "text": [
      "     A    B   C  D\n",
      "0  NaN  2.0 NaN  0\n",
      "1  3.0  4.0 NaN  1\n",
      "2  NaN  NaN NaN  5\n"
     ]
    }
   ],
   "source": [
    "df = pd.DataFrame([[np.nan, 2, np.nan, 0], \n",
    "                   [3, 4, np.nan, 1], \n",
    "                   [np.nan, np.nan, np.nan, 5]], \n",
    "                  columns = list(\"ABCD\"))\n",
    "print(df)"
   ]
  },
  {
   "cell_type": "code",
   "execution_count": 11,
   "id": "99780c79",
   "metadata": {},
   "outputs": [
    {
     "name": "stdout",
     "output_type": "stream",
     "text": [
      "     A    B  D\n",
      "0  NaN  2.0  0\n",
      "1  3.0  4.0  1\n",
      "2  NaN  NaN  5\n",
      "\n",
      "   D\n",
      "0  0\n",
      "1  1\n",
      "2  5\n"
     ]
    }
   ],
   "source": [
    "# dropna()\n",
    "\n",
    "print(df.dropna(axis = 1, how = \"all\"))\n",
    "print()\n",
    "print(df.dropna(axis = 1, how = \"any\"))"
   ]
  },
  {
   "cell_type": "code",
   "execution_count": 12,
   "id": "c8d913b7",
   "metadata": {},
   "outputs": [
    {
     "name": "stdout",
     "output_type": "stream",
     "text": [
      "     A    B    C  D\n",
      "0  0.0  2.0  0.0  0\n",
      "1  3.0  4.0  0.0  1\n",
      "2  0.0  0.0  0.0  5\n",
      "\n",
      "     A    B    C  D\n",
      "0  0.0  2.0  2.0  0\n",
      "1  3.0  4.0  2.0  1\n",
      "2  0.0  1.0  2.0  5\n",
      "\n",
      "     A    B   C  D\n",
      "0  3.0  2.0 NaN  0\n",
      "1  3.0  4.0 NaN  1\n",
      "2  3.0  3.0 NaN  5\n"
     ]
    }
   ],
   "source": [
    "# fillna()\n",
    "print(df.fillna(0))\n",
    "print()\n",
    "\n",
    "val = {\"A\" : 0, \"B\" : 1, \"C\" : 2, \"D\" : 3}\n",
    "print(df.fillna(value = val))\n",
    "# 딕셔너리의 키값과 일치하는 컬럼을 기준으로 \n",
    "# 각각의 na 값을 채움\n",
    "print()\n",
    "\n",
    "print(df.fillna(df.median()))"
   ]
  },
  {
   "cell_type": "code",
   "execution_count": 13,
   "id": "1c3208e0",
   "metadata": {},
   "outputs": [
    {
     "name": "stdout",
     "output_type": "stream",
     "text": [
      "A    2\n",
      "B    1\n",
      "C    3\n",
      "D    0\n",
      "dtype: int64\n",
      "\n",
      "A    1\n",
      "B    2\n",
      "C    0\n",
      "D    3\n",
      "dtype: int64\n",
      "\n"
     ]
    }
   ],
   "source": [
    "# isnull, notnull\n",
    "print(df.isnull().sum())\n",
    "print()\n",
    "print(df.notnull().sum())\n",
    "print()"
   ]
  },
  {
   "cell_type": "code",
   "execution_count": 14,
   "id": "68aa838d",
   "metadata": {},
   "outputs": [],
   "source": [
    "# assign()\n",
    "# 새로운 칼럼을 데이터 프레임에 배정"
   ]
  },
  {
   "cell_type": "code",
   "execution_count": 23,
   "id": "f99cdf29",
   "metadata": {},
   "outputs": [
    {
     "name": "stdout",
     "output_type": "stream",
     "text": [
      "    A         B\n",
      "0   1 -0.011159\n",
      "1   2 -0.294176\n",
      "2   3  1.155650\n",
      "3   4 -1.612119\n",
      "4   5 -0.528150\n",
      "5   6  0.344604\n",
      "6   7  0.829069\n",
      "7   8  0.784893\n",
      "8   9 -0.101292\n",
      "9  10 -1.196475\n"
     ]
    }
   ],
   "source": [
    "df = pd.DataFrame({\"A\":range(1, 11), \"B\":np.random.randn(10)})\n",
    "print(df)"
   ]
  },
  {
   "cell_type": "code",
   "execution_count": 24,
   "id": "c59d778b",
   "metadata": {},
   "outputs": [
    {
     "name": "stdout",
     "output_type": "stream",
     "text": [
      "    A         B      ln_A\n",
      "0   1 -0.011159  0.000000\n",
      "1   2 -0.294176  0.693147\n",
      "2   3  1.155650  1.098612\n",
      "3   4 -1.612119  1.386294\n",
      "4   5 -0.528150  1.609438\n",
      "5   6  0.344604  1.791759\n",
      "6   7  0.829069  1.945910\n",
      "7   8  0.784893  2.079442\n",
      "8   9 -0.101292  2.197225\n",
      "9  10 -1.196475  2.302585\n",
      "    A         B      ln_A\n",
      "0   1 -0.011159  0.000000\n",
      "1   2 -0.294176  0.693147\n",
      "2   3  1.155650  1.098612\n",
      "3   4 -1.612119  1.386294\n",
      "4   5 -0.528150  1.609438\n",
      "5   6  0.344604  1.791759\n",
      "6   7  0.829069  1.945910\n",
      "7   8  0.784893  2.079442\n",
      "8   9 -0.101292  2.197225\n",
      "9  10 -1.196475  2.302585\n"
     ]
    }
   ],
   "source": [
    "# assign()\n",
    "\n",
    "df.assign(ln_A = lambda x : np.log(x.A))\n",
    "print(df.assign(ln_A = lambda x : np.log(x.A)))\n",
    "\n",
    "df[\"ln_A\"] = np.log(df.A)\n",
    "print(df)"
   ]
  },
  {
   "cell_type": "code",
   "execution_count": null,
   "id": "c71fc17e",
   "metadata": {},
   "outputs": [],
   "source": [
    "# qcut()\n",
    "# Bin 컬럼을 n개의 버킷으로 변화시킴\n",
    "# 숫자형 데이터를 n개의 번주로 구분할 때 사용\n",
    "\n",
    "# clip() : 임계치 값을 지정해서 값 변화줄 때 사용\n",
    "# abs() : 절대값"
   ]
  },
  {
   "cell_type": "code",
   "execution_count": 26,
   "id": "4bd7561c",
   "metadata": {},
   "outputs": [
    {
     "name": "stdout",
     "output_type": "stream",
     "text": [
      "0      good\n",
      "1      good\n",
      "2      good\n",
      "3      good\n",
      "4    median\n",
      "5    median\n",
      "6    median\n",
      "7       bad\n",
      "8       bad\n",
      "9       bad\n",
      "Name: A, dtype: category\n",
      "Categories (3, object): ['good' < 'median' < 'bad']\n",
      "\n",
      "0    good\n",
      "1     bad\n",
      "2    good\n",
      "3     bad\n",
      "4     bad\n",
      "5    good\n",
      "6    good\n",
      "7    good\n",
      "8     bad\n",
      "9     bad\n",
      "Name: B, dtype: category\n",
      "Categories (2, object): ['bad' < 'good']\n"
     ]
    }
   ],
   "source": [
    "print(pd.qcut(df[\"A\"], 3, labels = [\"good\", \"median\", \"bad\"]))\n",
    "# df[\"A\"] 행을 3등분. 각각 나눠진것의 레이블을 good, median, bad로 하겠다는것\n",
    "# 나눠진 순서대로 레이블이 들어가는 것이기 때문에 레이블 순을 거꾸로 하고 싶으면\n",
    "# 반대로 넣어주면 됨\n",
    "print()\n",
    "print(pd.qcut(df[\"B\"], 2, labels = [\"bad\", \"good\"]))"
   ]
  },
  {
   "cell_type": "code",
   "execution_count": 28,
   "id": "eb67263b",
   "metadata": {},
   "outputs": [
    {
     "data": {
      "text/plain": [
       "0    1\n",
       "1    2\n",
       "2    3\n",
       "3    4\n",
       "4    5\n",
       "5    5\n",
       "6    5\n",
       "7    5\n",
       "8    5\n",
       "9    5\n",
       "Name: A, dtype: int64"
      ]
     },
     "execution_count": 28,
     "metadata": {},
     "output_type": "execute_result"
    }
   ],
   "source": [
    "# clip()\n",
    "\n",
    "df[\"A\"].clip(lower = -3, upper = 5)\n",
    "# 하한선, 상한선\n",
    "# 하한선과 상한선을 기준으로 값을 잘라줌\n",
    "# 해당 기준에 맞지 않는 데이터는 상한값, 하한값으로 값이 변경됨"
   ]
  },
  {
   "cell_type": "code",
   "execution_count": 29,
   "id": "a0c195f3",
   "metadata": {},
   "outputs": [
    {
     "name": "stdout",
     "output_type": "stream",
     "text": [
      "0    0.011159\n",
      "1    0.294176\n",
      "2    1.155650\n",
      "3    1.612119\n",
      "4    0.528150\n",
      "5    0.344604\n",
      "6    0.829069\n",
      "7    0.784893\n",
      "8    0.101292\n",
      "9    1.196475\n",
      "Name: B, dtype: float64\n"
     ]
    }
   ],
   "source": [
    "# abs()\n",
    "print(df[\"B\"].abs())"
   ]
  },
  {
   "cell_type": "code",
   "execution_count": null,
   "id": "cff72b4e",
   "metadata": {},
   "outputs": [],
   "source": []
  }
 ],
 "metadata": {
  "celltoolbar": "Raw Cell Format",
  "kernelspec": {
   "display_name": "Python 3",
   "language": "python",
   "name": "python3"
  },
  "language_info": {
   "codemirror_mode": {
    "name": "ipython",
    "version": 3
   },
   "file_extension": ".py",
   "mimetype": "text/x-python",
   "name": "python",
   "nbconvert_exporter": "python",
   "pygments_lexer": "ipython3",
   "version": "3.8.8"
  }
 },
 "nbformat": 4,
 "nbformat_minor": 5
}
