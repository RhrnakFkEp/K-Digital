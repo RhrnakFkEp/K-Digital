{
 "cells": [
  {
   "cell_type": "markdown",
   "metadata": {},
   "source": [
    "# Fundamental_7\n",
    "<b>작성일자 : </b>2021-05-30<br>\n",
    "<b>작성자 : </b>이예희<br>\n",
    "<b>작성내용 : </b><br>\n",
    "<ul>\n",
    "    <li>HW_Fundamental_7</li>\n",
    "    <li>파이썬으로 이미지 파일 다루기</li>\n",
    "</ul>\n",
    "<hr>"
   ]
  },
  {
   "cell_type": "markdown",
   "metadata": {},
   "source": [
    "## Pillow 사용법"
   ]
  },
  {
   "cell_type": "code",
   "execution_count": 2,
   "metadata": {},
   "outputs": [],
   "source": [
    "# install\n",
    "# !pip install pillow opencv-python matplotlib"
   ]
  },
  {
   "cell_type": "code",
   "execution_count": 64,
   "metadata": {},
   "outputs": [],
   "source": [
    "# import\n",
    "\n",
    "import numpy as np\n",
    "from PIL import Image\n",
    "import os"
   ]
  },
  {
   "cell_type": "code",
   "execution_count": 50,
   "metadata": {},
   "outputs": [
    {
     "name": "stdout",
     "output_type": "stream",
     "text": [
      "(32, 32, 3)\n"
     ]
    }
   ],
   "source": [
    "data = np.zeros([32, 32, 3], dtype = np.uint8) \n",
    "print(data.shape)  # (32, 32, 3)\n",
    "# 32x32 픽셀. 3 채널\n",
    "# 채널값은 모두 0. np.zeros. 검정색임.\n",
    "# unit8 : unsigned int 8. 부호없는 8비트 정수\n",
    "image = Image.fromarray(data, \"RGB\")\n",
    "# 만들어진 배열을 RGB 이미지 객체로 변환\n",
    "image.show()\n",
    "# 화면에 보여줌"
   ]
  },
  {
   "cell_type": "code",
   "execution_count": 51,
   "metadata": {},
   "outputs": [],
   "source": [
    "# 검은 네모를 빨간 네모로 변경\n",
    "data[:, :] = [255, 0, 0]\n",
    "image = Image.fromarray(data, 'RGB')\n",
    "image.show()"
   ]
  },
  {
   "cell_type": "markdown",
   "metadata": {},
   "source": [
    "### 연습문제\n",
    "1. 가로 세로 각 128픽셀짜리 흰 이미지를 만들어 화면에 표시"
   ]
  },
  {
   "cell_type": "code",
   "execution_count": 52,
   "metadata": {},
   "outputs": [],
   "source": [
    "data = np.zeros([128, 128, 3], dtype = np.uint8)\n",
    "data[:, :] = [255, 255, 255]\n",
    "image = Image.fromarray(data, \"RGB\")\n",
    "image.show()"
   ]
  },
  {
   "cell_type": "markdown",
   "metadata": {},
   "source": [
    "2. 연습용 이미지를 열어 width와 height를 출력하고, .save()를 이용하여 jpg 파일 포맷으로 저장"
   ]
  },
  {
   "cell_type": "code",
   "execution_count": 53,
   "metadata": {},
   "outputs": [
    {
     "name": "stdout",
     "output_type": "stream",
     "text": [
      "128\n",
      "128\n",
      "\n"
     ]
    }
   ],
   "source": [
    "image_path = \"./aiffel/python_image_proc/pillow_practice.png\"\n",
    "\n",
    "# 이미지 열기\n",
    "# image = Image.open(image_path)\n",
    "# image.show()\n",
    "\n",
    "# width, height 출력\n",
    "print(image.width)\n",
    "print(image.height)\n",
    "print()\n",
    "\n",
    "# JPG 파일 형식으로 저장\n",
    "new_image_path = \"./aiffel/python_image_proc/pillow_practice.jpg\"\n",
    "image = image.convert(\"RGB\")\n",
    "image.save(new_image_path)"
   ]
  },
  {
   "cell_type": "markdown",
   "metadata": {},
   "source": [
    "3. .resize()를 이용하여 이미지 크기를 100X200으로 변경하여 저장"
   ]
  },
  {
   "cell_type": "code",
   "execution_count": 54,
   "metadata": {},
   "outputs": [],
   "source": [
    "resized_image = image.resize([100, 200])\n",
    "# image.resize((100, 200))과 동일\n",
    "# resized_image.show()\n",
    "\n",
    "resized_image_path = \"./aiffel/python_image_proc/resized_pillow_practice.jpg\"\n",
    "resized_image.save(resized_image_path)"
   ]
  },
  {
   "cell_type": "markdown",
   "metadata": {},
   "source": [
    "4. .crop()을 이용하여 눈 부분만 잘라내어 저장<br>\n",
    "눈 부분의 box 좌표는 (300, 100, 600, 400)"
   ]
  },
  {
   "cell_type": "code",
   "execution_count": 55,
   "metadata": {},
   "outputs": [],
   "source": [
    "crop_image = image.crop((300, 100, 600, 400))\n",
    "# crop_image.show()\n",
    "\n",
    "crop_image_path = \"./aiffel/python_image_proc/crop_pillow_practice.png\"\n",
    "crop_image.save(crop_image_path)"
   ]
  },
  {
   "cell_type": "markdown",
   "metadata": {},
   "source": [
    "## Pillow를 활용한 데이터 전처리"
   ]
  },
  {
   "cell_type": "code",
   "execution_count": 11,
   "metadata": {},
   "outputs": [],
   "source": [
    "# import\n",
    "\n",
    "import numpy as np\n",
    "from PIL import Image\n",
    "import os\n",
    "import pickle\n",
    "from tqdm import tqdm    # 진행상황 시각화해서 체크해볼 수 있음"
   ]
  },
  {
   "cell_type": "code",
   "execution_count": 56,
   "metadata": {},
   "outputs": [
    {
     "name": "stdout",
     "output_type": "stream",
     "text": [
      "<class 'dict'>\n"
     ]
    }
   ],
   "source": [
    "dir_path = \"./aiffel/python_image_proc/cifar-100-python\"\n",
    "train_file_path = os.path.join(dir_path, \"train\")\n",
    "# print(train_file_path)\n",
    "# ./aiffel/python_image_proc/cifar-100-python\\train\n",
    "# dir_path의 하위 디렉터리 train을 지정하는듯\n",
    "\n",
    "# -----------------------------------------------------------------\n",
    "# 파일 불러오기\n",
    "\n",
    "with open(train_file_path, \"rb\") as f:\n",
    "    # rb : read binary\n",
    "    # train_file_path 경로에 있는 파일을 f라는 이름으로 불러온단뜻인듯\n",
    "    train = pickle.load(f, encoding = \"bytes\")\n",
    "    # 파일 불러옴. encoding이 bytes.\n",
    "    \n",
    "print(type(train))\n",
    "# 여러개 불러와서 딕셔너리인가?\n",
    "\n",
    "# print(train)\n",
    "# 뭔지 모르겠지만 b가 붙어있는걸로 봐서는 바이너리 타입인거같은데\n",
    "# 뭔가 엄청 많음\n"
   ]
  },
  {
   "cell_type": "code",
   "execution_count": 57,
   "metadata": {},
   "outputs": [
    {
     "name": "stdout",
     "output_type": "stream",
     "text": [
      "dict_keys([b'filenames', b'batch_label', b'fine_labels', b'coarse_labels', b'data'])\n",
      "\n",
      "[b'bos_taurus_s_000507.png', b'stegosaurus_s_000125.png', b'mcintosh_s_000643.png', b'altar_boy_s_001435.png', b'cichlid_s_000031.png']\n",
      "\n",
      "(3072,)\n"
     ]
    }
   ],
   "source": [
    "# train 데이터 일부 확인\n",
    "\n",
    "print(train.keys())\n",
    "# 문자열이 아닌 b로 시작하는 bytes로 되어있음\n",
    "print()\n",
    "\n",
    "print(train[b'filenames'][0:5])\n",
    "print()\n",
    "print(train[b'data'][0].shape)\n",
    "# (3072,) : 3채널 * 1024( = 32 * 32)\n",
    "# 이 넘파이 배열을 reshape하면 이미지 파일 원본이 복구된단거임\n",
    "# 그렇다고 아무렇게나 reshape하면 이미지가 제대로 복구되지 않음\n"
   ]
  },
  {
   "cell_type": "code",
   "execution_count": 58,
   "metadata": {},
   "outputs": [],
   "source": [
    "# reshape\n",
    "\n",
    "image_data = train[b'data'][0].reshape([32, 32, 3], order = \"F\")\n",
    "# 정렬을 F를 기준으로 한다는것인듯?\n",
    "image = Image.fromarray(image_data)\n",
    "image.show()\n",
    "# ? 뭔가. 소 같은 이미지가 나왔음.\n",
    "\n",
    "\n",
    "# order 제거\n",
    "# image_data = train[b'data'][0].reshape([32, 32, 3])\n",
    "# # order 없애니까 완전 이상하게 나옴. 구역이 9개로 나눠진 상태로 이상하게 나옴\n",
    "# image = Image.fromarray(image_data)\n",
    "# image.show()"
   ]
  },
  {
   "cell_type": "code",
   "execution_count": 59,
   "metadata": {},
   "outputs": [],
   "source": [
    "# X, Y 축 뒤집어진 이미지를 원래대로 뒤집기\n",
    "\n",
    "image_data = image_data.swapaxes(0, 1)\n",
    "# axis 를 스왑하는듯. 행과 열을 바꿔버리는건가\n",
    "\n",
    "image = Image.fromarray(image_data)\n",
    "image.show()"
   ]
  },
  {
   "cell_type": "markdown",
   "metadata": {},
   "source": [
    "스스로 완성해보기"
   ]
  },
  {
   "cell_type": "code",
   "execution_count": 65,
   "metadata": {},
   "outputs": [
    {
     "name": "stderr",
     "output_type": "stream",
     "text": [
      "100%|██████████████████████████████████████████████████████████████████████████| 50000/50000 [00:47<00:00, 1059.86it/s]\n"
     ]
    }
   ],
   "source": [
    "dir_path = './aiffel/python_image_proc/cifar-100-python'\n",
    "train_file_path = os.path.join(dir_path, 'train')\n",
    "\n",
    "# image를 저장할 cifar-100-python의 하위 디렉토리(images)를 생성합니다.\n",
    "images_dir_path = os.path.join(dir_path, 'images')\n",
    "if not os.path.exists(images_dir_path):\n",
    "    os.mkdir(images_dir_path) # images 디렉토리 생성\n",
    "\n",
    "# 32X32의 이미지 파일 50000개를 생성합니다.\n",
    "with open(train_file_path, 'rb') as f:\n",
    "    train = pickle.load(f, encoding='bytes')\n",
    "    for i in tqdm(range(len(train[b'filenames']))):\n",
    "        filename = train[b'filenames'][i].decode()\n",
    "        data = train[b'data'][i].reshape([32, 32, 3], order='F')\n",
    "        image = Image.fromarray(data.swapaxes(0, 1))\n",
    "        image.save(os.path.join(images_dir_path, filename))"
   ]
  },
  {
   "cell_type": "markdown",
   "metadata": {},
   "source": [
    "## OpenCV 1\n",
    "OpenCV : 오픈소스로 제공되는 컴퓨터 비전용 라이브러리<br>\n",
    "OpenCV에서는 RGB가 아니라 BGR을 사용함"
   ]
  },
  {
   "cell_type": "code",
   "execution_count": 2,
   "metadata": {},
   "outputs": [],
   "source": [
    "# import\n",
    "\n",
    "import cv2 as cv\n",
    "import numpy as np"
   ]
  },
  {
   "cell_type": "code",
   "execution_count": 66,
   "metadata": {},
   "outputs": [],
   "source": [
    "cap = cv.VideoCapture(0)\n",
    "\n",
    "while(1):\n",
    "    # Take each frame\n",
    "    _, frame = cap.read()\n",
    "    \n",
    "    # Convert BGR to HSV\n",
    "    hsv = cv.cvtColor(frame, cv.COLOR_BGR2HSV)\n",
    "    \n",
    "    # define range of blue color in HSV\n",
    "    lower_blue = np.array([110,50,50])\n",
    "    upper_blue = np.array([130,255,255])\n",
    "    \n",
    "    # Threshold the HSV image to get only blue colors\n",
    "    mask = cv.inRange(hsv, lower_blue, upper_blue)\n",
    "    \n",
    "    # Bitwise-AND mask and original image\n",
    "    res = cv.bitwise_and(frame,frame, mask= mask)\n",
    "    cv.imshow('frame',frame)\n",
    "    cv.imshow('mask',mask)\n",
    "    cv.imshow('res',res)\n",
    "    k = cv.waitKey(5) & 0xFF\n",
    "    if k == 27:\n",
    "        break\n",
    "        \n",
    "cv.destroyAllWindows()\n",
    "cap.release()\n",
    "\n",
    "# frame, mask, res 세개 창 뜸\n",
    "# frame은 그냥 카메라 켜진 느낌\n",
    "# mask는 검정과 흰색밖에 안보이는 느낌. 파란색이 들어간 영역을 흰색으로 표현하는듯\n",
    "# res는 파란색 영역이 파란색으로 보이는느낌"
   ]
  },
  {
   "cell_type": "markdown",
   "metadata": {},
   "source": [
    "위 코드 분해"
   ]
  },
  {
   "cell_type": "code",
   "execution_count": 16,
   "metadata": {},
   "outputs": [
    {
     "name": "stdout",
     "output_type": "stream",
     "text": [
      "<VideoCapture 0000014275152530>\n"
     ]
    }
   ],
   "source": [
    "cap = cv.VideoCapture(0)\n",
    "# 영상 캡쳐를 위해 카메라를 여는 함수\n",
    "# 0을 넣으면 카메라가 열리고, 1을 넣으면 카메라 꺼짐\n",
    "# c++과 마찬가지로 image라는 입력값을 받을 수 있지만, 선택임.\n",
    "# 함수 반환값이 return value(retval)과 image임.\n",
    "\n",
    "print(cap)"
   ]
  },
  {
   "cell_type": "code",
   "execution_count": 12,
   "metadata": {},
   "outputs": [
    {
     "ename": "KeyboardInterrupt",
     "evalue": "",
     "output_type": "error",
     "traceback": [
      "\u001b[1;31m---------------------------------------------------------------------------\u001b[0m",
      "\u001b[1;31mKeyboardInterrupt\u001b[0m                         Traceback (most recent call last)",
      "\u001b[1;32m<ipython-input-12-83f4dfe563d0>\u001b[0m in \u001b[0;36m<module>\u001b[1;34m\u001b[0m\n\u001b[0;32m      1\u001b[0m \u001b[1;32mwhile\u001b[0m\u001b[1;33m(\u001b[0m\u001b[1;36m1\u001b[0m\u001b[1;33m)\u001b[0m\u001b[1;33m:\u001b[0m\u001b[1;33m\u001b[0m\u001b[1;33m\u001b[0m\u001b[0m\n\u001b[0;32m      2\u001b[0m     \u001b[1;31m# Take each frame\u001b[0m\u001b[1;33m\u001b[0m\u001b[1;33m\u001b[0m\u001b[1;33m\u001b[0m\u001b[0m\n\u001b[1;32m----> 3\u001b[1;33m     \u001b[0m_\u001b[0m\u001b[1;33m,\u001b[0m \u001b[0mframe\u001b[0m \u001b[1;33m=\u001b[0m \u001b[0mcap\u001b[0m\u001b[1;33m.\u001b[0m\u001b[0mread\u001b[0m\u001b[1;33m(\u001b[0m\u001b[1;33m)\u001b[0m\u001b[1;33m\u001b[0m\u001b[1;33m\u001b[0m\u001b[0m\n\u001b[0m",
      "\u001b[1;31mKeyboardInterrupt\u001b[0m: "
     ]
    }
   ],
   "source": [
    "while(1):\n",
    "    # Take each frame\n",
    "    _, frame = cap.read()\n",
    "    \n",
    "# 반복해서 카메라를 엶.\n",
    "# _에 안쓰고 버릴 값을 받음. 관습상의 변수\n",
    "# _ 에 retval을 넣고, image를 frame에 넣은것"
   ]
  },
  {
   "cell_type": "code",
   "execution_count": 20,
   "metadata": {},
   "outputs": [],
   "source": [
    "# Convert BGR to HSV\n",
    "hsv = cv.cvtColor(frame, cv.COLOR_BGR2HSV)\n",
    "# 컬러 스페이스 변환을 위한 함수\n",
    "# print(hsv)\n",
    "\n",
    "# print(hsv.shape) \n",
    "# 480*640 3 채널\n",
    "# 반환되는 값이 배열임"
   ]
  },
  {
   "cell_type": "code",
   "execution_count": 24,
   "metadata": {},
   "outputs": [],
   "source": [
    "# define range of blue color in HSV\n",
    "lower_blue = np.array([110,50,50])\n",
    "upper_blue = np.array([130,255,255])\n",
    "# 숫자로 파란색 부분 정의\n",
    "# hsv색 공간에서 색상(hue)값 110~130,\n",
    "# 채도와 명도는 각각 50~255 사이 색들을 파란색이라고 정의함\n",
    "# lower_blue와 upper_blue 사이값이 파란색\n",
    "# 각각 색상, 채도, 명도\n",
    "\n",
    "# Threshold the HSV image to get only blue colors\n",
    "mask = cv.inRange(hsv, lower_blue, upper_blue)\n",
    "# print(mask)\n",
    "# print(mask.shape)\n",
    "# 480*640 채널 없음. 2차원배열임\n",
    "\n",
    "# 마스크를 씌워서 선택한 부분만 오려낼 수 있도록 한 것"
   ]
  },
  {
   "cell_type": "code",
   "execution_count": 28,
   "metadata": {},
   "outputs": [],
   "source": [
    "# Bitwise-AND mask and original image\n",
    "res = cv.bitwise_and(frame,frame, mask= mask)\n",
    "# print(res)\n",
    "# print(res.shape)\n",
    "# 480*640 3채널\n",
    "\n",
    "# 이미지 두 장을 받아서 비트 and 연산\n",
    "# mask를 넣었을 때, 해당 영역만 따오도록 한것임\n",
    "# 마스크는 0 혹은 1 값만 들어있으니까\n",
    "# 흰색(1) 부분만 따올 수 있도록 한 것"
   ]
  },
  {
   "cell_type": "code",
   "execution_count": 30,
   "metadata": {},
   "outputs": [
    {
     "ename": "SyntaxError",
     "evalue": "'break' outside loop (<ipython-input-30-a44222530872>, line 11)",
     "output_type": "error",
     "traceback": [
      "\u001b[1;36m  File \u001b[1;32m\"<ipython-input-30-a44222530872>\"\u001b[1;36m, line \u001b[1;32m11\u001b[0m\n\u001b[1;33m    break\u001b[0m\n\u001b[1;37m    ^\u001b[0m\n\u001b[1;31mSyntaxError\u001b[0m\u001b[1;31m:\u001b[0m 'break' outside loop\n"
     ]
    }
   ],
   "source": [
    "# 각각을 화면에 출력\n",
    "cv.imshow('frame',frame)\n",
    "cv.imshow('mask',mask)\n",
    "cv.imshow('res',res)\n",
    "\n",
    "# 루프 탈출\n",
    "k = cv.waitKey(5) & 0xFF\n",
    "if k == 27:\n",
    "    # esc(27) 키를 입력하면 루프를 빠져나옴\n",
    "    # 지금은 루프 없어서 사용 불가\n",
    "    break\n",
    "\n",
    "# 열려있던 창을 모두 닫음\n",
    "cv.destroyAllWindows()"
   ]
  },
  {
   "cell_type": "markdown",
   "metadata": {},
   "source": [
    "### 연습문제\n",
    "Q1. & 0xFF는 어떤 역할을 하는 코드?"
   ]
  },
  {
   "cell_type": "markdown",
   "metadata": {},
   "source": [
    "A. Numlock을 제거. 자세한 설명은 링크 참조\n",
    "https://stackoverflow.com/questions/35372700/whats-0xff-for-in-cv2-waitkey1/39201163#39201163"
   ]
  },
  {
   "cell_type": "markdown",
   "metadata": {},
   "source": [
    "## 비슷한 이미지 찾아내기 \n",
    "OpenCV에서 제공하는 기능 중 이미지에서 색상 히스토그램 추출하고, 서로 비교하는 기능을 불러서 사용할것임. OpenCV는 C++로 구현되어있고, 파이썬에서 불러서 사용할 수 있도록 opencv-python을 설치해야함"
   ]
  },
  {
   "cell_type": "code",
   "execution_count": 67,
   "metadata": {},
   "outputs": [],
   "source": [
    "import os\n",
    "import pickle\n",
    "import cv2\n",
    "import numpy as np\n",
    "from matplotlib import pyplot as plt\n",
    "from tqdm import tqdm\n",
    "from PIL import Image\n",
    "\n",
    "# 전처리 시 생성했던 디렉토리 구조 \n",
    "dir_path = './aiffel/python_image_proc/cifar-100-python'\n",
    "# 경로 앞에 붙어있던 os.getenv('HOME')+ 부분은 나한테 불필요하므로 제거함\n",
    "train_file_path = os.path.join(dir_path, 'train')\n",
    "images_dir_path = os.path.join(dir_path, 'images')"
   ]
  },
  {
   "cell_type": "code",
   "execution_count": 68,
   "metadata": {},
   "outputs": [],
   "source": [
    "# 파일명을 인자로 받아 해당 이미지 파일과 히스토그램을 출력해 주는 함수\n",
    "def draw_color_histogram_from_image(file_name):\n",
    "    image_path = os.path.join(images_dir_path, file_name)\n",
    "    # 이미지 열기\n",
    "    img = Image.open(image_path)\n",
    "    cv_image = cv2.imread(image_path)\n",
    "    \n",
    "    # Image와 Histogram 그려보기\n",
    "    f=plt.figure(figsize=(10,3))\n",
    "    im1 = f.add_subplot(1,2,1)\n",
    "    im1.imshow(img)\n",
    "    im1.set_title(\"Image\")\n",
    "    \n",
    "    im2 = f.add_subplot(1,2,2)\n",
    "    color = ('b','g','r')\n",
    "    for i,col in enumerate(color):\n",
    "        # image에서 i번째 채널의 히스토그램을 뽑아서(0:blue, 1:green, 2:red)\n",
    "        histr = cv2.calcHist([cv_image],[i],None,[256],[0,256])\n",
    "        im2.plot(histr,color = col) # 그래프를 그릴 때 채널 색상과 맞춰서 그립니다.\n",
    "    im2.set_title(\"Histogram\")"
   ]
  },
  {
   "cell_type": "code",
   "execution_count": 69,
   "metadata": {},
   "outputs": [
    {
     "data": {
      "image/png": "[encoded data removed]",
      "text/plain": [
       "<Figure size 720x216 with 2 Axes>"
      ]
     },
     "metadata": {
      "needs_background": "light"
     },
     "output_type": "display_data"
    }
   ],
   "source": [
    "draw_color_histogram_from_image('adriatic_s_001807.png')\n",
    "# 섹상 그래프 나타나는듯. 근데 왜 히스토그램이 아니지?"
   ]
  },
  {
   "cell_type": "code",
   "execution_count": 78,
   "metadata": {},
   "outputs": [],
   "source": [
    "def get_histogram(image):\n",
    "    histogram = []\n",
    "    \n",
    "    # Create histograms per channels, in 4 bins each.\n",
    "    for i in range(3):\n",
    "        channel_histogram = cv2.calcHist(images=[image],\n",
    "                                         channels=[i],\n",
    "                                         mask=None,\n",
    "                                         histSize=[4], # 히스토그램 구간을 4개로 한다.\n",
    "                                         ranges=[0, 256])\n",
    "\n",
    "        histogram.append(channel_histogram)\n",
    "\n",
    "    histogram = np.concatenate(histogram)\n",
    "    histogram = cv2.normalize(histogram, histogram)\n",
    "    \n",
    "    return histogram"
   ]
  },
  {
   "cell_type": "code",
   "execution_count": 79,
   "metadata": {},
   "outputs": [
    {
     "data": {
      "text/plain": [
       "array([[0.3126804 ],\n",
       "       [0.4080744 ],\n",
       "       [0.14521089],\n",
       "       [0.21940625],\n",
       "       [0.18654831],\n",
       "       [0.23742512],\n",
       "       [0.30208108],\n",
       "       [0.35931748],\n",
       "       [0.06465594],\n",
       "       [0.35825753],\n",
       "       [0.36991683],\n",
       "       [0.29254165]], dtype=float32)"
      ]
     },
     "execution_count": 79,
     "metadata": {},
     "output_type": "execute_result"
    }
   ],
   "source": [
    "# get_histogram() 확인용 코드\n",
    "filename = train[b'filenames'][0].decode()\n",
    "file_path = os.path.join(images_dir_path, filename)\n",
    "image = cv2.imread(file_path)\n",
    "histogram = get_histogram(image)\n",
    "histogram"
   ]
  },
  {
   "cell_type": "code",
   "execution_count": 83,
   "metadata": {},
   "outputs": [],
   "source": [
    "def build_histogram_db():\n",
    "    histogram_db = {}\n",
    "    \n",
    "    #디렉토리에 모아 둔 이미지 파일들을 전부 리스트업합니다.\n",
    "    path = images_dir_path\n",
    "    file_list = os.listdir(images_dir_path)\n",
    "    \n",
    "    for file_name in tqdm(file_list):\n",
    "        file_path = os.path.join(images_dir_path, file_name)\n",
    "        image = cv2.imread(file_path)\n",
    "        histogram = get_histogram(image)\n",
    "        \n",
    "        histogram_db[file_name] = histogram\n",
    "\n",
    "    return histogram_db"
   ]
  },
  {
   "cell_type": "code",
   "execution_count": 84,
   "metadata": {},
   "outputs": [
    {
     "name": "stderr",
     "output_type": "stream",
     "text": [
      "100%|███████████████████████████████████████████████████████████████████████████| 49999/49999 [05:12<00:00, 160.02it/s]\n"
     ]
    },
    {
     "data": {
      "text/plain": [
       "array([[0.        ],\n",
       "       [0.        ],\n",
       "       [0.29744893],\n",
       "       [0.5828624 ],\n",
       "       [0.        ],\n",
       "       [0.17107612],\n",
       "       [0.41608465],\n",
       "       [0.29315054],\n",
       "       [0.        ],\n",
       "       [0.34301192],\n",
       "       [0.37224102],\n",
       "       [0.16505837]], dtype=float32)"
      ]
     },
     "execution_count": 84,
     "metadata": {},
     "output_type": "execute_result"
    }
   ],
   "source": [
    "histogram_db = build_histogram_db()\n",
    "histogram_db['adriatic_s_001807.png']"
   ]
  },
  {
   "cell_type": "code",
   "execution_count": 85,
   "metadata": {},
   "outputs": [],
   "source": [
    "def get_target_histogram():\n",
    "    filename = input(\"이미지 파일명을 입력하세요: \")\n",
    "    if filename not in histogram_db:\n",
    "        print('유효하지 않은 이미지 파일명입니다.')\n",
    "        return None\n",
    "    return histogram_db[filename]"
   ]
  },
  {
   "cell_type": "code",
   "execution_count": 86,
   "metadata": {},
   "outputs": [
    {
     "name": "stdout",
     "output_type": "stream",
     "text": [
      "이미지 파일명을 입력하세요: adriatic_s_001807.png\n"
     ]
    },
    {
     "data": {
      "text/plain": [
       "array([[0.        ],\n",
       "       [0.        ],\n",
       "       [0.29744893],\n",
       "       [0.5828624 ],\n",
       "       [0.        ],\n",
       "       [0.17107612],\n",
       "       [0.41608465],\n",
       "       [0.29315054],\n",
       "       [0.        ],\n",
       "       [0.34301192],\n",
       "       [0.37224102],\n",
       "       [0.16505837]], dtype=float32)"
      ]
     },
     "execution_count": 86,
     "metadata": {},
     "output_type": "execute_result"
    }
   ],
   "source": [
    "target_histogram = get_target_histogram()\n",
    "target_histogram"
   ]
  },
  {
   "cell_type": "code",
   "execution_count": 87,
   "metadata": {},
   "outputs": [],
   "source": [
    "def search(histogram_db, target_histogram, top_k=5):\n",
    "    results = {}\n",
    "    \n",
    "    # Calculate similarity distance by comparing histograms.\n",
    "    for file_name, histogram in tqdm(histogram_db.items()):\n",
    "        distance = cv2.compareHist(H1=target_histogram,\n",
    "                                   H2=histogram,\n",
    "                                   method=cv2.HISTCMP_CHISQR)\n",
    "        \n",
    "        results[file_name] = distance\n",
    "        \n",
    "        results = dict(sorted(results.items(), key=lambda item: item[1])[:top_k])\n",
    "    \n",
    "    return results"
   ]
  },
  {
   "cell_type": "code",
   "execution_count": 88,
   "metadata": {},
   "outputs": [
    {
     "name": "stderr",
     "output_type": "stream",
     "text": [
      "100%|████████████████████████████████████████████████████████████████████████| 49999/49999 [00:00<00:00, 309632.97it/s]\n"
     ]
    },
    {
     "data": {
      "text/plain": [
       "{'adriatic_s_001807.png': 0.0,\n",
       " 'baby_s_001654.png': 0.047506706444185816,\n",
       " 'fogbank_s_000423.png': 0.059270738493642845,\n",
       " 'tank_s_000442.png': 0.060966690827361725,\n",
       " 'dessert_plate_s_000124.png': 0.06113711905561663}"
      ]
     },
     "execution_count": 88,
     "metadata": {},
     "output_type": "execute_result"
    }
   ],
   "source": [
    "result = search(histogram_db, target_histogram)\n",
    "result"
   ]
  },
  {
   "cell_type": "code",
   "execution_count": 89,
   "metadata": {},
   "outputs": [],
   "source": [
    "def show_result(result):\n",
    "    f=plt.figure(figsize=(10,3))\n",
    "    \n",
    "    for idx, filename in enumerate(result.keys()):\n",
    "        img_path = os.path.join(images_dir_path, filename)\n",
    "        im = f.add_subplot(1,len(result),idx+1)\n",
    "        img = Image.open(img_path)\n",
    "        im.imshow(img)"
   ]
  },
  {
   "cell_type": "code",
   "execution_count": 90,
   "metadata": {},
   "outputs": [
    {
     "data": {
      "image/png": "[encoded data removed]",
      "text/plain": [
       "<Figure size 720x216 with 5 Axes>"
      ]
     },
     "metadata": {
      "needs_background": "light"
     },
     "output_type": "display_data"
    }
   ],
   "source": [
    "show_result(result)"
   ]
  },
  {
   "cell_type": "code",
   "execution_count": 91,
   "metadata": {},
   "outputs": [
    {
     "name": "stdout",
     "output_type": "stream",
     "text": [
      "이미지 파일명을 입력하세요: adriatic_s_001807.png\n"
     ]
    },
    {
     "name": "stderr",
     "output_type": "stream",
     "text": [
      "100%|████████████████████████████████████████████████████████████████████████| 49999/49999 [00:00<00:00, 302355.43it/s]\n"
     ]
    },
    {
     "data": {
      "image/png": "[encoded data removed]",
      "text/plain": [
       "<Figure size 720x216 with 5 Axes>"
      ]
     },
     "metadata": {
      "needs_background": "light"
     },
     "output_type": "display_data"
    }
   ],
   "source": [
    "target_histogram = get_target_histogram()\n",
    "result = search(histogram_db, target_histogram)\n",
    "show_result(result)"
   ]
  },
  {
   "cell_type": "code",
   "execution_count": null,
   "metadata": {},
   "outputs": [],
   "source": []
  }
 ],
 "metadata": {
  "kernelspec": {
   "display_name": "Python 3",
   "language": "python",
   "name": "python3"
  },
  "language_info": {
   "codemirror_mode": {
    "name": "ipython",
    "version": 3
   },
   "file_extension": ".py",
   "mimetype": "text/x-python",
   "name": "python",
   "nbconvert_exporter": "python",
   "pygments_lexer": "ipython3",
   "version": "3.8.8"
  }
 },
 "nbformat": 4,
 "nbformat_minor": 4
}
