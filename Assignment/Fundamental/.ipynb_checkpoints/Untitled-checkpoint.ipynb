{
 "cells": [
  {
   "cell_type": "markdown",
   "metadata": {},
   "source": [
    "# Fundamental_7\n",
    "<b>작성일자 : </b>2021-05-30<br>\n",
    "<b>작성자 : </b>이예희<br>\n",
    "<b>작성내용 : </b><br>\n",
    "<ul>\n",
    "    <li>HW_Fundamental_7</li>\n",
    "    <li>파이썬으로 이미지 파일 다루기</li>\n",
    "</ul>\n",
    "<hr>"
   ]
  },
  {
   "cell_type": "markdown",
   "metadata": {},
   "source": [
    "## Pillow 사용법"
   ]
  },
  {
   "cell_type": "code",
   "execution_count": 13,
   "metadata": {},
   "outputs": [],
   "source": [
    "# install\n",
    "# !pip install pillow opencv-python matplotlib"
   ]
  },
  {
   "cell_type": "code",
   "execution_count": 98,
   "metadata": {},
   "outputs": [],
   "source": [
    "# import\n",
    "\n",
    "import numpy as np\n",
    "from PIL import Image\n",
    "import os"
   ]
  },
  {
   "cell_type": "code",
   "execution_count": 23,
   "metadata": {},
   "outputs": [
    {
     "name": "stdout",
     "output_type": "stream",
     "text": [
      "(32, 32, 3)\n"
     ]
    }
   ],
   "source": [
    "data = np.zeros([32, 32, 3], dtype = np.uint8) \n",
    "print(data.shape)  # (32, 32, 3)\n",
    "# 32x32 픽셀. 3 채널\n",
    "# 채널값은 모두 0. np.zeros. 검정색임.\n",
    "# unit8 : unsigned int 8. 부호없는 8비트 정수\n",
    "image = Image.fromarray(data, \"RGB\")\n",
    "# 만들어진 배열을 RGB 이미지 객체로 변환\n",
    "image.show()\n",
    "# 화면에 보여줌"
   ]
  },
  {
   "cell_type": "code",
   "execution_count": 31,
   "metadata": {},
   "outputs": [],
   "source": [
    "# 검은 네모를 빨간 네모로 변경\n",
    "data[:, :] = [255, 0, 0]\n",
    "image = Image.fromarray(data, 'RGB')\n",
    "image.show()"
   ]
  },
  {
   "cell_type": "markdown",
   "metadata": {},
   "source": [
    "### 연습문제\n",
    "1. 가로 세로 각 128픽셀짜리 흰 이미지를 만들어 화면에 표시"
   ]
  },
  {
   "cell_type": "code",
   "execution_count": 35,
   "metadata": {},
   "outputs": [],
   "source": [
    "data = np.zeros([128, 128, 3], dtype = np.uint8)\n",
    "data[:, :] = [255, 255, 255]\n",
    "image = Image.fromarray(data, \"RGB\")\n",
    "image.show()"
   ]
  },
  {
   "cell_type": "markdown",
   "metadata": {},
   "source": [
    "2. 연습용 이미지를 열어 width와 height를 출력하고, .save()를 이용하여 jpg 파일 포맷으로 저장"
   ]
  },
  {
   "cell_type": "code",
   "execution_count": 47,
   "metadata": {},
   "outputs": [
    {
     "name": "stdout",
     "output_type": "stream",
     "text": [
      "620\n",
      "465\n",
      "\n"
     ]
    }
   ],
   "source": [
    "image_path = \"./aiffel/python_image_proc/pillow_practice.png\"\n",
    "\n",
    "# 이미지 열기\n",
    "# image = Image.open(image_path)\n",
    "# image.show()\n",
    "\n",
    "# width, height 출력\n",
    "print(image.width)\n",
    "print(image.height)\n",
    "print()\n",
    "\n",
    "# JPG 파일 형식으로 저장\n",
    "new_image_path = \"./aiffel/python_image_proc/pillow_practice.jpg\"\n",
    "image = image.convert(\"RGB\")\n",
    "image.save(new_image_path)"
   ]
  },
  {
   "cell_type": "markdown",
   "metadata": {},
   "source": [
    "3. .resize()를 이용하여 이미지 크기를 100X200으로 변경하여 저장"
   ]
  },
  {
   "cell_type": "code",
   "execution_count": 60,
   "metadata": {},
   "outputs": [],
   "source": [
    "resized_image = image.resize([100, 200])\n",
    "# image.resize((100, 200))과 동일\n",
    "# resized_image.show()\n",
    "\n",
    "resized_image_path = \"./aiffel/python_image_proc/resized_pillow_practice.jpg\"\n",
    "resized_image.save(resized_image_path)"
   ]
  },
  {
   "cell_type": "markdown",
   "metadata": {},
   "source": [
    "4. .crop()을 이용하여 눈 부분만 잘라내어 저장<br>\n",
    "눈 부분의 box 좌표는 (300, 100, 600, 400)"
   ]
  },
  {
   "cell_type": "code",
   "execution_count": 64,
   "metadata": {},
   "outputs": [],
   "source": [
    "crop_image = image.crop((300, 100, 600, 400))\n",
    "# crop_image.show()\n",
    "\n",
    "crop_image_path = \"./aiffel/python_image_proc/crop_pillow_practice.png\"\n",
    "crop_image.save(crop_image_path)"
   ]
  },
  {
   "cell_type": "markdown",
   "metadata": {},
   "source": [
    "## Pillow를 활용한 데이터 전처리"
   ]
  },
  {
   "cell_type": "code",
   "execution_count": 97,
   "metadata": {},
   "outputs": [],
   "source": [
    "# import\n",
    "\n",
    "import numpy as np\n",
    "from PIL import Image\n",
    "import os\n",
    "import pickle\n",
    "from tqdm import tqdm    # 진행상황 시각화해서 체크해볼 수 있음"
   ]
  },
  {
   "cell_type": "code",
   "execution_count": 83,
   "metadata": {},
   "outputs": [
    {
     "name": "stdout",
     "output_type": "stream",
     "text": [
      "<class 'dict'>\n"
     ]
    }
   ],
   "source": [
    "dir_path = \"./aiffel/python_image_proc/cifar-100-python\"\n",
    "train_file_path = os.path.join(dir_path, \"train\")\n",
    "# print(train_file_path)\n",
    "# ./aiffel/python_image_proc/cifar-100-python\\train\n",
    "# dir_path의 하위 디렉터리 train을 지정하는듯\n",
    "\n",
    "# -----------------------------------------------------------------\n",
    "# 파일 불러오기\n",
    "\n",
    "with open(train_file_path, \"rb\") as f:\n",
    "    # rb : read binary\n",
    "    # train_file_path 경로에 있는 파일을 f라는 이름으로 불러온단뜻인듯\n",
    "    train = pickle.load(f, encoding = \"bytes\")\n",
    "    # 파일 불러옴. encoding이 bytes.\n",
    "    \n",
    "print(type(train))\n",
    "# 여러개 불러와서 딕셔너리인가?\n",
    "\n",
    "# print(train)\n",
    "# 뭔지 모르겠지만 b가 붙어있는걸로 봐서는 바이너리 타입인거같은데\n",
    "# 뭔가 엄청 많음\n"
   ]
  },
  {
   "cell_type": "code",
   "execution_count": 86,
   "metadata": {},
   "outputs": [
    {
     "name": "stdout",
     "output_type": "stream",
     "text": [
      "dict_keys([b'filenames', b'batch_label', b'fine_labels', b'coarse_labels', b'data'])\n",
      "\n",
      "[b'bos_taurus_s_000507.png', b'stegosaurus_s_000125.png', b'mcintosh_s_000643.png', b'altar_boy_s_001435.png', b'cichlid_s_000031.png']\n",
      "\n",
      "(3072,)\n"
     ]
    }
   ],
   "source": [
    "# train 데이터 일부 확인\n",
    "\n",
    "print(train.keys())\n",
    "# 문자열이 아닌 b로 시작하는 bytes로 되어있음\n",
    "print()\n",
    "\n",
    "print(train[b'filenames'][0:5])\n",
    "print()\n",
    "print(train[b'data'][0].shape)\n",
    "# (3072,) : 3채널 * 1024( = 32 * 32)\n",
    "# 이 넘파이 배열을 reshape하면 이미지 파일 원본이 복구된단거임\n",
    "# 그렇다고 아무렇게나 reshape하면 이미지가 제대로 복구되지 않음\n"
   ]
  },
  {
   "cell_type": "code",
   "execution_count": 87,
   "metadata": {},
   "outputs": [],
   "source": [
    "# reshape\n",
    "\n",
    "image_data = train[b'data'][0].reshape([32, 32, 3], order = \"F\")\n",
    "# 정렬을 F를 기준으로 한다는것인듯?\n",
    "image = Image.fromarray(image_data)\n",
    "image.show()\n",
    "# ? 뭔가. 소 같은 이미지가 나왔음.\n",
    "\n",
    "\n",
    "# order 제거\n",
    "# image_data = train[b'data'][0].reshape([32, 32, 3])\n",
    "# # order 없애니까 완전 이상하게 나옴. 구역이 9개로 나눠진 상태로 이상하게 나옴\n",
    "# image = Image.fromarray(image_data)\n",
    "# image.show()"
   ]
  },
  {
   "cell_type": "code",
   "execution_count": 88,
   "metadata": {},
   "outputs": [],
   "source": [
    "# X, Y 축 뒤집어진 이미지를 원래대로 뒤집기\n",
    "\n",
    "image_data = image_data.swapaxes(0, 1)\n",
    "# axis 를 스왑하는듯. 행과 열을 바꿔버리는건가\n",
    "\n",
    "image = Image.fromarray(image_data)\n",
    "image.show()"
   ]
  },
  {
   "cell_type": "markdown",
   "metadata": {},
   "source": [
    "스스로 완성해보기"
   ]
  },
  {
   "cell_type": "code",
   "execution_count": 94,
   "metadata": {},
   "outputs": [
    {
     "name": "stderr",
     "output_type": "stream",
     "text": [
      "100%|██████████████████████████████████| 50000/50000 [00:36<00:00, 1379.03it/s]\n"
     ]
    }
   ],
   "source": [
    "dir_path = './aiffel/python_image_proc/cifar-100-python'\n",
    "train_file_path = os.path.join(dir_path, 'train')\n",
    "\n",
    "# image를 저장할 cifar-100-python의 하위 디렉토리(images)를 생성합니다.\n",
    "images_dir_path = os.path.join(dir_path, 'images')\n",
    "if not os.path.exists(images_dir_path):\n",
    "    os.mkdir(images_dir_path) # images 디렉토리 생성\n",
    "\n",
    "# 32X32의 이미지 파일 50000개를 생성합니다.\n",
    "with open(train_file_path, 'rb') as f:\n",
    "    train = pickle.load(f, encoding='bytes')\n",
    "    for i in tqdm(range(len(train[b'filenames']))):\n",
    "        filename = train[b'filenames'][i].decode()\n",
    "        data = train[b'data'][i].reshape([32, 32, 3], order='F')\n",
    "        image = Image.fromarray(data.swapaxes(0, 1))\n",
    "        image.save(os.path.join(images_dir_path, filename))"
   ]
  },
  {
   "cell_type": "markdown",
   "metadata": {},
   "source": [
    "## OpenCV 1\n",
    "OpenCV : 오픈소스로 제공되는 컴퓨터 비전용 라이브러리<br>\n",
    "OpenCV에서는 RGB가 아니라 BGR을 사용함"
   ]
  },
  {
   "cell_type": "code",
   "execution_count": 100,
   "metadata": {},
   "outputs": [],
   "source": [
    "# import\n",
    "\n",
    "import cv2 as cv\n",
    "import numpy as np"
   ]
  },
  {
   "cell_type": "code",
   "execution_count": 102,
   "metadata": {},
   "outputs": [
    {
     "ename": "error",
     "evalue": "OpenCV(4.5.2) :-1: error: (-5:Bad argument) in function 'cvtColor'\n> Overload resolution failed:\n>  - src is not a numerical tuple\n>  - Expected Ptr<cv::UMat> for argument 'src'\n",
     "output_type": "error",
     "traceback": [
      "\u001b[1;31m---------------------------------------------------------------------------\u001b[0m",
      "\u001b[1;31merror\u001b[0m                                     Traceback (most recent call last)",
      "\u001b[1;32m<ipython-input-102-38a8c733aa12>\u001b[0m in \u001b[0;36m<module>\u001b[1;34m\u001b[0m\n\u001b[0;32m      6\u001b[0m \u001b[1;33m\u001b[0m\u001b[0m\n\u001b[0;32m      7\u001b[0m     \u001b[1;31m# Convert BGR to HSV\u001b[0m\u001b[1;33m\u001b[0m\u001b[1;33m\u001b[0m\u001b[1;33m\u001b[0m\u001b[0m\n\u001b[1;32m----> 8\u001b[1;33m     \u001b[0mhsv\u001b[0m \u001b[1;33m=\u001b[0m \u001b[0mcv\u001b[0m\u001b[1;33m.\u001b[0m\u001b[0mcvtColor\u001b[0m\u001b[1;33m(\u001b[0m\u001b[0mframe\u001b[0m\u001b[1;33m,\u001b[0m \u001b[0mcv\u001b[0m\u001b[1;33m.\u001b[0m\u001b[0mCOLOR_BGR2HSV\u001b[0m\u001b[1;33m)\u001b[0m\u001b[1;33m\u001b[0m\u001b[1;33m\u001b[0m\u001b[0m\n\u001b[0m\u001b[0;32m      9\u001b[0m \u001b[1;33m\u001b[0m\u001b[0m\n\u001b[0;32m     10\u001b[0m     \u001b[1;31m# define range of blue color in HSV\u001b[0m\u001b[1;33m\u001b[0m\u001b[1;33m\u001b[0m\u001b[1;33m\u001b[0m\u001b[0m\n",
      "\u001b[1;31merror\u001b[0m: OpenCV(4.5.2) :-1: error: (-5:Bad argument) in function 'cvtColor'\n> Overload resolution failed:\n>  - src is not a numerical tuple\n>  - Expected Ptr<cv::UMat> for argument 'src'\n"
     ]
    }
   ],
   "source": [
    "cap = cv.VideoCapture(0)\n",
    "\n",
    "while(1):\n",
    "    # Take each frame_, \n",
    "    frame = cap.read()\n",
    "    \n",
    "    # Convert BGR to HSV\n",
    "    hsv = cv.cvtColor(frame, cv.COLOR_BGR2HSV)\n",
    "    \n",
    "    # define range of blue color in HSV\n",
    "    lower_blue = np.array([110,50,50])\n",
    "    upper_blue = np.array([130,255,255])\n",
    "    \n",
    "    # Threshold the HSV image to get only blue colors\n",
    "    mask = cv.inRange(hsv, lower_blue, upper_blue)\n",
    "    \n",
    "    # Bitwise-AND mask and original image\n",
    "    res = cv.bitwise_and(frame,frame, mask= mask)\n",
    "    cv.imshow('frame',frame)\n",
    "    cv.imshow('mask',mask)\n",
    "    cv.imshow('res',res)\n",
    "    k = cv.waitKey(5) & 0xFF\n",
    "    if k == 27:\n",
    "        break\n",
    "        \n",
    "cv.destroyAllWindows()\n",
    "cap.release()\n",
    "? 카메라 없는디.. 다시 노트북으로 가자."
   ]
  },
  {
   "cell_type": "code",
   "execution_count": null,
   "metadata": {},
   "outputs": [],
   "source": []
  }
 ],
 "metadata": {
  "kernelspec": {
   "display_name": "Python 3",
   "language": "python",
   "name": "python3"
  },
  "language_info": {
   "codemirror_mode": {
    "name": "ipython",
    "version": 3
   },
   "file_extension": ".py",
   "mimetype": "text/x-python",
   "name": "python",
   "nbconvert_exporter": "python",
   "pygments_lexer": "ipython3",
   "version": "3.8.5"
  }
 },
 "nbformat": 4,
 "nbformat_minor": 4
}
