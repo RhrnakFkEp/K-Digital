{
  "nbformat": 4,
  "nbformat_minor": 0,
  "metadata": {
    "colab": {
      "name": "NLP2.ipynb",
      "provenance": [],
      "collapsed_sections": [
        "W65olWXJ9iPR",
        "4fqgexj6jdP_",
        "Z8OWImBnpjYI",
        "qi56VTIA6n9z",
        "ysqfwP1NwDrw",
        "PiyxM28DzZI-"
      ]
    },
    "kernelspec": {
      "name": "python3",
      "display_name": "Python 3"
    },
    "language_info": {
      "name": "python"
    }
  },
  "cells": [
    {
      "cell_type": "markdown",
      "metadata": {
        "id": "lDTKfn3tcorI"
      },
      "source": [
        "2021-06-10<br><br>\n",
        "\n",
        "NLP 강의 2"
      ]
    },
    {
      "cell_type": "markdown",
      "metadata": {
        "id": "W65olWXJ9iPR"
      },
      "source": [
        "## BPE"
      ]
    },
    {
      "cell_type": "code",
      "metadata": {
        "id": "C27Aok44ckjI"
      },
      "source": [
        "import re, collections\n",
        "# re : regular expression. 정규식을 사용하기 위한 라이브러리\n",
        "# collections : count를 사용하기위해 불러온 라이브러리"
      ],
      "execution_count": 204,
      "outputs": []
    },
    {
      "cell_type": "code",
      "metadata": {
        "id": "QEVkeIBDhwLP"
      },
      "source": [
        "num_merges = 10\n",
        "# merges를 실행할 횟수 지정"
      ],
      "execution_count": 205,
      "outputs": []
    },
    {
      "cell_type": "code",
      "metadata": {
        "colab": {
          "base_uri": "https://localhost:8080/"
        },
        "id": "dCGiaXuUcwG1",
        "outputId": "1513453f-9e77-4e00-c71c-55253224e261"
      },
      "source": [
        "# 캐릭터 사이사이가 공백으로 구분되어있으며, 마지막에 </w>로 구분되어있는 딕셔너리 생성\n",
        "\n",
        "dictionary = {\"l o w </w>\" : 5,\n",
        "              \"l o w e r </w>\" : 2,\n",
        "              \"n e w e s t </w>\" : 6,\n",
        "              \"w i d e s t </w>\" : 3\n",
        "              }\n",
        "dictionary"
      ],
      "execution_count": 206,
      "outputs": [
        {
          "output_type": "execute_result",
          "data": {
            "text/plain": [
              "{'l o w </w>': 5,\n",
              " 'l o w e r </w>': 2,\n",
              " 'n e w e s t </w>': 6,\n",
              " 'w i d e s t </w>': 3}"
            ]
          },
          "metadata": {
            "tags": []
          },
          "execution_count": 206
        }
      ]
    },
    {
      "cell_type": "code",
      "metadata": {
        "id": "reUxbcJgdD6u"
      },
      "source": [
        "# n-gram?\n",
        "# n개의 단어로 묶어준것\n",
        "\n",
        "# e.g.\n",
        "# 우리들은 밥을 먹었고, 나는 공부중이다.\n",
        "\n",
        "# 공백을 기준으로 분할한 단어의 경우\n",
        "\n",
        "# # unigram : \n",
        "# 우리들은 \n",
        "# 밥을 \n",
        "# 먹었고, \n",
        "# 나는 \n",
        "# 공부중이다.\n",
        "\n",
        "# # bigram:\n",
        "# 우리들은 밥을 \n",
        "# 먹었고, 나는\n",
        "# 공부중이다. \\\n",
        "\n",
        "# # trigram\n",
        "# 우리들은 밥을 먹었고,\n",
        "# 나는 공부중이다. \\\n",
        "\n",
        "# # 4개 짜리도 있고.. 함"
      ],
      "execution_count": 207,
      "outputs": []
    },
    {
      "cell_type": "code",
      "metadata": {
        "id": "YMxfqEU8eBbn"
      },
      "source": [
        "def get_stats(dictionary):\n",
        "  # 유니그램의 pair 들의 빈도수를 카운트\n",
        "  pairs = collections.defaultdict(int)\n",
        "  # collections의 dictionary를 만드는 함수\n",
        "  # key값이 없을 경우 미리 지정해 놓은 초기(default)값을 반환\n",
        "  for word, freq in dictionary.items():\n",
        "    # .items() : dictionary의 키값과 value값을 반환\n",
        "    symbols = word.split()\n",
        "    # dictionary안에 들어있는 단어(키값)를 공백으로 분리\n",
        "    # type(symbols) : list\n",
        "    for i in range(len(symbols)-1):\n",
        "      pairs[symbols[i], symbols[i+1]] += freq\n",
        "      # pairs에 symbols[i], symbols[i+1]의 값에 해당하는 키값을 주고\n",
        "      # 만들어진 키값에 freq(dictionary에서 가져온 value값)를 할당\n",
        "  print(\"현재 pair들의 빈도수  :\", dict(pairs))\n",
        "  return pairs"
      ],
      "execution_count": 208,
      "outputs": []
    },
    {
      "cell_type": "code",
      "metadata": {
        "id": "Wm1OYMDcei0T"
      },
      "source": [
        "def merge_dictionary(pair, v_in):\n",
        "  v_out = {}\n",
        "  # 빈 딕셔너리 생성\n",
        "  bigram = re.escape(\" \".join(pair))\n",
        "  # re.escape() : 문자열을 입력받으면 특수문자들을 이스케이프 처리\n",
        "  # pair과 공백을 결합하고, 나온 결과값에 특수문자 있으면, \n",
        "  # 이스케이프(특수문자 효과 제거. \\n(줄바꿈) 등) 처리\n",
        "  p = re.compile(r\"(?<!\\S)\" + bigram + r\"(?!\\S)\")\n",
        "  # bigram과 완전히 일치하는것\n",
        "  for word in v_in:\n",
        "    w_out = p.sub(\"\".join(pair), word)\n",
        "    # word의 p로 추출한 정규식의 결과값에 \"\".join(pair)적용하고 변수에 담음\n",
        "    v_out[w_out] = v_in[word]\n",
        "    # v_out[w_out(키)]에 v_in[word(키)](value) 할당\n",
        "  return v_out"
      ],
      "execution_count": 209,
      "outputs": []
    },
    {
      "cell_type": "code",
      "metadata": {
        "colab": {
          "base_uri": "https://localhost:8080/"
        },
        "id": "eNXWxGd3v0vP",
        "outputId": "7db65d0f-24d1-4e53-deac-9a607f5fdc3d"
      },
      "source": [
        "# 정규 표현식 테스트\n",
        "\n",
        "# test1\n",
        "# re.search(찾고싶은것, 찾을곳)\n",
        "print(\"\\t----------test1----------\")\n",
        "print(re.search(\"(?<!\\S)\" + \"abc\", \"abcdef\"))\n",
        "print(re.search(\"(?<!\\S)\" + \"bcd\", \"abcdef\"))\n",
        "print(re.search(\"(?<!\\S)\" + \"def\", \"abcdef\"))\n",
        "print(re.search(\"(?<!\\S)\" + \"abcdef\", \"abcdef\"))\n",
        "# 맨 앞에서 일치할때만 가져오는듯\n",
        "print()\n",
        "\n",
        "\n",
        "# test2\n",
        "print(\"\\t----------test2----------\")\n",
        "print(re.search(\"abc\" + \"(?!\\S)\", \"abcdef\"))\n",
        "print(re.search(\"bcd\" + \"(?!\\S)\", \"abcdef\"))\n",
        "print(re.search(\"def\" + \"(?!\\S)\", \"abcdef\"))\n",
        "print(re.search(\"abcdef\" + \"(?!\\S)\", \"abcdef\"))\n",
        "# 맨 뒤에서 보았을 때 일치할 때 일치한 부분만 가져오는듯\n",
        "print()\n",
        "\n",
        "\n",
        "# test3\n",
        "print(\"\\t----------test3----------\")\n",
        "print(re.search(\"(?<!\\S)\" + \"abc\" + \"(?!\\S)\", \"abcdef\"))\n",
        "print(re.search(\"(?<!\\S)\" + \"bcd\" + \"(?!\\S)\", \"abcdef\"))\n",
        "print(re.search(\"(?<!\\S)\" + \"def\" + \"(?!\\S)\", \"abcdef\"))\n",
        "print(re.search(\"(?<!\\S)\" + \"abcdef\" + \"(?!\\S)\", \"abcdef\"))\n",
        "# 맨 앞과 뒤에서 보았을 때 일치하는것이므로\n",
        "# 모두 완벽하게 일치할 때 가져오는것"
      ],
      "execution_count": 210,
      "outputs": [
        {
          "output_type": "stream",
          "text": [
            "\t----------test1----------\n",
            "<re.Match object; span=(0, 3), match='abc'>\n",
            "None\n",
            "None\n",
            "<re.Match object; span=(0, 6), match='abcdef'>\n",
            "\n",
            "\t----------test2----------\n",
            "None\n",
            "None\n",
            "<re.Match object; span=(3, 6), match='def'>\n",
            "<re.Match object; span=(0, 6), match='abcdef'>\n",
            "\n",
            "\t----------test3----------\n",
            "None\n",
            "None\n",
            "None\n",
            "<re.Match object; span=(0, 6), match='abcdef'>\n"
          ],
          "name": "stdout"
        }
      ]
    },
    {
      "cell_type": "code",
      "metadata": {
        "id": "YT0-HsQl8BKn"
      },
      "source": [
        "# 값을 담기 위한 빈 딕셔너리 생성\n",
        "\n",
        "bpe_codes = {}\n",
        "bpe_codes_reverse = {}"
      ],
      "execution_count": 211,
      "outputs": []
    },
    {
      "cell_type": "code",
      "metadata": {
        "colab": {
          "base_uri": "https://localhost:8080/"
        },
        "id": "wYyjb7FP4l3J",
        "outputId": "260d0588-a7c8-4b7d-8295-95c524dc838f"
      },
      "source": [
        "# max test\n",
        "\n",
        "dic_result = {}\n",
        "dic = {\"a\":1, \"b\":2, \"c\":3, \"d\":4}\n",
        "\n",
        "\n",
        "max(dic, key = dic.get)\n",
        "max(dic)\n",
        "\n",
        "dic_result[dic[\"a\"] + dic[\"b\"]] = 0\n",
        "print(dic[\"a\"])\n",
        "print(dic[\"b\"])\n",
        "dic_result"
      ],
      "execution_count": 212,
      "outputs": [
        {
          "output_type": "stream",
          "text": [
            "1\n",
            "2\n"
          ],
          "name": "stdout"
        },
        {
          "output_type": "execute_result",
          "data": {
            "text/plain": [
              "{3: 0}"
            ]
          },
          "metadata": {
            "tags": []
          },
          "execution_count": 212
        }
      ]
    },
    {
      "cell_type": "code",
      "metadata": {
        "colab": {
          "base_uri": "https://localhost:8080/"
        },
        "id": "RXXSLbyhfGpT",
        "outputId": "906b517e-fb4b-4d60-fd33-33164043b264"
      },
      "source": [
        "for i in range(num_merges):\n",
        "  # 앞에서 정의했던 num_merges(merge 반복횟수)\n",
        "  print(\">> Step {0}\".format(i+1))\n",
        "  # 인덱스가 0부터 시작하므로 보기 편하게 해준것\n",
        "  pairs = get_stats(dictionary)\n",
        "  # 앞쪽에서 정의한 함수의 리턴값을 받음\n",
        "  best = max(pairs, key = pairs.get)\n",
        "  # pairs(딕셔너리)에서 가장 큰 값을 가진 것의 key값 반환해서 best에 넣음\n",
        "  # key 인자는 단일 인자 순서 함수를 지정하는것\n",
        "  # max(pairs)는 가장 큰 값을 반환해주는것임. 키값 반환 x\n",
        "  dictionary = merge_dictionary(best, dictionary)\n",
        "  # 앞쪽에서 정의한 함수의 리턴값을 받음\n",
        "\n",
        "  bpe_codes[best] = i\n",
        "  # 반복횟수를 bpe_codes[best(키값)]에 i(반복 횟수)를 할당\n",
        "  bpe_codes_reverse[best[0] + best[1]] = best\n",
        "  # bpe_codes_reverse에서 best[0](value)과 best[1](value)를 더한(문자라면 연결) 키값에 best 할당 \n",
        "\n",
        "  print(\"new merge : {}\".format(best))\n",
        "  print(\"dictionary : {}\".format(dictionary) ) "
      ],
      "execution_count": 213,
      "outputs": [
        {
          "output_type": "stream",
          "text": [
            ">> Step 1\n",
            "현재 pair들의 빈도수  : {('l', 'o'): 7, ('o', 'w'): 7, ('w', '</w>'): 5, ('w', 'e'): 8, ('e', 'r'): 2, ('r', '</w>'): 2, ('n', 'e'): 6, ('e', 'w'): 6, ('e', 's'): 9, ('s', 't'): 9, ('t', '</w>'): 9, ('w', 'i'): 3, ('i', 'd'): 3, ('d', 'e'): 3}\n",
            "new merge : ('e', 's')\n",
            "dictionary : {'l o w </w>': 5, 'l o w e r </w>': 2, 'n e w es t </w>': 6, 'w i d es t </w>': 3}\n",
            ">> Step 2\n",
            "현재 pair들의 빈도수  : {('l', 'o'): 7, ('o', 'w'): 7, ('w', '</w>'): 5, ('w', 'e'): 2, ('e', 'r'): 2, ('r', '</w>'): 2, ('n', 'e'): 6, ('e', 'w'): 6, ('w', 'es'): 6, ('es', 't'): 9, ('t', '</w>'): 9, ('w', 'i'): 3, ('i', 'd'): 3, ('d', 'es'): 3}\n",
            "new merge : ('es', 't')\n",
            "dictionary : {'l o w </w>': 5, 'l o w e r </w>': 2, 'n e w est </w>': 6, 'w i d est </w>': 3}\n",
            ">> Step 3\n",
            "현재 pair들의 빈도수  : {('l', 'o'): 7, ('o', 'w'): 7, ('w', '</w>'): 5, ('w', 'e'): 2, ('e', 'r'): 2, ('r', '</w>'): 2, ('n', 'e'): 6, ('e', 'w'): 6, ('w', 'est'): 6, ('est', '</w>'): 9, ('w', 'i'): 3, ('i', 'd'): 3, ('d', 'est'): 3}\n",
            "new merge : ('est', '</w>')\n",
            "dictionary : {'l o w </w>': 5, 'l o w e r </w>': 2, 'n e w est</w>': 6, 'w i d est</w>': 3}\n",
            ">> Step 4\n",
            "현재 pair들의 빈도수  : {('l', 'o'): 7, ('o', 'w'): 7, ('w', '</w>'): 5, ('w', 'e'): 2, ('e', 'r'): 2, ('r', '</w>'): 2, ('n', 'e'): 6, ('e', 'w'): 6, ('w', 'est</w>'): 6, ('w', 'i'): 3, ('i', 'd'): 3, ('d', 'est</w>'): 3}\n",
            "new merge : ('l', 'o')\n",
            "dictionary : {'lo w </w>': 5, 'lo w e r </w>': 2, 'n e w est</w>': 6, 'w i d est</w>': 3}\n",
            ">> Step 5\n",
            "현재 pair들의 빈도수  : {('lo', 'w'): 7, ('w', '</w>'): 5, ('w', 'e'): 2, ('e', 'r'): 2, ('r', '</w>'): 2, ('n', 'e'): 6, ('e', 'w'): 6, ('w', 'est</w>'): 6, ('w', 'i'): 3, ('i', 'd'): 3, ('d', 'est</w>'): 3}\n",
            "new merge : ('lo', 'w')\n",
            "dictionary : {'low </w>': 5, 'low e r </w>': 2, 'n e w est</w>': 6, 'w i d est</w>': 3}\n",
            ">> Step 6\n",
            "현재 pair들의 빈도수  : {('low', '</w>'): 5, ('low', 'e'): 2, ('e', 'r'): 2, ('r', '</w>'): 2, ('n', 'e'): 6, ('e', 'w'): 6, ('w', 'est</w>'): 6, ('w', 'i'): 3, ('i', 'd'): 3, ('d', 'est</w>'): 3}\n",
            "new merge : ('n', 'e')\n",
            "dictionary : {'low </w>': 5, 'low e r </w>': 2, 'ne w est</w>': 6, 'w i d est</w>': 3}\n",
            ">> Step 7\n",
            "현재 pair들의 빈도수  : {('low', '</w>'): 5, ('low', 'e'): 2, ('e', 'r'): 2, ('r', '</w>'): 2, ('ne', 'w'): 6, ('w', 'est</w>'): 6, ('w', 'i'): 3, ('i', 'd'): 3, ('d', 'est</w>'): 3}\n",
            "new merge : ('ne', 'w')\n",
            "dictionary : {'low </w>': 5, 'low e r </w>': 2, 'new est</w>': 6, 'w i d est</w>': 3}\n",
            ">> Step 8\n",
            "현재 pair들의 빈도수  : {('low', '</w>'): 5, ('low', 'e'): 2, ('e', 'r'): 2, ('r', '</w>'): 2, ('new', 'est</w>'): 6, ('w', 'i'): 3, ('i', 'd'): 3, ('d', 'est</w>'): 3}\n",
            "new merge : ('new', 'est</w>')\n",
            "dictionary : {'low </w>': 5, 'low e r </w>': 2, 'newest</w>': 6, 'w i d est</w>': 3}\n",
            ">> Step 9\n",
            "현재 pair들의 빈도수  : {('low', '</w>'): 5, ('low', 'e'): 2, ('e', 'r'): 2, ('r', '</w>'): 2, ('w', 'i'): 3, ('i', 'd'): 3, ('d', 'est</w>'): 3}\n",
            "new merge : ('low', '</w>')\n",
            "dictionary : {'low</w>': 5, 'low e r </w>': 2, 'newest</w>': 6, 'w i d est</w>': 3}\n",
            ">> Step 10\n",
            "현재 pair들의 빈도수  : {('low', 'e'): 2, ('e', 'r'): 2, ('r', '</w>'): 2, ('w', 'i'): 3, ('i', 'd'): 3, ('d', 'est</w>'): 3}\n",
            "new merge : ('w', 'i')\n",
            "dictionary : {'low</w>': 5, 'low e r </w>': 2, 'newest</w>': 6, 'wi d est</w>': 3}\n"
          ],
          "name": "stdout"
        }
      ]
    },
    {
      "cell_type": "code",
      "metadata": {
        "colab": {
          "base_uri": "https://localhost:8080/"
        },
        "id": "w7usG13lfrIv",
        "outputId": "55e21e87-c3b4-4fc1-87bc-b58d0905d2e6"
      },
      "source": [
        "# merge 했던 기록 출력\n",
        "\n",
        "print(bpe_codes)"
      ],
      "execution_count": 214,
      "outputs": [
        {
          "output_type": "stream",
          "text": [
            "{('e', 's'): 0, ('es', 't'): 1, ('est', '</w>'): 2, ('l', 'o'): 3, ('lo', 'w'): 4, ('n', 'e'): 5, ('ne', 'w'): 6, ('new', 'est</w>'): 7, ('low', '</w>'): 8, ('w', 'i'): 9}\n"
          ],
          "name": "stdout"
        }
      ]
    },
    {
      "cell_type": "markdown",
      "metadata": {
        "id": "4fqgexj6jdP_"
      },
      "source": [
        "##### OOV에 대처"
      ]
    },
    {
      "cell_type": "code",
      "metadata": {
        "id": "S1ECJjNylLI0"
      },
      "source": [
        "def get_pairs(word):\n",
        "    \"\"\"\n",
        "    Return set of symbol pairs in a word.\n",
        "    Word is represented as a tuple of symbols (symbols being variable-length strings).\n",
        "    \"\"\"\n",
        "    pairs = set()\n",
        "    prev_char = word[0]\n",
        "    for char in word[1:]:\n",
        "        pairs.add((prev_char, char))\n",
        "        prev_char = char\n",
        "    return pairs"
      ],
      "execution_count": 215,
      "outputs": []
    },
    {
      "cell_type": "code",
      "metadata": {
        "id": "kPu45XTHlYpS"
      },
      "source": [
        "def encode(orig):\n",
        "    \"\"\"Encode word based on list of BPE merge operations, which are applied consecutively\"\"\"\n",
        "\n",
        "    word = tuple(orig) + ('</w>',)\n",
        "    #display(Markdown(\"__word split into characters:__ <tt>{}</tt>\".format(word)))\n",
        "    print(\"__word split into characters:__ <tt>{}</tt>\".format(word))\n",
        "\n",
        "    pairs = get_pairs(word)\n",
        "    # 앞서 정의한 함수의 리턴값 할당\n",
        "\n",
        "    if not pairs:\n",
        "        return orig\n",
        "\n",
        "    iteration = 0\n",
        "    while True:\n",
        "        iteration += 1\n",
        "        #display(Markdown(\"__Iteration {}:__\".format(iteration)))\n",
        "        print(\"__Iteration {}:__\".format(iteration))\n",
        "\n",
        "        print(\"bigrams in the word: {}\".format(pairs))\n",
        "        bigram = min(pairs, key = lambda pair: bpe_codes.get(pair, float('inf')))\n",
        "        print(\"candidate for merging: {}\".format(bigram))\n",
        "        if bigram not in bpe_codes:\n",
        "            #display(Markdown(\"__Candidate not in BPE merges, algorithm stops.__\"))\n",
        "            print(\"__Candidate not in BPE merges, algorithm stops.__\")\n",
        "            break\n",
        "        first, second = bigram\n",
        "        new_word = []\n",
        "        i = 0\n",
        "        while i < len(word):\n",
        "            try:\n",
        "                j = word.index(first, i)\n",
        "                new_word.extend(word[i:j])\n",
        "                i = j\n",
        "            except:\n",
        "                new_word.extend(word[i:])\n",
        "                break\n",
        "\n",
        "            if word[i] == first and i < len(word)-1 and word[i+1] == second:\n",
        "                new_word.append(first+second)\n",
        "                i += 2\n",
        "            else:\n",
        "                new_word.append(word[i])\n",
        "                i += 1\n",
        "        new_word = tuple(new_word)\n",
        "        word = new_word\n",
        "        print(\"word after merging: {}\".format(word))\n",
        "        if len(word) == 1:\n",
        "            break\n",
        "        else:\n",
        "            pairs = get_pairs(word)\n",
        "\n",
        "    # 특별 토큰인 </w>는 출력하지 않는다.\n",
        "    if word[-1] == '</w>':\n",
        "        word = word[:-1]\n",
        "    elif word[-1].endswith('</w>'):\n",
        "        word = word[:-1] + (word[-1].replace('</w>',''),)\n",
        "\n",
        "    return word"
      ],
      "execution_count": 216,
      "outputs": []
    },
    {
      "cell_type": "code",
      "metadata": {
        "colab": {
          "base_uri": "https://localhost:8080/"
        },
        "id": "DFPXkNS3nLaN",
        "outputId": "985dc0b9-8dd2-4da7-e3df-480cc6f0ab0a"
      },
      "source": [
        "encode(\"loki\")"
      ],
      "execution_count": 217,
      "outputs": [
        {
          "output_type": "stream",
          "text": [
            "__word split into characters:__ <tt>('l', 'o', 'k', 'i', '</w>')</tt>\n",
            "__Iteration 1:__\n",
            "bigrams in the word: {('o', 'k'), ('i', '</w>'), ('l', 'o'), ('k', 'i')}\n",
            "candidate for merging: ('l', 'o')\n",
            "word after merging: ('lo', 'k', 'i', '</w>')\n",
            "__Iteration 2:__\n",
            "bigrams in the word: {('k', 'i'), ('i', '</w>'), ('lo', 'k')}\n",
            "candidate for merging: ('k', 'i')\n",
            "__Candidate not in BPE merges, algorithm stops.__\n"
          ],
          "name": "stdout"
        },
        {
          "output_type": "execute_result",
          "data": {
            "text/plain": [
              "('lo', 'k', 'i')"
            ]
          },
          "metadata": {
            "tags": []
          },
          "execution_count": 217
        }
      ]
    },
    {
      "cell_type": "code",
      "metadata": {
        "colab": {
          "base_uri": "https://localhost:8080/"
        },
        "id": "aB6vFxxun6i0",
        "outputId": "6945a54b-3dbc-41e9-caf6-26d6eb7290e3"
      },
      "source": [
        "encode(\"hiking\")"
      ],
      "execution_count": 218,
      "outputs": [
        {
          "output_type": "stream",
          "text": [
            "__word split into characters:__ <tt>('h', 'i', 'k', 'i', 'n', 'g', '</w>')</tt>\n",
            "__Iteration 1:__\n",
            "bigrams in the word: {('k', 'i'), ('i', 'n'), ('h', 'i'), ('n', 'g'), ('i', 'k'), ('g', '</w>')}\n",
            "candidate for merging: ('k', 'i')\n",
            "__Candidate not in BPE merges, algorithm stops.__\n"
          ],
          "name": "stdout"
        },
        {
          "output_type": "execute_result",
          "data": {
            "text/plain": [
              "('h', 'i', 'k', 'i', 'n', 'g')"
            ]
          },
          "metadata": {
            "tags": []
          },
          "execution_count": 218
        }
      ]
    },
    {
      "cell_type": "markdown",
      "metadata": {
        "id": "Z8OWImBnpjYI"
      },
      "source": [
        "## IMDB 리뷰 토큰화"
      ]
    },
    {
      "cell_type": "code",
      "metadata": {
        "id": "jyFv3CO5zyK_"
      },
      "source": [
        "import tensorflow_datasets as tfds\n",
        "import urllib.request\n",
        "import pandas as pd"
      ],
      "execution_count": 220,
      "outputs": []
    },
    {
      "cell_type": "code",
      "metadata": {
        "colab": {
          "base_uri": "https://localhost:8080/"
        },
        "id": "rfLELt9jz5HW",
        "outputId": "48887292-db6a-4f46-8dd0-3f2afe1e9aac"
      },
      "source": [
        "# 데이터 기져오기\n",
        "\n",
        "urllib.request.urlretrieve(\"https://raw.githubusercontent.com/LawrenceDuan/IMDb-Review-Analysis/master/IMDb_Reviews.csv\", filename=\"IMDb_Reviews.csv\")\n",
        "# 지정한 URL에 있는 데이터를 IMDb_Reviews.csv라는 이름으로 가져옴"
      ],
      "execution_count": 221,
      "outputs": [
        {
          "output_type": "execute_result",
          "data": {
            "text/plain": [
              "('IMDb_Reviews.csv', <http.client.HTTPMessage at 0x7f0f97dd0750>)"
            ]
          },
          "metadata": {
            "tags": []
          },
          "execution_count": 221
        }
      ]
    },
    {
      "cell_type": "code",
      "metadata": {
        "id": "xaHsW5BL0Qez"
      },
      "source": [
        "# 데이터 불러오기\n",
        "\n",
        "train_df = pd.read_csv(\"IMDb_Reviews.csv\")\n",
        "# 앞서 가져온 데이터를 읽어들여서 train_df에 할당"
      ],
      "execution_count": 222,
      "outputs": []
    },
    {
      "cell_type": "code",
      "metadata": {
        "colab": {
          "base_uri": "https://localhost:8080/"
        },
        "id": "76Q5aKrj0fZn",
        "outputId": "337af2fb-62b6-4b08-fb2d-1ae9618b9416"
      },
      "source": [
        "# 데이터 확인 1\n",
        "\n",
        "train_df[\"review\"]"
      ],
      "execution_count": 223,
      "outputs": [
        {
          "output_type": "execute_result",
          "data": {
            "text/plain": [
              "0        My family and I normally do not watch local mo...\n",
              "1        Believe it or not, this was at one time the wo...\n",
              "2        After some internet surfing, I found the \"Home...\n",
              "3        One of the most unheralded great works of anim...\n",
              "4        It was the Sixties, and anyone with long hair ...\n",
              "                               ...                        \n",
              "49995    the people who came up with this are SICK AND ...\n",
              "49996    The script is so so laughable... this in turn,...\n",
              "49997    \"So there's this bride, you see, and she gets ...\n",
              "49998    Your mind will not be satisfied by this nobud...\n",
              "49999    The chaser's war on everything is a weekly sho...\n",
              "Name: review, Length: 50000, dtype: object"
            ]
          },
          "metadata": {
            "tags": []
          },
          "execution_count": 223
        }
      ]
    },
    {
      "cell_type": "code",
      "metadata": {
        "colab": {
          "base_uri": "https://localhost:8080/"
        },
        "id": "V7vmpmBt0g6g",
        "outputId": "bb878d53-e8e0-4859-ae39-dd0006ccb4c2"
      },
      "source": [
        "# 데이터 확인 2\n",
        "\n",
        "train_df[\"sentiment\"]"
      ],
      "execution_count": 224,
      "outputs": [
        {
          "output_type": "execute_result",
          "data": {
            "text/plain": [
              "0        1\n",
              "1        0\n",
              "2        0\n",
              "3        1\n",
              "4        0\n",
              "        ..\n",
              "49995    0\n",
              "49996    0\n",
              "49997    0\n",
              "49998    0\n",
              "49999    1\n",
              "Name: sentiment, Length: 50000, dtype: int64"
            ]
          },
          "metadata": {
            "tags": []
          },
          "execution_count": 224
        }
      ]
    },
    {
      "cell_type": "code",
      "metadata": {
        "id": "JNWYwOUt0q5M"
      },
      "source": [
        "# train_df[\"review\"] 토큰화\n",
        "\n",
        "tokenizer = tfds.deprecated.text.SubwordTextEncoder.build_from_corpus(train_df[\"review\"], target_vocab_size=2**13)\n",
        "\n",
        "# vocab size\n",
        "# vocab 사이즈를 2^13으로 준 것\n",
        "# 긴 문장에 맞춰 임의로 지정해주는것임\n",
        "# 너무 길어도 오래걸리므로 적절한 사이즈를 지정해주는것이 중요\n",
        "\n",
        "# train_df[\"review\"]의 데이터를 지정한 vocab size에 맞게 토큰화"
      ],
      "execution_count": 225,
      "outputs": []
    },
    {
      "cell_type": "code",
      "metadata": {
        "colab": {
          "base_uri": "https://localhost:8080/"
        },
        "id": "cUx9zOrU0zrX",
        "outputId": "73519a4d-ee75-41bf-d49b-c21afec34386"
      },
      "source": [
        "# 결과 확인\n",
        "\n",
        "print(tokenizer.subwords[:100])"
      ],
      "execution_count": 226,
      "outputs": [
        {
          "output_type": "stream",
          "text": [
            "['the_', ', ', '. ', 'a_', 'and_', 'of_', 'to_', 's_', 'is_', 'br', 'in_', 'I_', 'that_', 'this_', 'it_', ' /><', ' />', 'was_', 'The_', 't_', 'as_', 'with_', 'for_', '.<', 'on_', 'but_', 'movie_', 'are_', ' (', 'have_', 'his_', 'film_', 'not_', 'be_', 'you_', 'ing_', ' \"', 'ed_', 'it', 'd_', 'an_', 'at_', 'by_', 'he_', 'one_', 'who_', 'from_', 'y_', 'or_', 'e_', 'like_', 'all_', '\" ', 'they_', 'so_', 'just_', 'has_', ') ', 'about_', 'her_', 'out_', 'This_', 'some_', 'movie', 'ly_', 'film', 'very_', 'more_', 'It_', 'what_', 'would_', 'when_', 'if_', 'good_', 'up_', 'which_', 'their_', 'only_', 'even_', 'my_', 'really_', 'had_', 'can_', 'no_', 'were_', 'see_', '? ', 'she_', 'than_', '! ', 'there_', 'been_', 'get_', 'into_', 'will_', ' - ', 'much_', 'n_', 'because_', 'ing']\n"
          ],
          "name": "stdout"
        }
      ]
    },
    {
      "cell_type": "code",
      "metadata": {
        "colab": {
          "base_uri": "https://localhost:8080/"
        },
        "id": "vX805blI2Tf0",
        "outputId": "2f545389-7ebb-499a-f1c2-b73e5054f106"
      },
      "source": [
        "# 21번째 샘플 출력\n",
        "\n",
        "print(train_df[\"review\"][20])"
      ],
      "execution_count": 227,
      "outputs": [
        {
          "output_type": "stream",
          "text": [
            "Pretty bad PRC cheapie which I rarely bother to watch over again, and it's no wonder -- it's slow and creaky and dull as a butter knife. Mad doctor George Zucco is at it again, turning a dimwitted farmhand in overalls (Glenn Strange) into a wolf-man. Unfortunately, the makeup is virtually non-existent, consisting only of a beard and dimestore fangs for the most part. If it were not for Zucco and Strange's presence, along with the cute Anne Nagel, this would be completely unwatchable. Strange, who would go on to play Frankenstein's monster for Unuiversal in two years, does a Lenny impression from \"Of Mice and Men\", it seems.<br /><br />*1/2 (of Four)\n"
          ],
          "name": "stdout"
        }
      ]
    },
    {
      "cell_type": "code",
      "metadata": {
        "colab": {
          "base_uri": "https://localhost:8080/"
        },
        "id": "VGKmc0Uv2blo",
        "outputId": "98907d85-7f7c-4c83-ca62-3355ac10725a"
      },
      "source": [
        "# train_df[\"riview\"][20]에 있는 것을 tokenizer.encode를 이용하여 숫자로 인코딩\n",
        "\n",
        "print(\"토큰화된 샘플 질문 : {}\".format(tokenizer.encode(train_df[\"review\"][20])))"
      ],
      "execution_count": 228,
      "outputs": [
        {
          "output_type": "stream",
          "text": [
            "토큰화된 샘플 질문 : [1590, 4162, 132, 7107, 1892, 2983, 578, 76, 12, 4632, 3422, 7, 160, 175, 372, 2, 5, 39, 8051, 8, 84, 2652, 497, 39, 8051, 8, 1374, 5, 3461, 2012, 48, 5, 2263, 21, 4, 2992, 127, 4729, 711, 3, 1391, 8044, 3557, 1277, 8102, 2154, 5681, 9, 42, 15, 372, 2, 3773, 4, 3502, 2308, 467, 4890, 1503, 11, 3347, 1419, 8127, 29, 5539, 98, 6099, 58, 94, 4, 1388, 4230, 8057, 213, 3, 1966, 2, 1, 6700, 8044, 9, 7069, 716, 8057, 6600, 2, 4102, 36, 78, 6, 4, 1865, 40, 5, 3502, 1043, 1645, 8044, 1000, 1813, 23, 1, 105, 1128, 3, 156, 15, 85, 33, 23, 8102, 2154, 5681, 5, 6099, 8051, 8, 7271, 1055, 2, 534, 22, 1, 3046, 5214, 810, 634, 8120, 2, 14, 71, 34, 436, 3311, 5447, 783, 3, 6099, 2, 46, 71, 193, 25, 7, 428, 2274, 2260, 6487, 8051, 8, 2149, 23, 1138, 4117, 6023, 163, 11, 148, 735, 2, 164, 4, 5277, 921, 3395, 1262, 37, 639, 1349, 349, 5, 2460, 328, 15, 5349, 8127, 24, 10, 16, 10, 17, 8054, 8061, 8059, 8062, 29, 6, 6607, 8126, 8053]\n"
          ],
          "name": "stdout"
        }
      ]
    },
    {
      "cell_type": "code",
      "metadata": {
        "colab": {
          "base_uri": "https://localhost:8080/"
        },
        "id": "ChvLYKWM2qRG",
        "outputId": "47f3598b-64a5-44cf-cbef-acd617525057"
      },
      "source": [
        "sample_string = \"it's mind-bolowing to me that this film was even made.\"\n",
        "\n",
        "# 샘플 문장 인코딩\n",
        "tokenized_string = tokenizer.encode(sample_string)\n",
        "print(f\"정수 인코딩 후의 문장 : {tokenized_string}\")\n",
        "\n",
        "# 인코딩한 샘플문장을 디코딩하여 원래 형태로 복원 \n",
        "original_string = tokenizer.decode(tokenized_string)\n",
        "print(f\"기존문장 : {original_string}\")"
      ],
      "execution_count": 229,
      "outputs": [
        {
          "output_type": "stream",
          "text": [
            "정수 인코딩 후의 문장 : [39, 8051, 8, 910, 8057, 3132, 1960, 36, 7, 103, 13, 14, 32, 18, 79, 681, 8058]\n",
            "기존문장 : it's mind-bolowing to me that this film was even made.\n"
          ],
          "name": "stdout"
        }
      ]
    },
    {
      "cell_type": "code",
      "metadata": {
        "colab": {
          "base_uri": "https://localhost:8080/"
        },
        "id": "hCxeUXbB3Mk_",
        "outputId": "ca03c309-e333-46f2-ca90-1f4a51678f2d"
      },
      "source": [
        "# 토큰화 하여 만들어진 단어집합 크기\n",
        "# 각각 맵핑된 결과\n",
        "\n",
        "print(f\"단어집합의 크기(Vocab size) : {tokenizer.vocab_size}\")"
      ],
      "execution_count": 230,
      "outputs": [
        {
          "output_type": "stream",
          "text": [
            "단어집합의 크기(Vocab size) : 8268\n"
          ],
          "name": "stdout"
        }
      ]
    },
    {
      "cell_type": "code",
      "metadata": {
        "colab": {
          "base_uri": "https://localhost:8080/"
        },
        "id": "z26-CUox4zje",
        "outputId": "4c5fb09c-014e-425e-ac3e-b5262e2f87c3"
      },
      "source": [
        "# 숫자와 문자 맵핑 내용 확인\n",
        "# 숫자로 디코딩된 토큰들의 맵핑. 토큰의 인덱스 확인\n",
        "\n",
        "for ts in tokenized_string:\n",
        "  print(f\"{ts} ---> {tokenizer.decode([ts])}\")"
      ],
      "execution_count": 231,
      "outputs": [
        {
          "output_type": "stream",
          "text": [
            "39 ---> it\n",
            "8051 ---> '\n",
            "8 ---> s \n",
            "910 ---> mind\n",
            "8057 ---> -\n",
            "3132 ---> bol\n",
            "1960 ---> ow\n",
            "36 ---> ing \n",
            "7 ---> to \n",
            "103 ---> me \n",
            "13 ---> that \n",
            "14 ---> this \n",
            "32 ---> film \n",
            "18 ---> was \n",
            "79 ---> even \n",
            "681 ---> made\n",
            "8058 ---> .\n"
          ],
          "name": "stdout"
        }
      ]
    },
    {
      "cell_type": "code",
      "metadata": {
        "colab": {
          "base_uri": "https://localhost:8080/"
        },
        "id": "4RGpyoHL5Yse",
        "outputId": "5b07e48e-8dfa-45ad-95a1-caf2cc6008e4"
      },
      "source": [
        "# 학습되어있는 것과 다른 단어가 들어올 시 어떻게 반응?\n",
        "\n",
        "# sample_string = \"it's mind-bolowing to me that this film was even made.\"이 원본. \n",
        "# even에 xyz를 붙여 어떠한 결과가 나오는지 확인\n",
        "sample_string = \"it's mind-bolowing to me that this film was evenxyz made.\"\n",
        "\n",
        "\n",
        "# 샘플 문장 인코딩\n",
        "tokenized_string = tokenizer.encode(sample_string)\n",
        "print(f\"정수 인코딩 후의 문장 : {tokenized_string}\")\n",
        "\n",
        "# 인코딩한 샘플문장을 디코딩하여 원래 형태로 복원 \n",
        "original_string = tokenizer.decode(tokenized_string)\n",
        "print(f\"기존문장 : {original_string}\")\n",
        "print()\n",
        "\n",
        "\n",
        "# 숫자와 문자 맵핑 내용 확인\n",
        "for ts in tokenized_string:\n",
        "  print(f\"{ts} ---> {tokenizer.decode([ts])}\")\n",
        "\n",
        "\n",
        "# xyz는 들어온 적 없는 단어이므로 분리되어 각각의 토큰으로 처리됨"
      ],
      "execution_count": 232,
      "outputs": [
        {
          "output_type": "stream",
          "text": [
            "정수 인코딩 후의 문장 : [39, 8051, 8, 910, 8057, 3132, 1960, 36, 7, 103, 13, 14, 32, 18, 7974, 8132, 8133, 997, 681, 8058]\n",
            "기존문장 : it's mind-bolowing to me that this film was evenxyz made.\n",
            "\n",
            "39 ---> it\n",
            "8051 ---> '\n",
            "8 ---> s \n",
            "910 ---> mind\n",
            "8057 ---> -\n",
            "3132 ---> bol\n",
            "1960 ---> ow\n",
            "36 ---> ing \n",
            "7 ---> to \n",
            "103 ---> me \n",
            "13 ---> that \n",
            "14 ---> this \n",
            "32 ---> film \n",
            "18 ---> was \n",
            "7974 ---> even\n",
            "8132 ---> x\n",
            "8133 ---> y\n",
            "997 ---> z \n",
            "681 ---> made\n",
            "8058 ---> .\n"
          ],
          "name": "stdout"
        }
      ]
    },
    {
      "cell_type": "markdown",
      "metadata": {
        "id": "qi56VTIA6n9z"
      },
      "source": [
        "## 파이썬 TF-IDF 구현"
      ]
    },
    {
      "cell_type": "code",
      "metadata": {
        "id": "8zOuVHrHuocN"
      },
      "source": [
        "# 필요 라이브러리 불러오기\n",
        "\n",
        "import pandas as pd\n",
        "from math import log"
      ],
      "execution_count": 233,
      "outputs": []
    },
    {
      "cell_type": "code",
      "metadata": {
        "id": "vnpUVz8juywh"
      },
      "source": [
        "docs = [\n",
        "        \"먹고 싶은 사과\",\n",
        "        \"먹고 싶은 바나나\",\n",
        "        \"길고 노란 바나나 바나나\",\n",
        "        \"저는 과일이 좋아요\"\n",
        "]"
      ],
      "execution_count": 234,
      "outputs": []
    },
    {
      "cell_type": "code",
      "metadata": {
        "colab": {
          "base_uri": "https://localhost:8080/"
        },
        "id": "9ft-uA63u4Vf",
        "outputId": "19a499a7-4566-461c-d586-bcbfd77e818c"
      },
      "source": [
        "# 공백 기준 split\n",
        "\n",
        "vocab = list(set(w for doc in docs for w in doc.split()))\n",
        "vocab.sort()\n",
        "vocab"
      ],
      "execution_count": 235,
      "outputs": [
        {
          "output_type": "execute_result",
          "data": {
            "text/plain": [
              "['과일이', '길고', '노란', '먹고', '바나나', '사과', '싶은', '저는', '좋아요']"
            ]
          },
          "metadata": {
            "tags": []
          },
          "execution_count": 235
        }
      ]
    },
    {
      "cell_type": "code",
      "metadata": {
        "colab": {
          "base_uri": "https://localhost:8080/"
        },
        "id": "zyIKwNuLvDdV",
        "outputId": "90675ea5-f8d0-40ec-c02d-17804f8951b1"
      },
      "source": [
        "# 문서의 총 수\n",
        "n = len(docs)\n",
        "print(n)"
      ],
      "execution_count": 236,
      "outputs": [
        {
          "output_type": "stream",
          "text": [
            "4\n"
          ],
          "name": "stdout"
        }
      ]
    },
    {
      "cell_type": "code",
      "metadata": {
        "id": "CllT7TiSvYxq"
      },
      "source": [
        "# TF 구현\n",
        "\n",
        "def tf(t, d):\n",
        "  return d.count(t)\n",
        "  # doucument 문서의 단어수"
      ],
      "execution_count": 237,
      "outputs": []
    },
    {
      "cell_type": "code",
      "metadata": {
        "id": "lGcP4jvMvmPd"
      },
      "source": [
        "# IDF 구현\n",
        "\n",
        "def idf(t):\n",
        "  df = 0\n",
        "  for doc in docs:\n",
        "    df += t in doc\n",
        "  return log(n/(df+1)) "
      ],
      "execution_count": 238,
      "outputs": []
    },
    {
      "cell_type": "code",
      "metadata": {
        "id": "2WkzTGq2vvqX"
      },
      "source": [
        "# TF-IDF 구현\n",
        "\n",
        "def tfidf(t, d):\n",
        "  return tf(t, d) * idf(t)"
      ],
      "execution_count": 239,
      "outputs": []
    },
    {
      "cell_type": "code",
      "metadata": {
        "colab": {
          "base_uri": "https://localhost:8080/",
          "height": 191
        },
        "id": "tMEQMa1Yv0Xe",
        "outputId": "d652a42f-41ee-4bd9-eb86-2dbc3e805058"
      },
      "source": [
        "# TF-IDF 테스트\n",
        "\n",
        "result = []\n",
        "\n",
        "for i in range(n):\n",
        "  result.append([])\n",
        "  d = docs[i]\n",
        "  for j in range(len(vocab)):\n",
        "    t = vocab[j]\n",
        "    result[-1].append(tfidf(t, d))\n",
        "\n",
        "tfidf_ = pd.DataFrame(result, columns = vocab)\n",
        "display(tfidf_)\n",
        "\n",
        "print(docs)"
      ],
      "execution_count": 240,
      "outputs": [
        {
          "output_type": "display_data",
          "data": {
            "text/html": [
              "<div>\n",
              "<style scoped>\n",
              "    .dataframe tbody tr th:only-of-type {\n",
              "        vertical-align: middle;\n",
              "    }\n",
              "\n",
              "    .dataframe tbody tr th {\n",
              "        vertical-align: top;\n",
              "    }\n",
              "\n",
              "    .dataframe thead th {\n",
              "        text-align: right;\n",
              "    }\n",
              "</style>\n",
              "<table border=\"1\" class=\"dataframe\">\n",
              "  <thead>\n",
              "    <tr style=\"text-align: right;\">\n",
              "      <th></th>\n",
              "      <th>과일이</th>\n",
              "      <th>길고</th>\n",
              "      <th>노란</th>\n",
              "      <th>먹고</th>\n",
              "      <th>바나나</th>\n",
              "      <th>사과</th>\n",
              "      <th>싶은</th>\n",
              "      <th>저는</th>\n",
              "      <th>좋아요</th>\n",
              "    </tr>\n",
              "  </thead>\n",
              "  <tbody>\n",
              "    <tr>\n",
              "      <th>0</th>\n",
              "      <td>0.000000</td>\n",
              "      <td>0.000000</td>\n",
              "      <td>0.000000</td>\n",
              "      <td>0.287682</td>\n",
              "      <td>0.000000</td>\n",
              "      <td>0.693147</td>\n",
              "      <td>0.287682</td>\n",
              "      <td>0.000000</td>\n",
              "      <td>0.000000</td>\n",
              "    </tr>\n",
              "    <tr>\n",
              "      <th>1</th>\n",
              "      <td>0.000000</td>\n",
              "      <td>0.000000</td>\n",
              "      <td>0.000000</td>\n",
              "      <td>0.287682</td>\n",
              "      <td>0.287682</td>\n",
              "      <td>0.000000</td>\n",
              "      <td>0.287682</td>\n",
              "      <td>0.000000</td>\n",
              "      <td>0.000000</td>\n",
              "    </tr>\n",
              "    <tr>\n",
              "      <th>2</th>\n",
              "      <td>0.000000</td>\n",
              "      <td>0.693147</td>\n",
              "      <td>0.693147</td>\n",
              "      <td>0.000000</td>\n",
              "      <td>0.575364</td>\n",
              "      <td>0.000000</td>\n",
              "      <td>0.000000</td>\n",
              "      <td>0.000000</td>\n",
              "      <td>0.000000</td>\n",
              "    </tr>\n",
              "    <tr>\n",
              "      <th>3</th>\n",
              "      <td>0.693147</td>\n",
              "      <td>0.000000</td>\n",
              "      <td>0.000000</td>\n",
              "      <td>0.000000</td>\n",
              "      <td>0.000000</td>\n",
              "      <td>0.000000</td>\n",
              "      <td>0.000000</td>\n",
              "      <td>0.693147</td>\n",
              "      <td>0.693147</td>\n",
              "    </tr>\n",
              "  </tbody>\n",
              "</table>\n",
              "</div>"
            ],
            "text/plain": [
              "        과일이        길고        노란  ...        싶은        저는       좋아요\n",
              "0  0.000000  0.000000  0.000000  ...  0.287682  0.000000  0.000000\n",
              "1  0.000000  0.000000  0.000000  ...  0.287682  0.000000  0.000000\n",
              "2  0.000000  0.693147  0.693147  ...  0.000000  0.000000  0.000000\n",
              "3  0.693147  0.000000  0.000000  ...  0.000000  0.693147  0.693147\n",
              "\n",
              "[4 rows x 9 columns]"
            ]
          },
          "metadata": {
            "tags": []
          }
        },
        {
          "output_type": "stream",
          "text": [
            "['먹고 싶은 사과', '먹고 싶은 바나나', '길고 노란 바나나 바나나', '저는 과일이 좋아요']\n"
          ],
          "name": "stdout"
        }
      ]
    },
    {
      "cell_type": "markdown",
      "metadata": {
        "id": "ysqfwP1NwDrw"
      },
      "source": [
        "## scikit-learn을 이용한 TF-IDF 구현"
      ]
    },
    {
      "cell_type": "code",
      "metadata": {
        "id": "0L20aKkIy8nW"
      },
      "source": [
        "# import\n",
        "\n",
        "from sklearn.feature_extraction.text import TfidfVectorizer\n",
        "from copy import copy"
      ],
      "execution_count": 241,
      "outputs": []
    },
    {
      "cell_type": "code",
      "metadata": {
        "id": "vMDhWa9nzDSB"
      },
      "source": [
        "corpus = copy(docs)\n",
        "\n",
        "# corpus = docs를 하면 \n",
        "# corpus가 변경되면 docs도 변경되므로 카피하였음"
      ],
      "execution_count": 242,
      "outputs": []
    },
    {
      "cell_type": "code",
      "metadata": {
        "colab": {
          "base_uri": "https://localhost:8080/"
        },
        "id": "e554MUPYzKl1",
        "outputId": "f808641e-0490-4da1-b3cc-36133aa4f48c"
      },
      "source": [
        "# TF-IDF 구현 및 테스트\n",
        "\n",
        "tfidfv = TfidfVectorizer().fit(corpus)\n",
        "\n",
        "print(tfidfv.transform(corpus).toarray())\n",
        "print()\n",
        "\n",
        "print(tfidfv.vocabulary_)\n",
        "\n",
        "# 패키지마다 TF-IDF 구현하는 방법이 조금씩 다름\n",
        "# 따라서 앞에서 구현한 값과는 다를 수 있음"
      ],
      "execution_count": 243,
      "outputs": [
        {
          "output_type": "stream",
          "text": [
            "[[0.         0.         0.         0.52640543 0.         0.66767854\n",
            "  0.52640543 0.         0.        ]\n",
            " [0.         0.         0.         0.57735027 0.57735027 0.\n",
            "  0.57735027 0.         0.        ]\n",
            " [0.         0.47212003 0.47212003 0.         0.7444497  0.\n",
            "  0.         0.         0.        ]\n",
            " [0.57735027 0.         0.         0.         0.         0.\n",
            "  0.         0.57735027 0.57735027]]\n",
            "\n",
            "{'먹고': 3, '싶은': 6, '사과': 5, '바나나': 4, '길고': 1, '노란': 2, '저는': 7, '과일이': 0, '좋아요': 8}\n"
          ],
          "name": "stdout"
        }
      ]
    },
    {
      "cell_type": "markdown",
      "metadata": {
        "id": "PiyxM28DzZI-"
      },
      "source": [
        "## 로이터 데이터로 TF-IDF 학습"
      ]
    },
    {
      "cell_type": "code",
      "metadata": {
        "id": "tHDPaXpa0qAe"
      },
      "source": [
        "# import\n",
        "\n",
        "from tensorflow.keras.datasets import reuters\n",
        "import matplotlib.pyplot as plt\n",
        "import seaborn as sns\n",
        "import numpy as np\n",
        "import pandas as pd"
      ],
      "execution_count": 244,
      "outputs": []
    },
    {
      "cell_type": "code",
      "metadata": {
        "colab": {
          "base_uri": "https://localhost:8080/"
        },
        "id": "8XSymEd502qq",
        "outputId": "b7ff2306-16d4-4130-bf39-41a2a30503e5"
      },
      "source": [
        "(x_train, y_train), (x_test, y_test) = reuters.load_data(num_words=10000, test_split=0.2)\n",
        "\n",
        "# 데이터에서 빈도수 기준 상위 몇번째 단어까지 사용할건지?\n",
        "# 테스트 데이터 20퍼, 등장빈도 상위 10000번. \n",
        "# 반드시 괄호쳐야됨. 로이터 load_data의 리턴값이 2개임"
      ],
      "execution_count": 245,
      "outputs": [
        {
          "output_type": "stream",
          "text": [
            "Downloading data from https://storage.googleapis.com/tensorflow/tf-keras-datasets/reuters.npz\n",
            "2113536/2110848 [==============================] - 0s 0us/step\n"
          ],
          "name": "stdout"
        },
        {
          "output_type": "stream",
          "text": [
            "/usr/local/lib/python3.7/dist-packages/tensorflow/python/keras/datasets/reuters.py:143: VisibleDeprecationWarning: Creating an ndarray from ragged nested sequences (which is a list-or-tuple of lists-or-tuples-or ndarrays with different lengths or shapes) is deprecated. If you meant to do this, you must specify 'dtype=object' when creating the ndarray\n",
            "  x_train, y_train = np.array(xs[:idx]), np.array(labels[:idx])\n",
            "/usr/local/lib/python3.7/dist-packages/tensorflow/python/keras/datasets/reuters.py:144: VisibleDeprecationWarning: Creating an ndarray from ragged nested sequences (which is a list-or-tuple of lists-or-tuples-or ndarrays with different lengths or shapes) is deprecated. If you meant to do this, you must specify 'dtype=object' when creating the ndarray\n",
            "  x_test, y_test = np.array(xs[idx:]), np.array(labels[idx:])\n"
          ],
          "name": "stderr"
        }
      ]
    },
    {
      "cell_type": "code",
      "metadata": {
        "colab": {
          "base_uri": "https://localhost:8080/"
        },
        "id": "-aDWMFkQ1J35",
        "outputId": "b086fe60-1850-4c02-8679-980ad441e215"
      },
      "source": [
        "print(f\"훈련 샘플의 수 : {len(x_train)}\")\n",
        "print(f\"테스트 샘플의 수 : {len(x_test)}\")"
      ],
      "execution_count": 246,
      "outputs": [
        {
          "output_type": "stream",
          "text": [
            "훈련 샘플의 수 : 8982\n",
            "테스트 샘플의 수 : 2246\n"
          ],
          "name": "stdout"
        }
      ]
    },
    {
      "cell_type": "code",
      "metadata": {
        "colab": {
          "base_uri": "https://localhost:8080/"
        },
        "id": "0aGYFI6t1dml",
        "outputId": "fd3ffa03-c502-4de6-b96e-8cc9e9e6692a"
      },
      "source": [
        "print(x_train[0])\n",
        "print(x_test[0])\n",
        "\n",
        "# 인코딩되어있는 데이터를 불러옴"
      ],
      "execution_count": 247,
      "outputs": [
        {
          "output_type": "stream",
          "text": [
            "[1, 2, 2, 8, 43, 10, 447, 5, 25, 207, 270, 5, 3095, 111, 16, 369, 186, 90, 67, 7, 89, 5, 19, 102, 6, 19, 124, 15, 90, 67, 84, 22, 482, 26, 7, 48, 4, 49, 8, 864, 39, 209, 154, 6, 151, 6, 83, 11, 15, 22, 155, 11, 15, 7, 48, 9, 4579, 1005, 504, 6, 258, 6, 272, 11, 15, 22, 134, 44, 11, 15, 16, 8, 197, 1245, 90, 67, 52, 29, 209, 30, 32, 132, 6, 109, 15, 17, 12]\n",
            "[1, 4, 1378, 2025, 9, 697, 4622, 111, 8, 25, 109, 29, 3650, 11, 150, 244, 364, 33, 30, 30, 1398, 333, 6, 2, 159, 9, 1084, 363, 13, 2, 71, 9, 2, 71, 117, 4, 225, 78, 206, 10, 9, 1214, 8, 4, 270, 5, 2, 7, 748, 48, 9, 2, 7, 207, 1451, 966, 1864, 793, 97, 133, 336, 7, 4, 493, 98, 273, 104, 284, 25, 39, 338, 22, 905, 220, 3465, 644, 59, 20, 6, 119, 61, 11, 15, 58, 579, 26, 10, 67, 7, 4, 738, 98, 43, 88, 333, 722, 12, 20, 6, 19, 746, 35, 15, 10, 9, 1214, 855, 129, 783, 21, 4, 2280, 244, 364, 51, 16, 299, 452, 16, 515, 4, 99, 29, 5, 4, 364, 281, 48, 10, 9, 1214, 23, 644, 47, 20, 324, 27, 56, 2, 2, 5, 192, 510, 17, 12]\n"
          ],
          "name": "stdout"
        }
      ]
    },
    {
      "cell_type": "code",
      "metadata": {
        "colab": {
          "base_uri": "https://localhost:8080/"
        },
        "id": "KzqjRIky1kWB",
        "outputId": "039f4e34-6148-4ce7-a70a-b9da0333a926"
      },
      "source": [
        "print(f\"훈련 샘플의 수 : {len(y_train)}\")\n",
        "print(f\"테스트 샘플의 수 : {len(y_test)}\")\n",
        "print()\n",
        "\n",
        "print(y_train[0])\n",
        "print(y_test[0])"
      ],
      "execution_count": 248,
      "outputs": [
        {
          "output_type": "stream",
          "text": [
            "훈련 샘플의 수 : 8982\n",
            "테스트 샘플의 수 : 2246\n",
            "\n",
            "3\n",
            "3\n"
          ],
          "name": "stdout"
        }
      ]
    },
    {
      "cell_type": "code",
      "metadata": {
        "colab": {
          "base_uri": "https://localhost:8080/"
        },
        "id": "rQ3UnkX416Ui",
        "outputId": "ea8394f7-b868-4935-d00d-42cbe4a7f646"
      },
      "source": [
        "num_classes = max(y_train) + 1\n",
        "print(f\"클래스의 수 : {num_classes}\")"
      ],
      "execution_count": 249,
      "outputs": [
        {
          "output_type": "stream",
          "text": [
            "클래스의 수 : 46\n"
          ],
          "name": "stdout"
        }
      ]
    },
    {
      "cell_type": "code",
      "metadata": {
        "colab": {
          "base_uri": "https://localhost:8080/"
        },
        "id": "AmwuFOFf2FZw",
        "outputId": "69207262-349c-4071-fdf7-f83e3f6bb44c"
      },
      "source": [
        "print(f\"훈련용 뉴스의 최대 길이 : {max(len(l) for l in x_train)}\")\n",
        "print(f\"훈련용 뉴스의 평균 길이 : {sum(map(len, x_train)) / len(x_train)}\")"
      ],
      "execution_count": 250,
      "outputs": [
        {
          "output_type": "stream",
          "text": [
            "훈련용 뉴스의 최대 길이 : 2376\n",
            "훈련용 뉴스의 평균 길이 : 145.5398574927633\n"
          ],
          "name": "stdout"
        }
      ]
    },
    {
      "cell_type": "code",
      "metadata": {
        "colab": {
          "base_uri": "https://localhost:8080/",
          "height": 279
        },
        "id": "H92B1zip2WRg",
        "outputId": "817fd340-bbd1-47c6-8e04-d02d48f349b0"
      },
      "source": [
        "# 샘플의 수 시각화\n",
        "\n",
        "plt.hist([len(s) for s in x_train], bins = 50)\n",
        "plt.xlabel(\"length of samples\")\n",
        "plt.ylabel(\"number of samples\")\n",
        "plt.show()"
      ],
      "execution_count": 251,
      "outputs": [
        {
          "output_type": "display_data",
          "data": {
            "image/png": "[encoded data removed]",
            "text/plain": [
              "<Figure size 432x288 with 1 Axes>"
            ]
          },
          "metadata": {
            "tags": [],
            "needs_background": "light"
          }
        }
      ]
    },
    {
      "cell_type": "code",
      "metadata": {
        "colab": {
          "base_uri": "https://localhost:8080/",
          "height": 394
        },
        "id": "aHCAIOqW23Tk",
        "outputId": "96dc2b2f-6cf6-473a-bd42-e63c1b8c59af"
      },
      "source": [
        "# 클래스는 모델의 성능에 영향을 미침\n",
        "# 클래스를 확인해볼것임\n",
        "\n",
        "fig, axe = plt.subplots(ncols = 1)\n",
        "fig.set_size_inches(12, 5)\n",
        "sns.countplot(y_train)\n",
        "\n",
        "# 3, 4 번이 빈도수가 높음\n",
        "# 대부분의 뉴스가 0 언저리에 있음"
      ],
      "execution_count": 252,
      "outputs": [
        {
          "output_type": "stream",
          "text": [
            "/usr/local/lib/python3.7/dist-packages/seaborn/_decorators.py:43: FutureWarning: Pass the following variable as a keyword arg: x. From version 0.12, the only valid positional argument will be `data`, and passing other arguments without an explicit keyword will result in an error or misinterpretation.\n",
            "  FutureWarning\n"
          ],
          "name": "stderr"
        },
        {
          "output_type": "execute_result",
          "data": {
            "text/plain": [
              "<matplotlib.axes._subplots.AxesSubplot at 0x7f0f96c237d0>"
            ]
          },
          "metadata": {
            "tags": []
          },
          "execution_count": 252
        },
        {
          "output_type": "display_data",
          "data": {
            "image/png": "[encoded data removed]",
            "text/plain": [
              "<Figure size 864x360 with 1 Axes>"
            ]
          },
          "metadata": {
            "tags": [],
            "needs_background": "light"
          }
        }
      ]
    },
    {
      "cell_type": "code",
      "metadata": {
        "colab": {
          "base_uri": "https://localhost:8080/"
        },
        "id": "QhQnkNot3b85",
        "outputId": "bc824d52-2177-41fc-df2d-f2f9054d2d4a"
      },
      "source": [
        "# 클래스별 빈도수\n",
        "\n",
        "unique_elements, counts_elements = np.unique(y_train, return_counts=True)\n",
        "# return_counts를 허용하였기 때문에 인자가 2개가 된것으로 추정됨\n",
        "# 원래는 y_train의 유니크 값만 반환이었을듯\n",
        "\n",
        "print(\"각 클래스 빈도수 : \")\n",
        "print(np.asarray((unique_elements, counts_elements)))\n",
        "\n",
        "# 3, 4 번 클래스의 빈도수가 3159, 1949개로 그래프에서 본 것 처럼 높음"
      ],
      "execution_count": 253,
      "outputs": [
        {
          "output_type": "stream",
          "text": [
            "각 클래스 빈도수 : \n",
            "[[   0    1    2    3    4    5    6    7    8    9   10   11   12   13\n",
            "    14   15   16   17   18   19   20   21   22   23   24   25   26   27\n",
            "    28   29   30   31   32   33   34   35   36   37   38   39   40   41\n",
            "    42   43   44   45]\n",
            " [  55  432   74 3159 1949   17   48   16  139  101  124  390   49  172\n",
            "    26   20  444   39   66  549  269  100   15   41   62   92   24   15\n",
            "    48   19   45   39   32   11   50   10   49   19   19   24   36   30\n",
            "    13   21   12   18]]\n"
          ],
          "name": "stdout"
        }
      ]
    },
    {
      "cell_type": "code",
      "metadata": {
        "colab": {
          "base_uri": "https://localhost:8080/"
        },
        "id": "jkudTcSD4Doy",
        "outputId": "d1e1b7ee-4c62-4025-fac0-2db579a6d7ee"
      },
      "source": [
        "# 맵핑 확인\n",
        "\n",
        "word_index = reuters.get_word_index(path=\"reuters_word_index.json\")\n",
        "\n",
        "# 어떤 단어와 맵핑되어있는지 확인 할 수 있도록 함"
      ],
      "execution_count": 254,
      "outputs": [
        {
          "output_type": "stream",
          "text": [
            "Downloading data from https://storage.googleapis.com/tensorflow/tf-keras-datasets/reuters_word_index.json\n",
            "557056/550378 [==============================] - 0s 0us/step\n"
          ],
          "name": "stdout"
        }
      ]
    },
    {
      "cell_type": "code",
      "metadata": {
        "colab": {
          "base_uri": "https://localhost:8080/"
        },
        "id": "CoTXr1Z84oQb",
        "outputId": "b451a456-1db0-45c8-d500-662de7234f6b"
      },
      "source": [
        "word_index[\"the\"]"
      ],
      "execution_count": 255,
      "outputs": [
        {
          "output_type": "execute_result",
          "data": {
            "text/plain": [
              "1"
            ]
          },
          "metadata": {
            "tags": []
          },
          "execution_count": 255
        }
      ]
    },
    {
      "cell_type": "code",
      "metadata": {
        "colab": {
          "base_uri": "https://localhost:8080/"
        },
        "id": "6TyxOhb04v5v",
        "outputId": "4bba9151-29ef-48fe-9eff-1a5a8c8e544e"
      },
      "source": [
        "word_index[\"it\"]"
      ],
      "execution_count": 256,
      "outputs": [
        {
          "output_type": "execute_result",
          "data": {
            "text/plain": [
              "13"
            ]
          },
          "metadata": {
            "tags": []
          },
          "execution_count": 256
        }
      ]
    },
    {
      "cell_type": "code",
      "metadata": {
        "id": "qYuw3P1i4ygV"
      },
      "source": [
        "# index를 word로 변환하는 작업\n",
        "\n",
        "# 순서 + 3을 더한게 원래 데이터의 인덱스 값임.\n",
        "# 로이터 데이터에서 인덱스를 만들때 정한 규칙임\n",
        "# 따라서 위 인덱스 값에서 3을 더해서 계산해야함\n",
        "\n",
        "index_to_word = {index + 3: word for word, index in word_index.items()}"
      ],
      "execution_count": 257,
      "outputs": []
    },
    {
      "cell_type": "code",
      "metadata": {
        "colab": {
          "base_uri": "https://localhost:8080/"
        },
        "id": "YuoTEkcZ5aSf",
        "outputId": "fa36d0ab-86c8-4e57-afb5-f245c2816475"
      },
      "source": [
        "print(index_to_word[4])\n",
        "print(index_to_word[16])\n",
        "\n",
        "# 위의 인덱스와는 다르지만 값은 같음"
      ],
      "execution_count": 258,
      "outputs": [
        {
          "output_type": "stream",
          "text": [
            "the\n",
            "it\n"
          ],
          "name": "stdout"
        }
      ]
    },
    {
      "cell_type": "code",
      "metadata": {
        "id": "tWtkWXP75fLb"
      },
      "source": [
        "# 0~2 인덱스에 맵핑 되어있는것\n",
        "# 0 : <pad>\n",
        "# 1 : <sos>\n",
        "# 2 : <unk>\n",
        "# 자연어 처리를 위해 해당 인덱스에는 이러한 것들이 들어있음\n",
        "\n",
        "for index, token in enumerate((\"<pad>\", \"<sos>\", \"<unk>\")):\n",
        "  index_to_word[index] = token"
      ],
      "execution_count": 259,
      "outputs": []
    },
    {
      "cell_type": "code",
      "metadata": {
        "colab": {
          "base_uri": "https://localhost:8080/"
        },
        "id": "CwnQ0fSD6AWx",
        "outputId": "4fc72bcf-b6cb-47a3-8e8c-9e80a211a9ca"
      },
      "source": [
        "# 디코딩 결과\n",
        "\n",
        "print(\" \".join([index_to_word[index] for index in x_train[0]]))"
      ],
      "execution_count": 260,
      "outputs": [
        {
          "output_type": "stream",
          "text": [
            "<sos> <unk> <unk> said as a result of its december acquisition of space co it expects earnings per share in 1987 of 1 15 to 1 30 dlrs per share up from 70 cts in 1986 the company said pretax net should rise to nine to 10 mln dlrs from six mln dlrs in 1986 and rental operation revenues to 19 to 22 mln dlrs from 12 5 mln dlrs it said cash flow per share this year should be 2 50 to three dlrs reuter 3\n"
          ],
          "name": "stdout"
        }
      ]
    },
    {
      "cell_type": "code",
      "metadata": {
        "id": "89m14ikv6M8T"
      },
      "source": [
        "# tf-idf 적용\n",
        "# train \n",
        "\n",
        "decoded = []\n",
        "\n",
        "for i in range(len(x_train)):\n",
        "  t = \" \".join([index_to_word[index] for index in x_train[i]])\n",
        "  decoded.append(t)\n",
        "\n",
        "x_train = copy(decoded)"
      ],
      "execution_count": 261,
      "outputs": []
    },
    {
      "cell_type": "code",
      "metadata": {
        "id": "gtK1X7B8DSy9"
      },
      "source": [
        "# tf-idf\n",
        "# test\n",
        "\n",
        "decoded = []\n",
        "\n",
        "for i in range(len(x_test)):\n",
        "  t = \" \".join([index_to_word[index] for index in x_test[i]])\n",
        "  decoded.append(t)\n",
        "\n",
        "x_test = copy(decoded)"
      ],
      "execution_count": 262,
      "outputs": []
    },
    {
      "cell_type": "code",
      "metadata": {
        "colab": {
          "base_uri": "https://localhost:8080/"
        },
        "id": "uFa-ep7lDd2N",
        "outputId": "864ea85a-8ef9-4d54-bf54-5157581b7eec"
      },
      "source": [
        "x_train[:5]"
      ],
      "execution_count": 263,
      "outputs": [
        {
          "output_type": "execute_result",
          "data": {
            "text/plain": [
              "['<sos> <unk> <unk> said as a result of its december acquisition of space co it expects earnings per share in 1987 of 1 15 to 1 30 dlrs per share up from 70 cts in 1986 the company said pretax net should rise to nine to 10 mln dlrs from six mln dlrs in 1986 and rental operation revenues to 19 to 22 mln dlrs from 12 5 mln dlrs it said cash flow per share this year should be 2 50 to three dlrs reuter 3',\n",
              " '<sos> generale de banque sa lt <unk> br and lt heller overseas corp of chicago have each taken 50 pct stakes in <unk> company sa <unk> factors generale de banque said in a statement it gave no financial details of the transaction sa <unk> <unk> turnover in 1986 was 17 5 billion belgian francs reuter 3',\n",
              " '<sos> shr 3 28 dlrs vs 22 cts shr diluted 2 99 dlrs vs 22 cts net 46 0 mln vs 3 328 000 avg shrs 14 0 mln vs 15 2 mln year shr 5 41 dlrs vs 1 56 dlrs shr diluted 4 94 dlrs vs 1 50 dlrs net 78 2 mln vs 25 9 mln avg shrs 14 5 mln vs 15 1 mln note earnings per share reflect the two for one split effective january 6 1987 per share amounts are calculated after preferred stock dividends loss continuing operations for the qtr 1986 includes gains of sale of investments in <unk> corp of 14 mln dlrs and associated companies of 4 189 000 less writedowns of investments in national <unk> inc of 11 8 mln and <unk> corp of 15 6 mln reuter 3',\n",
              " \"<sos> the farmers home administration the u s agriculture department's farm lending arm could lose about seven billion dlrs in outstanding principal on its severely <unk> borrowers or about one fourth of its farm loan portfolio the general accounting office gao said in remarks prepared for delivery to the senate agriculture committee brian crowley senior associate director of gao also said that a preliminary analysis of proposed changes in <unk> financial eligibility standards indicated as many as one half of <unk> borrowers who received new loans from the agency in 1986 would be <unk> under the proposed system the agency has proposed evaluating <unk> credit using a variety of financial ratios instead of relying solely on <unk> ability senate agriculture committee chairman patrick leahy d vt <unk> the proposed eligibility changes telling <unk> administrator <unk> clark at a hearing that they would mark a dramatic shift in the agency's purpose away from being farmers' lender of last resort toward becoming a big city bank but clark defended the new regulations saying the agency had a responsibility to <unk> its 70 billion dlr loan portfolio in a <unk> yet <unk> manner crowley of gao <unk> <unk> arm said the proposed credit <unk> system attempted to ensure that <unk> would make loans only to borrowers who had a reasonable change of repaying their debt reuter 3\",\n",
              " '<sos> seton co said its board has received a proposal from chairman and chief executive officer philip d <unk> to acquire seton for 15 75 dlrs per share in cash seton said the acquisition bid is subject to <unk> arranging the necessary financing it said he intends to ask other members of senior management to participate the company said <unk> owns 30 pct of seton stock and other management members another 7 5 pct seton said it has formed an independent board committee to consider the offer and has deferred the annual meeting it had scheduled for march 31 reuter 3']"
            ]
          },
          "metadata": {
            "tags": []
          },
          "execution_count": 263
        }
      ]
    },
    {
      "cell_type": "code",
      "metadata": {
        "colab": {
          "base_uri": "https://localhost:8080/"
        },
        "id": "OxmPigkEDhjt",
        "outputId": "f6459c70-5a4d-449a-9a50-3349695b4d4e"
      },
      "source": [
        "x_test[:5]"
      ],
      "execution_count": 264,
      "outputs": [
        {
          "output_type": "execute_result",
          "data": {
            "text/plain": [
              "['<sos> the great atlantic and pacific tea co said its three year 345 mln dlr capital program will be be substantially increased to <unk> growth and expansion plans for <unk> inc and <unk> inc over the next two years a and p said the acquisition of <unk> in august 1986 and <unk> in december helped us achieve better than expected results in the fourth quarter ended february 28 its net income from continuing operations jumped 52 6 pct to 20 7 mln dlrs or 55 cts a share in the latest quarter as sales increased 48 3 pct to 1 58 billion dlrs a and p gave no details on the expanded capital program but it did say it completed the first year of the program during 1986 a and p is 52 4 pct owned by lt <unk> <unk> of west germany reuter 3',\n",
              " \"<sos> philippine sugar production in the 1987 88 crop year ending august has been set at 1 6 mln tonnes up from a provisional 1 3 mln tonnes this year sugar regulatory administration <unk> chairman <unk> yulo said yulo told reuters a survey during the current milling season which ends next month showed the 1986 87 estimate would almost certainly be met he said at least 1 2 mln tonnes of the 1987 88 crop would be earmarked for domestic consumption yulo said about 130 000 tonnes would be set aside for the u s sugar quota 150 000 tonnes for strategic reserves and 50 000 tonnes would be sold on the world market he said if the government approved a long standing <unk> recommendation to manufacture ethanol the project would take up another 150 000 tonnes slightly raising the target the government for its own reasons has been delaying approval of the project but we expect it to come through by july yulo said ethanol could make up five pct of gasoline cutting the oil import bill by about 300 mln pesos yulo said three major philippine <unk> were ready to start manufacturing ethanol if the project was approved the ethanol project would result in employment for about 100 000 people sharply reducing those thrown out of work by depressed world sugar prices and a <unk> domestic industry production quotas set for the first time in 1987 88 had been submitted to president corazon aquino i think the president would rather wait <unk> the new congress <unk> after the may elections he said but there is really no need for such quotas we are right now producing just slightly over our own consumption level the producers have never enjoyed such high prices yulo said adding sugar was currently selling locally for 320 pesos per <unk> up from 190 pesos last august yulo said prices were driven up because of speculation following the <unk> bid to control production we are no longer concerned so much with the world market he said adding producers in the <unk> region had learned from their <unk> and diversified into corn and <unk> farming and <unk> production he said diversification into products other than ethanol was also possible within the sugar industry the <unk> long ago <unk> their <unk> yulo said they have 300 sugar mills compared with our 41 but they <unk> many of them and diversified production we want to call this a <unk> <unk> instead of the sugar industry he said sugarcane could be fed to pigs and livestock used for <unk> <unk> or used in room <unk> when you cut sugarcane you don't even have to produce sugar he said yulo said the philippines was lobbying for a renewal of the international sugar agreement which expired in 1984 as a major sugar producer we are urging them to write a new agreement which would revive world prices yulo said if there is no agreement world prices will always be depressed particularly because the european community is <unk> its producers and dumping sugar on the markets he said current world prices holding steady at about 7 60 cents per pound were <unk> for the philippines where production costs ranged from 12 to 14 cents a pound if the price holds steady for a while at 7 60 cents i expect the level to rise to about 11 cents a pound by the end of this year he said yulo said economists forecast a bullish sugar market by 1990 with world consumption <unk> production he said sugar markets were holding up despite <unk> from artificial sweeteners and high fructose corn syrup but we are not happy with the reagan administration he said since <unk> we have been regular suppliers of sugar to the u s in 1982 when they restored the quota system they cut <unk> in half without any justification manila was <unk> watching washington's moves to cut domestic support prices to 12 cents a pound from 18 cents the u s agriculture department last december slashed its 12 month 1987 sugar import quota from the philippines to 143 780 short tons from 231 660 short tons in 1986 yulo said despite next year's increased production target some philippine mills were expected to shut down at least four of the 41 mills were not working during the 1986 87 season he said we expect two or three more to follow suit during the next season reuter 3\",\n",
              " \"<sos> the agriculture department's widening of louisiana gulf differentials will affect county posted prices for number two yellow corn in ten states a usda official said all counties in iowa will be affected as will counties which use the gulf to price corn in illinois indiana tennessee kentucky missouri mississippi arkansas alabama and louisiana said <unk> <unk> deputy director of commodity operations division for the usda usda last night notified the grain industry that effective immediately all gulf differentials used to price interior corn would be widened on a sliding scale basis of four to eight cts depending on what the differential is usda's action was taken to lower excessively high posted county prices for corn caused by high gulf prices we've been following this louisiana gulf situation for a month and we don't think it's going to get back in line in any nearby time <unk> said <unk> said usda will probably narrow back the gulf differentials when and if gulf prices <unk> if we're off the mark now because we're too high wouldn't we be as much off the mark if we're too low he said while forecasting more adjustments if gulf prices fall <unk> said no other changes in usda's price system are being planned right now we don't tinker we don't make changes <unk> and we don't make changes often he said reuter 3\",\n",
              " '<sos> <unk> <unk> oil and gas partnership said it completed the sale of interests in two major oil and gas fields to lt energy assets international corp for 21 mln dlrs the company said it sold about one half of its 50 pct interest in the oak hill and north <unk> fields its two largest producing properties it said it used about 20 mln dlrs of the proceeds to <unk> principal on its senior secured notes semi annual principal payments on the remaining 40 mln dlrs of notes have been satisfied until december 1988 as a result it said the company said the note agreements were amended to reflect an easing of some financial covenants and an increase of interest to 13 5 pct from 13 0 pct until december 1990 it said the <unk> exercise price for 1 125 000 warrants was also reduced to 50 cts from 1 50 dlrs the company said energy assets agreed to share the costs of increasing production at the oak hill field reuter 3',\n",
              " '<sos> strong south <unk> winds were keeping many vessels trapped in the ice off the finnish and swedish coasts in one of the worst icy periods in the baltic for many years the finnish board of navigation said in finland and sweden up to 50 vessels were reported to be stuck in the ice and even the largest of the <unk> <unk> were having difficulties in breaking through to the <unk> ships <unk> officials said however icy conditions in the southern baltic at the soviet oil ports of <unk> and <unk> had eased they said weather officials in neighbouring sweden said the icy conditions in the baltic were the worst for 30 years with ships fighting a losing battle to keep moving in the coastal stretches of the gulf of <unk> which <unk> finland and sweden the ice is up to one <unk> thick with <unk> and <unk> packing it into almost <unk> walls three metres high swedish <unk> officials said weather forecasts say winds may ease during the weekend but a further drop in temperature could bring shipping to a standstill the officials said reuter 3']"
            ]
          },
          "metadata": {
            "tags": []
          },
          "execution_count": 264
        }
      ]
    },
    {
      "cell_type": "code",
      "metadata": {
        "id": "2Ttve21KDktH"
      },
      "source": [
        "# import\n",
        "\n",
        "from sklearn.feature_extraction.text import TfidfTransformer\n",
        "from sklearn.feature_extraction.text import CountVectorizer"
      ],
      "execution_count": 265,
      "outputs": []
    },
    {
      "cell_type": "code",
      "metadata": {
        "colab": {
          "base_uri": "https://localhost:8080/"
        },
        "id": "jXn_jtViEck7",
        "outputId": "375b97f7-cc4e-4d2d-c04c-09f8ac2d5fb8"
      },
      "source": [
        "dtmvector = CountVectorizer()\n",
        "x_train_dtm = dtmvector.fit_transform(x_train)\n",
        "print(x_train_dtm.shape)\n",
        "\n",
        "print(x_train_dtm)"
      ],
      "execution_count": 266,
      "outputs": [
        {
          "output_type": "stream",
          "text": [
            "(8982, 9670)\n",
            "  (0, 8272)\t1\n",
            "  (0, 9181)\t2\n",
            "  (0, 7834)\t3\n",
            "  (0, 1677)\t1\n",
            "  (0, 7633)\t1\n",
            "  (0, 6365)\t3\n",
            "  (0, 5223)\t1\n",
            "  (0, 3143)\t1\n",
            "  (0, 1233)\t1\n",
            "  (0, 8303)\t1\n",
            "  (0, 2565)\t1\n",
            "  (0, 5213)\t2\n",
            "  (0, 3945)\t1\n",
            "  (0, 3608)\t1\n",
            "  (0, 6682)\t3\n",
            "  (0, 8055)\t3\n",
            "  (0, 4945)\t3\n",
            "  (0, 249)\t1\n",
            "  (0, 172)\t1\n",
            "  (0, 8932)\t6\n",
            "  (0, 383)\t1\n",
            "  (0, 3475)\t6\n",
            "  (0, 9218)\t1\n",
            "  (0, 4325)\t3\n",
            "  (0, 828)\t1\n",
            "  :\t:\n",
            "  (8981, 4219)\t1\n",
            "  (8981, 1863)\t1\n",
            "  (8981, 1590)\t1\n",
            "  (8981, 1261)\t1\n",
            "  (8981, 9246)\t1\n",
            "  (8981, 5025)\t1\n",
            "  (8981, 1837)\t1\n",
            "  (8981, 2191)\t2\n",
            "  (8981, 5451)\t1\n",
            "  (8981, 7489)\t1\n",
            "  (8981, 1573)\t1\n",
            "  (8981, 4941)\t1\n",
            "  (8981, 6117)\t1\n",
            "  (8981, 5183)\t1\n",
            "  (8981, 7852)\t1\n",
            "  (8981, 8153)\t1\n",
            "  (8981, 4024)\t1\n",
            "  (8981, 3909)\t1\n",
            "  (8981, 1315)\t1\n",
            "  (8981, 2358)\t1\n",
            "  (8981, 6081)\t2\n",
            "  (8981, 5418)\t1\n",
            "  (8981, 9133)\t1\n",
            "  (8981, 9594)\t1\n",
            "  (8981, 7294)\t1\n"
          ],
          "name": "stdout"
        }
      ]
    },
    {
      "cell_type": "code",
      "metadata": {
        "colab": {
          "base_uri": "https://localhost:8080/"
        },
        "id": "P1q-68OdD1GM",
        "outputId": "0de3256b-3251-4b48-bd50-70f5ee3b7a78"
      },
      "source": [
        "tfidf_transformer = TfidfTransformer()\n",
        "tfidfv = tfidf_transformer.fit_transform(x_train_dtm)\n",
        "print(tfidfv.shape)"
      ],
      "execution_count": 267,
      "outputs": [
        {
          "output_type": "stream",
          "text": [
            "(8982, 9670)\n"
          ],
          "name": "stdout"
        }
      ]
    },
    {
      "cell_type": "code",
      "metadata": {
        "colab": {
          "base_uri": "https://localhost:8080/",
          "height": 394
        },
        "id": "pEqWyaTEELFv",
        "outputId": "762fa24c-de48-4251-aa44-b8b587dbcca8"
      },
      "source": [
        "# 다음시간에 수정해주신다고 하셨음\n",
        "\n",
        "from sklearn.metrics import classification_report\n",
        "from sklearn.metrics import accuracy_score\n",
        "from sklearn.naive_bayes import MultinomialNB\n",
        "\n",
        "mod = MultinomialNB()\n",
        "\n",
        "x_test_dtm = dtmvector.transform(x_test)\n",
        "tfidfv_test = tfidf_transformer.transform(x_test_dtm)\n",
        "\n",
        "print(classification_report(y_test, mod.predict(tfidfv_test)))"
      ],
      "execution_count": 268,
      "outputs": [
        {
          "output_type": "error",
          "ename": "NotFittedError",
          "evalue": "ignored",
          "traceback": [
            "\u001b[0;31m---------------------------------------------------------------------------\u001b[0m",
            "\u001b[0;31mNotFittedError\u001b[0m                            Traceback (most recent call last)",
            "\u001b[0;32m<ipython-input-268-8f8a384a1331>\u001b[0m in \u001b[0;36m<module>\u001b[0;34m()\u001b[0m\n\u001b[1;32m     10\u001b[0m \u001b[0mtfidfv_test\u001b[0m \u001b[0;34m=\u001b[0m \u001b[0mtfidf_transformer\u001b[0m\u001b[0;34m.\u001b[0m\u001b[0mtransform\u001b[0m\u001b[0;34m(\u001b[0m\u001b[0mx_test_dtm\u001b[0m\u001b[0;34m)\u001b[0m\u001b[0;34m\u001b[0m\u001b[0;34m\u001b[0m\u001b[0m\n\u001b[1;32m     11\u001b[0m \u001b[0;34m\u001b[0m\u001b[0m\n\u001b[0;32m---> 12\u001b[0;31m \u001b[0mprint\u001b[0m\u001b[0;34m(\u001b[0m\u001b[0mclassification_report\u001b[0m\u001b[0;34m(\u001b[0m\u001b[0my_test\u001b[0m\u001b[0;34m,\u001b[0m \u001b[0mmod\u001b[0m\u001b[0;34m.\u001b[0m\u001b[0mpredict\u001b[0m\u001b[0;34m(\u001b[0m\u001b[0mtfidfv_test\u001b[0m\u001b[0;34m)\u001b[0m\u001b[0;34m)\u001b[0m\u001b[0;34m)\u001b[0m\u001b[0;34m\u001b[0m\u001b[0;34m\u001b[0m\u001b[0m\n\u001b[0m",
            "\u001b[0;32m/usr/local/lib/python3.7/dist-packages/sklearn/naive_bayes.py\u001b[0m in \u001b[0;36mpredict\u001b[0;34m(self, X)\u001b[0m\n\u001b[1;32m     73\u001b[0m             \u001b[0mPredicted\u001b[0m \u001b[0mtarget\u001b[0m \u001b[0mvalues\u001b[0m \u001b[0;32mfor\u001b[0m \u001b[0mX\u001b[0m\u001b[0;34m\u001b[0m\u001b[0;34m\u001b[0m\u001b[0m\n\u001b[1;32m     74\u001b[0m         \"\"\"\n\u001b[0;32m---> 75\u001b[0;31m         \u001b[0mcheck_is_fitted\u001b[0m\u001b[0;34m(\u001b[0m\u001b[0mself\u001b[0m\u001b[0;34m)\u001b[0m\u001b[0;34m\u001b[0m\u001b[0;34m\u001b[0m\u001b[0m\n\u001b[0m\u001b[1;32m     76\u001b[0m         \u001b[0mX\u001b[0m \u001b[0;34m=\u001b[0m \u001b[0mself\u001b[0m\u001b[0;34m.\u001b[0m\u001b[0m_check_X\u001b[0m\u001b[0;34m(\u001b[0m\u001b[0mX\u001b[0m\u001b[0;34m)\u001b[0m\u001b[0;34m\u001b[0m\u001b[0;34m\u001b[0m\u001b[0m\n\u001b[1;32m     77\u001b[0m         \u001b[0mjll\u001b[0m \u001b[0;34m=\u001b[0m \u001b[0mself\u001b[0m\u001b[0;34m.\u001b[0m\u001b[0m_joint_log_likelihood\u001b[0m\u001b[0;34m(\u001b[0m\u001b[0mX\u001b[0m\u001b[0;34m)\u001b[0m\u001b[0;34m\u001b[0m\u001b[0;34m\u001b[0m\u001b[0m\n",
            "\u001b[0;32m/usr/local/lib/python3.7/dist-packages/sklearn/utils/validation.py\u001b[0m in \u001b[0;36mcheck_is_fitted\u001b[0;34m(estimator, attributes, msg, all_or_any)\u001b[0m\n\u001b[1;32m    965\u001b[0m \u001b[0;34m\u001b[0m\u001b[0m\n\u001b[1;32m    966\u001b[0m     \u001b[0;32mif\u001b[0m \u001b[0;32mnot\u001b[0m \u001b[0mattrs\u001b[0m\u001b[0;34m:\u001b[0m\u001b[0;34m\u001b[0m\u001b[0;34m\u001b[0m\u001b[0m\n\u001b[0;32m--> 967\u001b[0;31m         \u001b[0;32mraise\u001b[0m \u001b[0mNotFittedError\u001b[0m\u001b[0;34m(\u001b[0m\u001b[0mmsg\u001b[0m \u001b[0;34m%\u001b[0m \u001b[0;34m{\u001b[0m\u001b[0;34m'name'\u001b[0m\u001b[0;34m:\u001b[0m \u001b[0mtype\u001b[0m\u001b[0;34m(\u001b[0m\u001b[0mestimator\u001b[0m\u001b[0;34m)\u001b[0m\u001b[0;34m.\u001b[0m\u001b[0m__name__\u001b[0m\u001b[0;34m}\u001b[0m\u001b[0;34m)\u001b[0m\u001b[0;34m\u001b[0m\u001b[0;34m\u001b[0m\u001b[0m\n\u001b[0m\u001b[1;32m    968\u001b[0m \u001b[0;34m\u001b[0m\u001b[0m\n\u001b[1;32m    969\u001b[0m \u001b[0;34m\u001b[0m\u001b[0m\n",
            "\u001b[0;31mNotFittedError\u001b[0m: This MultinomialNB instance is not fitted yet. Call 'fit' with appropriate arguments before using this estimator."
          ]
        }
      ]
    },
    {
      "cell_type": "code",
      "metadata": {
        "id": "94-2UUVhFCqs"
      },
      "source": [
        "## 숙제\n",
        "# 지금까지 했던 코드들 복습\n",
        "# 주석달아오기\n",
        "# 지금까지 코드 주석달기...\n",
        "\n"
      ],
      "execution_count": null,
      "outputs": []
    }
  ]
}
