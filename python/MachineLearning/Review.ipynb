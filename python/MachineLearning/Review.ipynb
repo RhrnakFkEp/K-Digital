{
 "cells": [
  {
   "cell_type": "markdown",
   "metadata": {},
   "source": [
    "2021-06-03\n",
    "머신러닝 강의1"
   ]
  },
  {
   "cell_type": "code",
   "execution_count": 53,
   "metadata": {},
   "outputs": [],
   "source": [
    "# import\n",
    "\n",
    "import numpy as np\n",
    "import matplotlib.pyplot as plt\n",
    "from sklearn.model_selection import train_test_split\n",
    "from sklearn.neighbors import KNeighborsClassifier"
   ]
  },
  {
   "cell_type": "code",
   "execution_count": 16,
   "metadata": {},
   "outputs": [],
   "source": [
    "np.random.seed(1234)\n",
    "\n",
    "# fish length(domi/bing) features\n",
    "domi_length = np.random.normal(loc = 100, scale = 10, size = 50)\n",
    "bing_length = np.random.normal(loc = 80, scale = 10, size = 30)\n",
    "# 정규분포에서 각각의 인자의 의미?\n",
    "# 정규분포를 따르는걸 랜덤으로 만든다는것.\n",
    "# loc : location. 평균\n",
    "# scale : variance. 얼마나 퍼져있는지\n",
    "# size : 크기\n",
    "\n",
    "# print(domi_length)\n",
    "# print(np.shape(domi_length))\n",
    "\n",
    "\n",
    "# fish_weight(domi/bing) features\n",
    "domi_weight = np.random.normal(loc = 400, scale = 100, size = 50)\n",
    "bing_weight = np.random.normal(loc = 100, scale = 100, size = 30)"
   ]
  },
  {
   "cell_type": "code",
   "execution_count": 17,
   "metadata": {},
   "outputs": [],
   "source": [
    "# target\n",
    "domi_target = np.ones(50)\n",
    "bing_target = np.zeros(30)\n",
    "\n",
    "# print(domi_target)"
   ]
  },
  {
   "cell_type": "code",
   "execution_count": 35,
   "metadata": {},
   "outputs": [
    {
     "name": "stdout",
     "output_type": "stream",
     "text": [
      "(80, 2)\n"
     ]
    }
   ],
   "source": [
    "# 1d -> 2d\n",
    "\n",
    "# data\n",
    "fish_length = np.append(domi_length, bing_length)\n",
    "fish_weight = np.append(domi_weight, bing_weight)\n",
    "# 자료형이 ndarray라서 +로 연결불가\n",
    "\n",
    "# target\n",
    "fish_target = np.append(domi_target, bing_target)\n",
    "\n",
    "# print(np.shape(fish_length))\n",
    "# print(np.shape(fish_target))\n",
    "\n",
    "\n",
    "# sd\n",
    "fish_data = np.column_stack((fish_length, fish_weight))\n",
    "\n",
    "# print(np.shape(fish_data))"
   ]
  },
  {
   "cell_type": "code",
   "execution_count": 23,
   "metadata": {},
   "outputs": [
    {
     "data": {
      "image/png": "[encoded data removed]",
      "text/plain": [
       "<Figure size 432x288 with 1 Axes>"
      ]
     },
     "metadata": {
      "needs_background": "light"
     },
     "output_type": "display_data"
    }
   ],
   "source": [
    "plt.scatter(domi_length, domi_weight, label = \"domi\")\n",
    "plt.scatter(bing_length, bing_weight, label = \"bing\", c = \"r\")\n",
    "# color red\n",
    "plt.xlabel(\"Length\")\n",
    "plt.ylabel(\"Weight\")\n",
    "plt.legend()\n",
    "plt.show()"
   ]
  },
  {
   "cell_type": "code",
   "execution_count": 39,
   "metadata": {},
   "outputs": [
    {
     "name": "stdout",
     "output_type": "stream",
     "text": [
      "(60, 2)\n",
      "(20, 2)\n"
     ]
    }
   ],
   "source": [
    "# data splitting\n",
    "\n",
    "# default test = 0.25\n",
    "train_input, test_input, train_target, test_target = train_test_split(\n",
    "    fish_data, fish_target, stratify = fish_target, random_state = 1234)\n",
    "# 에이스 메트릭스화 하는게 스트라티파이. 샘플링 계층화\n",
    "# 편향 줄여줌\n",
    "\n",
    "# print(np.shape(train_input))\n",
    "# print(np.shape(test_input))"
   ]
  },
  {
   "cell_type": "code",
   "execution_count": 50,
   "metadata": {},
   "outputs": [],
   "source": [
    "# z-scoring, Feature engineering\n",
    "# sclaing\n",
    "\n",
    "# train의 mean\n",
    "fish_mean = np.mean(train_input, axis = 0)\n",
    "fish_std = np.std(train_input, axis = 0)\n",
    "# print(\"axis = 0, mean = \", fish_mean)\n",
    "\n",
    "train_scaled = (train_input - fish_mean)/fish_std\n",
    "# print(train_scaled)\n",
    "\n",
    "\n",
    "# test scaling\n",
    "# 트레이닝에서 구한걸로 테스트 스케일\n",
    "test_scaled = (test_input - fish_mean)/fish_std"
   ]
  },
  {
   "cell_type": "code",
   "execution_count": 52,
   "metadata": {},
   "outputs": [
    {
     "data": {
      "image/png": "[encoded data removed]",
      "text/plain": [
       "<Figure size 432x288 with 1 Axes>"
      ]
     },
     "metadata": {
      "needs_background": "light"
     },
     "output_type": "display_data"
    }
   ],
   "source": [
    "plt.scatter(train_scaled[:, 0], train_scaled[:, 1], label = \"train\")\n",
    "plt.scatter(test_scaled[:, 0], test_scaled[:, 1], label = \"test\")\n",
    "# color red\n",
    "plt.xlabel(\"Length\")\n",
    "plt.ylabel(\"Weight\")\n",
    "plt.legend()\n",
    "plt.show()"
   ]
  },
  {
   "cell_type": "code",
   "execution_count": 54,
   "metadata": {},
   "outputs": [
    {
     "data": {
      "text/plain": [
       "0.9"
      ]
     },
     "execution_count": 54,
     "metadata": {},
     "output_type": "execute_result"
    }
   ],
   "source": [
    "# KNN\n",
    "kn = KNeighborsClassifier()\n",
    "\n",
    "# Learning\n",
    "kn.fit(train_scaled, train_target)\n",
    "\n",
    "# accuracy\n",
    "kn.score(test_scaled, test_target)"
   ]
  },
  {
   "cell_type": "code",
   "execution_count": null,
   "metadata": {},
   "outputs": [],
   "source": []
  }
 ],
 "metadata": {
  "kernelspec": {
   "display_name": "Python 3",
   "language": "python",
   "name": "python3"
  },
  "language_info": {
   "codemirror_mode": {
    "name": "ipython",
    "version": 3
   },
   "file_extension": ".py",
   "mimetype": "text/x-python",
   "name": "python",
   "nbconvert_exporter": "python",
   "pygments_lexer": "ipython3",
   "version": "3.8.5"
  }
 },
 "nbformat": 4,
 "nbformat_minor": 4
}
