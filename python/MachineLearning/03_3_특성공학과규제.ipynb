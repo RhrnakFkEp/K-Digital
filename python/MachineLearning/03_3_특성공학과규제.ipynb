{
 "cells": [
  {
   "cell_type": "markdown",
   "metadata": {},
   "source": [
    "# 특성 공학과 규제"
   ]
  },
  {
   "cell_type": "markdown",
   "metadata": {},
   "source": [
    "<table align=\"left\">\n",
    "  <td>\n",
    "    <a target=\"_blank\" href=\"https://colab.research.google.com/github/rickiepark/hg-mldl/blob/master/3-3.ipynb\"><img src=\"https://www.tensorflow.org/images/colab_logo_32px.png\" />구글 코랩에서 실행하기</a>\n",
    "  </td>\n",
    "</table>"
   ]
  },
  {
   "cell_type": "markdown",
   "metadata": {
    "colab_type": "text",
    "id": "fZwhQU2l8tI6"
   },
   "source": [
    "## 데이터 준비"
   ]
  },
  {
   "cell_type": "code",
   "execution_count": 4,
   "metadata": {
    "colab": {},
    "colab_type": "code",
    "id": "3kjaTfOqEVwY"
   },
   "outputs": [],
   "source": [
    "import pandas as pd"
   ]
  },
  {
   "cell_type": "code",
   "execution_count": 5,
   "metadata": {
    "colab": {
     "base_uri": "https://localhost:8080/",
     "height": 985
    },
    "colab_type": "code",
    "executionInfo": {
     "elapsed": 1820,
     "status": "ok",
     "timestamp": 1588153467492,
     "user": {
      "displayName": "Haesun Park",
      "photoUrl": "https://lh3.googleusercontent.com/a-/AOh14GhsWlS7sKQL-9fIkg3FmxpTMz_u-KDSs8y__P1ngQ=s64",
      "userId": "14935388527648823821"
     },
     "user_tz": -540
    },
    "id": "8qmTS1RzKRKT",
    "outputId": "dffeed22-6b8a-432d-fd08-2a9fb1c693ec"
   },
   "outputs": [
    {
     "name": "stdout",
     "output_type": "stream",
     "text": [
      "<class 'numpy.ndarray'>\n",
      "[[ 8.4   2.11  1.41]\n",
      " [13.7   3.53  2.  ]\n",
      " [15.    3.82  2.43]\n",
      " [16.2   4.59  2.63]\n",
      " [17.4   4.59  2.94]\n",
      " [18.    5.22  3.32]\n",
      " [18.7   5.2   3.12]\n",
      " [19.    5.64  3.05]\n",
      " [19.6   5.14  3.04]\n",
      " [20.    5.08  2.77]\n",
      " [21.    5.69  3.56]\n",
      " [21.    5.92  3.31]\n",
      " [21.    5.69  3.67]\n",
      " [21.3   6.38  3.53]\n",
      " [22.    6.11  3.41]\n",
      " [22.    5.64  3.52]\n",
      " [22.    6.11  3.52]\n",
      " [22.    5.88  3.52]\n",
      " [22.    5.52  4.  ]\n",
      " [22.5   5.86  3.62]\n",
      " [22.5   6.79  3.62]\n",
      " [22.7   5.95  3.63]\n",
      " [23.    5.22  3.63]\n",
      " [23.5   6.28  3.72]\n",
      " [24.    7.29  3.72]\n",
      " [24.    6.38  3.82]\n",
      " [24.6   6.73  4.17]\n",
      " [25.    6.44  3.68]\n",
      " [25.6   6.56  4.24]\n",
      " [26.5   7.17  4.14]\n",
      " [27.3   8.32  5.14]\n",
      " [27.5   7.17  4.34]\n",
      " [27.5   7.05  4.34]\n",
      " [27.5   7.28  4.57]\n",
      " [28.    7.82  4.2 ]\n",
      " [28.7   7.59  4.64]\n",
      " [30.    7.62  4.77]\n",
      " [32.8  10.03  6.02]\n",
      " [34.5  10.26  6.39]\n",
      " [35.   11.49  7.8 ]\n",
      " [36.5  10.88  6.86]\n",
      " [36.   10.61  6.74]\n",
      " [37.   10.84  6.26]\n",
      " [37.   10.57  6.37]\n",
      " [39.   11.14  7.49]\n",
      " [39.   11.14  6.  ]\n",
      " [39.   12.43  7.35]\n",
      " [40.   11.93  7.11]\n",
      " [40.   11.73  7.22]\n",
      " [40.   12.38  7.46]\n",
      " [40.   11.14  6.63]\n",
      " [42.   12.8   6.87]\n",
      " [43.   11.93  7.28]\n",
      " [43.   12.51  7.42]\n",
      " [43.5  12.6   8.14]\n",
      " [44.   12.49  7.6 ]]\n"
     ]
    }
   ],
   "source": [
    "df = pd.read_csv('https://bit.ly/perch_csv')\n",
    "# print(type(df))\n",
    "# print(df)\n",
    "# 각각의 feature\n",
    "\n",
    "# 판다수 DataFrame 자료를 numpy 배열로 변환\n",
    "# 그래야 자료가 들어감\n",
    "perch_full = df.to_numpy()\n",
    "print(type(perch_full))\n",
    "\n",
    "# 농어\n",
    "print(perch_full)"
   ]
  },
  {
   "cell_type": "code",
   "execution_count": 6,
   "metadata": {
    "colab": {},
    "colab_type": "code",
    "id": "PsRC7rvE9SbL"
   },
   "outputs": [],
   "source": [
    "import numpy as np\n",
    "\n",
    "perch_weight = np.array(\n",
    "    [5.9, 32.0, 40.0, 51.5, 70.0, 100.0, 78.0, 80.0, 85.0, 85.0, \n",
    "     110.0, 115.0, 125.0, 130.0, 120.0, 120.0, 130.0, 135.0, 110.0, \n",
    "     130.0, 150.0, 145.0, 150.0, 170.0, 225.0, 145.0, 188.0, 180.0, \n",
    "     197.0, 218.0, 300.0, 260.0, 265.0, 250.0, 250.0, 300.0, 320.0, \n",
    "     514.0, 556.0, 840.0, 685.0, 700.0, 700.0, 690.0, 900.0, 650.0, \n",
    "     820.0, 850.0, 900.0, 1015.0, 820.0, 1100.0, 1000.0, 1100.0, \n",
    "     1000.0, 1000.0]\n",
    "     )"
   ]
  },
  {
   "cell_type": "markdown",
   "metadata": {},
   "source": [
    "## Data splitting"
   ]
  },
  {
   "cell_type": "code",
   "execution_count": 7,
   "metadata": {
    "colab": {},
    "colab_type": "code",
    "id": "cRKkoWoZ9J0m"
   },
   "outputs": [],
   "source": [
    "from sklearn.model_selection import train_test_split\n",
    "\n",
    "## input and target\n",
    "train_input, test_input, train_target, test_target = train_test_split(perch_full, perch_weight, random_state=42)"
   ]
  },
  {
   "cell_type": "markdown",
   "metadata": {
    "colab_type": "text",
    "id": "y5uMFE_8V1tx"
   },
   "source": [
    "## 사이킷런의 변환기\n",
    "###  다항변환 (Polynomial transform)"
   ]
  },
  {
   "cell_type": "code",
   "execution_count": 8,
   "metadata": {
    "colab": {},
    "colab_type": "code",
    "id": "EclugdXmSs-L"
   },
   "outputs": [],
   "source": [
    "from sklearn.preprocessing import PolynomialFeatures"
   ]
  },
  {
   "cell_type": "code",
   "execution_count": 9,
   "metadata": {
    "colab": {
     "base_uri": "https://localhost:8080/",
     "height": 35
    },
    "colab_type": "code",
    "executionInfo": {
     "elapsed": 1802,
     "status": "ok",
     "timestamp": 1588153467494,
     "user": {
      "displayName": "Haesun Park",
      "photoUrl": "https://lh3.googleusercontent.com/a-/AOh14GhsWlS7sKQL-9fIkg3FmxpTMz_u-KDSs8y__P1ngQ=s64",
      "userId": "14935388527648823821"
     },
     "user_tz": -540
    },
    "id": "V5is7cZhKbPU",
    "outputId": "6ffebe89-962b-4383-ce2e-9d4899a00182"
   },
   "outputs": [
    {
     "name": "stdout",
     "output_type": "stream",
     "text": [
      "[[ 1.  2.  3.  4.  6.  9.  8. 12. 18. 27.]]\n"
     ]
    }
   ],
   "source": [
    "# PolynomialFeatures(\n",
    "#     degree=2,\n",
    "#     *,\n",
    "#     interaction_only=False,\n",
    "#     include_bias=True,\n",
    "#     order='C',\n",
    "# )\n",
    "# degree 2: includes x^2, y^2, xy \n",
    "# degree 3: degree 2 + x^3, y^3, xy^2, yx^2\n",
    "poly = PolynomialFeatures(degree = 3)\n",
    "poly.fit([[2, 3]])\n",
    "print(poly.transform([[2, 3]]))"
   ]
  },
  {
   "cell_type": "code",
   "execution_count": 10,
   "metadata": {
    "colab": {
     "base_uri": "https://localhost:8080/",
     "height": 35
    },
    "colab_type": "code",
    "executionInfo": {
     "elapsed": 1795,
     "status": "ok",
     "timestamp": 1588153467494,
     "user": {
      "displayName": "Haesun Park",
      "photoUrl": "https://lh3.googleusercontent.com/a-/AOh14GhsWlS7sKQL-9fIkg3FmxpTMz_u-KDSs8y__P1ngQ=s64",
      "userId": "14935388527648823821"
     },
     "user_tz": -540
    },
    "id": "bKXkK0oJc4nG",
    "outputId": "7d3e6104-2811-4082-e035-8e20b98f401a"
   },
   "outputs": [
    {
     "name": "stdout",
     "output_type": "stream",
     "text": [
      "[[2. 3. 4. 6. 9.]]\n"
     ]
    }
   ],
   "source": [
    "# include_bias=False: Intercept를 모형에서 제거\n",
    "poly = PolynomialFeatures(include_bias=False)\n",
    "poly.fit([[2, 3]])  # 3차원 학습\n",
    "print(poly.transform([[2, 3]]))"
   ]
  },
  {
   "cell_type": "markdown",
   "metadata": {},
   "source": [
    "### Train feature 다항변환 하기"
   ]
  },
  {
   "cell_type": "code",
   "execution_count": 11,
   "metadata": {
    "colab": {},
    "colab_type": "code",
    "id": "__kE6eJdNZfm"
   },
   "outputs": [],
   "source": [
    "poly = PolynomialFeatures(include_bias=False)\n",
    "# default degree : 2\n",
    "\n",
    "poly.fit(train_input)\n",
    "train_poly = poly.transform(train_input)\n",
    "# 변수 늘어남"
   ]
  },
  {
   "cell_type": "code",
   "execution_count": 12,
   "metadata": {
    "colab": {
     "base_uri": "https://localhost:8080/",
     "height": 35
    },
    "colab_type": "code",
    "executionInfo": {
     "elapsed": 1786,
     "status": "ok",
     "timestamp": 1588153467495,
     "user": {
      "displayName": "Haesun Park",
      "photoUrl": "https://lh3.googleusercontent.com/a-/AOh14GhsWlS7sKQL-9fIkg3FmxpTMz_u-KDSs8y__P1ngQ=s64",
      "userId": "14935388527648823821"
     },
     "user_tz": -540
    },
    "id": "2a_lmkKle4kF",
    "outputId": "694fc8ad-799c-4922-e51d-863b3b70c401"
   },
   "outputs": [
    {
     "name": "stdout",
     "output_type": "stream",
     "text": [
      "(42, 9)\n",
      "[[  19.6       5.14      3.04    384.16    100.744    59.584    26.4196\n",
      "    15.6256    9.2416]\n",
      " [  22.        5.88      3.52    484.      129.36     77.44     34.5744\n",
      "    20.6976   12.3904]\n",
      " [  18.7       5.2       3.12    349.69     97.24     58.344    27.04\n",
      "    16.224     9.7344]\n",
      " [  17.4       4.59      2.94    302.76     79.866    51.156    21.0681\n",
      "    13.4946    8.6436]\n",
      " [  36.       10.61      6.74   1296.      381.96    242.64    112.5721\n",
      "    71.5114   45.4276]\n",
      " [  25.        6.44      3.68    625.      161.       92.       41.4736\n",
      "    23.6992   13.5424]\n",
      " [  40.       11.93      7.11   1600.      477.2     284.4     142.3249\n",
      "    84.8223   50.5521]\n",
      " [  39.       12.43      7.35   1521.      484.77    286.65    154.5049\n",
      "    91.3605   54.0225]\n",
      " [  43.       11.93      7.28   1849.      512.99    313.04    142.3249\n",
      "    86.8504   52.9984]\n",
      " [  22.        5.64      3.52    484.      124.08     77.44     31.8096\n",
      "    19.8528   12.3904]\n",
      " [  20.        5.08      2.77    400.      101.6      55.4      25.8064\n",
      "    14.0716    7.6729]\n",
      " [  22.        6.11      3.52    484.      134.42     77.44     37.3321\n",
      "    21.5072   12.3904]\n",
      " [  24.        7.29      3.72    576.      174.96     89.28     53.1441\n",
      "    27.1188   13.8384]\n",
      " [  27.5       7.17      4.34    756.25    197.175   119.35     51.4089\n",
      "    31.1178   18.8356]\n",
      " [  43.       12.51      7.42   1849.      537.93    319.06    156.5001\n",
      "    92.8242   55.0564]\n",
      " [  40.       11.73      7.22   1600.      469.2     288.8     137.5929\n",
      "    84.6906   52.1284]\n",
      " [  24.        6.38      3.82    576.      153.12     91.68     40.7044\n",
      "    24.3716   14.5924]\n",
      " [  21.        5.92      3.31    441.      124.32     69.51     35.0464\n",
      "    19.5952   10.9561]\n",
      " [  27.5       7.05      4.34    756.25    193.875   119.35     49.7025\n",
      "    30.597    18.8356]\n",
      " [  40.       12.38      7.46   1600.      495.2     298.4     153.2644\n",
      "    92.3548   55.6516]\n",
      " [  32.8      10.03      6.02   1075.84    328.984   197.456   100.6009\n",
      "    60.3806   36.2404]\n",
      " [  26.5       7.17      4.14    702.25    190.005   109.71     51.4089\n",
      "    29.6838   17.1396]\n",
      " [  36.5      10.88      6.86   1332.25    397.12    250.39    118.3744\n",
      "    74.6368   47.0596]\n",
      " [  13.7       3.53      2.      187.69     48.361    27.4      12.4609\n",
      "     7.06      4.    ]\n",
      " [  22.7       5.95      3.63    515.29    135.065    82.401    35.4025\n",
      "    21.5985   13.1769]\n",
      " [  15.        3.82      2.43    225.       57.3      36.45     14.5924\n",
      "     9.2826    5.9049]\n",
      " [  37.       10.57      6.37   1369.      391.09    235.69    111.7249\n",
      "    67.3309   40.5769]\n",
      " [  35.       11.49      7.8    1225.      402.15    273.      132.0201\n",
      "    89.622    60.84  ]\n",
      " [  28.7       7.59      4.64    823.69    217.833   133.168    57.6081\n",
      "    35.2176   21.5296]\n",
      " [  23.5       6.28      3.72    552.25    147.58     87.42     39.4384\n",
      "    23.3616   13.8384]\n",
      " [  39.       11.14      6.     1521.      434.46    234.      124.0996\n",
      "    66.84     36.    ]\n",
      " [  21.        5.69      3.56    441.      119.49     74.76     32.3761\n",
      "    20.2564   12.6736]\n",
      " [  23.        5.22      3.63    529.      120.06     83.49     27.2484\n",
      "    18.9486   13.1769]\n",
      " [  22.        5.52      4.      484.      121.44     88.       30.4704\n",
      "    22.08     16.    ]\n",
      " [  44.       12.49      7.6    1936.      549.56    334.4     156.0001\n",
      "    94.924    57.76  ]\n",
      " [  22.5       6.79      3.62    506.25    152.775    81.45     46.1041\n",
      "    24.5798   13.1044]\n",
      " [  19.        5.64      3.05    361.      107.16     57.95     31.8096\n",
      "    17.202     9.3025]\n",
      " [  37.       10.84      6.26   1369.      401.08    231.62    117.5056\n",
      "    67.8584   39.1876]\n",
      " [  22.        6.11      3.41    484.      134.42     75.02     37.3321\n",
      "    20.8351   11.6281]\n",
      " [  25.6       6.56      4.24    655.36    167.936   108.544    43.0336\n",
      "    27.8144   17.9776]\n",
      " [  42.       12.8       6.87   1764.      537.6     288.54    163.84\n",
      "    87.936    47.1969]\n",
      " [  34.5      10.26      6.39   1190.25    353.97    220.455   105.2676\n",
      "    65.5614   40.8321]]\n"
     ]
    }
   ],
   "source": [
    "print(train_poly.shape)\n",
    "print(np.array(train_poly))\n",
    "# x1, x2, x3, x1^2, x2^2, x3^2, x1x2, x1x3, x2x3..."
   ]
  },
  {
   "cell_type": "markdown",
   "metadata": {},
   "source": [
    "### 다항변환된 자료 확인하기"
   ]
  },
  {
   "cell_type": "code",
   "execution_count": 13,
   "metadata": {
    "colab": {
     "base_uri": "https://localhost:8080/",
     "height": 35
    },
    "colab_type": "code",
    "executionInfo": {
     "elapsed": 1780,
     "status": "ok",
     "timestamp": 1588153467495,
     "user": {
      "displayName": "Haesun Park",
      "photoUrl": "https://lh3.googleusercontent.com/a-/AOh14GhsWlS7sKQL-9fIkg3FmxpTMz_u-KDSs8y__P1ngQ=s64",
      "userId": "14935388527648823821"
     },
     "user_tz": -540
    },
    "id": "X6GUwfXTfKbl",
    "outputId": "2294f841-1a44-4cd8-c443-f0e8e93d63fa"
   },
   "outputs": [
    {
     "data": {
      "text/plain": [
       "['x0', 'x1', 'x2', 'x0^2', 'x0 x1', 'x0 x2', 'x1^2', 'x1 x2', 'x2^2']"
      ]
     },
     "execution_count": 13,
     "metadata": {},
     "output_type": "execute_result"
    }
   ],
   "source": [
    "poly.get_feature_names()"
   ]
  },
  {
   "cell_type": "code",
   "execution_count": 14,
   "metadata": {
    "colab": {},
    "colab_type": "code",
    "id": "DJMPxe2mgbOo"
   },
   "outputs": [],
   "source": [
    "test_poly = poly.transform(test_input)"
   ]
  },
  {
   "cell_type": "markdown",
   "metadata": {
    "colab_type": "text",
    "id": "PdDAslHzNk3H"
   },
   "source": [
    "## 다중 회귀 모델 훈련하기"
   ]
  },
  {
   "cell_type": "code",
   "execution_count": 15,
   "metadata": {
    "colab": {
     "base_uri": "https://localhost:8080/",
     "height": 35
    },
    "colab_type": "code",
    "executionInfo": {
     "elapsed": 1771,
     "status": "ok",
     "timestamp": 1588153467496,
     "user": {
      "displayName": "Haesun Park",
      "photoUrl": "https://lh3.googleusercontent.com/a-/AOh14GhsWlS7sKQL-9fIkg3FmxpTMz_u-KDSs8y__P1ngQ=s64",
      "userId": "14935388527648823821"
     },
     "user_tz": -540
    },
    "id": "E9ygy-8WOvIP",
    "outputId": "39cea28d-d4c2-4ac5-ef42-57ed31a72f45"
   },
   "outputs": [
    {
     "name": "stdout",
     "output_type": "stream",
     "text": [
      "0.9903183436982124\n"
     ]
    }
   ],
   "source": [
    "from sklearn.linear_model import LinearRegression\n",
    "\n",
    "lr = LinearRegression()\n",
    "lr.fit(train_poly, train_target)\n",
    "print(lr.score(train_poly, train_target))"
   ]
  },
  {
   "cell_type": "code",
   "execution_count": 16,
   "metadata": {
    "colab": {
     "base_uri": "https://localhost:8080/",
     "height": 35
    },
    "colab_type": "code",
    "executionInfo": {
     "elapsed": 1765,
     "status": "ok",
     "timestamp": 1588153467496,
     "user": {
      "displayName": "Haesun Park",
      "photoUrl": "https://lh3.googleusercontent.com/a-/AOh14GhsWlS7sKQL-9fIkg3FmxpTMz_u-KDSs8y__P1ngQ=s64",
      "userId": "14935388527648823821"
     },
     "user_tz": -540
    },
    "id": "GKKyfFcAd7zm",
    "outputId": "386ad3f1-77a3-4ae2-e639-80d10625b762"
   },
   "outputs": [
    {
     "name": "stdout",
     "output_type": "stream",
     "text": [
      "0.9714559911594203\n"
     ]
    }
   ],
   "source": [
    "print(lr.score(test_poly, test_target))"
   ]
  },
  {
   "cell_type": "markdown",
   "metadata": {},
   "source": [
    "### Overfitting problem"
   ]
  },
  {
   "cell_type": "code",
   "execution_count": 17,
   "metadata": {
    "colab": {},
    "colab_type": "code",
    "id": "2fDt5mrReMwU"
   },
   "outputs": [],
   "source": [
    "# 인위적으로 오버피팅 생성\n",
    "poly = PolynomialFeatures(degree=5, include_bias=False)\n",
    "# 5차항\n",
    "\n",
    "poly.fit(train_input)\n",
    "train_poly = poly.transform(train_input)\n",
    "test_poly = poly.transform(test_input)"
   ]
  },
  {
   "cell_type": "code",
   "execution_count": 18,
   "metadata": {
    "colab": {
     "base_uri": "https://localhost:8080/",
     "height": 35
    },
    "colab_type": "code",
    "executionInfo": {
     "elapsed": 1754,
     "status": "ok",
     "timestamp": 1588153467496,
     "user": {
      "displayName": "Haesun Park",
      "photoUrl": "https://lh3.googleusercontent.com/a-/AOh14GhsWlS7sKQL-9fIkg3FmxpTMz_u-KDSs8y__P1ngQ=s64",
      "userId": "14935388527648823821"
     },
     "user_tz": -540
    },
    "id": "hcM8R4VHSzR8",
    "outputId": "b77758ee-881c-4b5f-e4a5-08f46c216558"
   },
   "outputs": [
    {
     "name": "stdout",
     "output_type": "stream",
     "text": [
      "(42, 55)\n"
     ]
    }
   ],
   "source": [
    "print(train_poly.shape)"
   ]
  },
  {
   "cell_type": "code",
   "execution_count": 19,
   "metadata": {
    "colab": {
     "base_uri": "https://localhost:8080/",
     "height": 35
    },
    "colab_type": "code",
    "executionInfo": {
     "elapsed": 1749,
     "status": "ok",
     "timestamp": 1588153467497,
     "user": {
      "displayName": "Haesun Park",
      "photoUrl": "https://lh3.googleusercontent.com/a-/AOh14GhsWlS7sKQL-9fIkg3FmxpTMz_u-KDSs8y__P1ngQ=s64",
      "userId": "14935388527648823821"
     },
     "user_tz": -540
    },
    "id": "UffVFVTGP8xj",
    "outputId": "7a900e6c-d87a-4208-8942-84db11f6b532"
   },
   "outputs": [
    {
     "name": "stdout",
     "output_type": "stream",
     "text": [
      "0.9999999999979449\n"
     ]
    }
   ],
   "source": [
    "lr.fit(train_poly, train_target)\n",
    "print(lr.score(train_poly, train_target))"
   ]
  },
  {
   "cell_type": "markdown",
   "metadata": {},
   "source": [
    "### Negative R^2 value"
   ]
  },
  {
   "cell_type": "code",
   "execution_count": 20,
   "metadata": {
    "colab": {
     "base_uri": "https://localhost:8080/",
     "height": 35
    },
    "colab_type": "code",
    "executionInfo": {
     "elapsed": 1741,
     "status": "ok",
     "timestamp": 1588153467497,
     "user": {
      "displayName": "Haesun Park",
      "photoUrl": "https://lh3.googleusercontent.com/a-/AOh14GhsWlS7sKQL-9fIkg3FmxpTMz_u-KDSs8y__P1ngQ=s64",
      "userId": "14935388527648823821"
     },
     "user_tz": -540
    },
    "id": "GtITdlYFg7AY",
    "outputId": "8af3c083-f3f3-43d8-928a-ad3a536bd436"
   },
   "outputs": [
    {
     "name": "stdout",
     "output_type": "stream",
     "text": [
      "-144.40226186334812\n"
     ]
    }
   ],
   "source": [
    "# test\n",
    "lr.score(test_poly, test_target)\n",
    "# R square 일반적으로 -1~1사이의 값을 나타내는데\n",
    "# 이상한 값을 나타냄\n",
    "# regression이 완전이 뒤집힐 때 발생\n",
    "# 원래는 음수가 나올 수 없는데 음수가 나온것임\n",
    "# 고차원으로 갈 수록 이런현상발생\n",
    "\n",
    "print(lr.score(test_poly, test_target))"
   ]
  },
  {
   "cell_type": "markdown",
   "metadata": {
    "colab_type": "text",
    "id": "K2YMPSelQBpO"
   },
   "source": [
    "## 규제 (Regularization)\n",
    "패널티, overfitting 방지하기 위함<br>\n",
    "regularization을 하면, 반드시 z-scoring을 해줘야함"
   ]
  },
  {
   "cell_type": "markdown",
   "metadata": {},
   "source": [
    "### sklearn 을 이용하여 표준화 하기"
   ]
  },
  {
   "cell_type": "code",
   "execution_count": 21,
   "metadata": {
    "colab": {},
    "colab_type": "code",
    "id": "hCC7wKy3QQrE"
   },
   "outputs": [],
   "source": [
    "from sklearn.preprocessing import StandardScaler\n",
    "\n",
    "ss = StandardScaler()\n",
    "ss.fit(train_poly)\n",
    "\n",
    "## test feature와 target feature 표준화\n",
    "train_scaled = ss.transform(train_poly)\n",
    "test_scaled = ss.transform(test_poly)"
   ]
  },
  {
   "cell_type": "markdown",
   "metadata": {
    "colab_type": "text",
    "id": "qyLI7JQsJ7RQ"
   },
   "source": [
    "## 릿지"
   ]
  },
  {
   "cell_type": "code",
   "execution_count": 24,
   "metadata": {
    "colab": {
     "base_uri": "https://localhost:8080/",
     "height": 35
    },
    "colab_type": "code",
    "executionInfo": {
     "elapsed": 1732,
     "status": "ok",
     "timestamp": 1588153467498,
     "user": {
      "displayName": "Haesun Park",
      "photoUrl": "https://lh3.googleusercontent.com/a-/AOh14GhsWlS7sKQL-9fIkg3FmxpTMz_u-KDSs8y__P1ngQ=s64",
      "userId": "14935388527648823821"
     },
     "user_tz": -540
    },
    "id": "LdNuDNQGQipv",
    "outputId": "1e2ef75e-aaab-42ce-9962-edc022850214"
   },
   "outputs": [
    {
     "name": "stdout",
     "output_type": "stream",
     "text": [
      "0.9896101671037343\n"
     ]
    }
   ],
   "source": [
    "from sklearn.linear_model import Ridge\n",
    "\n",
    "## default alpha (lambda) = 1\n",
    "ridge = Ridge()\n",
    "ridge.fit(train_scaled, train_target)\n",
    "print(ridge.score(train_scaled, train_target))"
   ]
  },
  {
   "cell_type": "code",
   "execution_count": 25,
   "metadata": {
    "colab": {
     "base_uri": "https://localhost:8080/",
     "height": 35
    },
    "colab_type": "code",
    "executionInfo": {
     "elapsed": 1726,
     "status": "ok",
     "timestamp": 1588153467498,
     "user": {
      "displayName": "Haesun Park",
      "photoUrl": "https://lh3.googleusercontent.com/a-/AOh14GhsWlS7sKQL-9fIkg3FmxpTMz_u-KDSs8y__P1ngQ=s64",
      "userId": "14935388527648823821"
     },
     "user_tz": -540
    },
    "id": "p5mXLecwhdnF",
    "outputId": "e7666f78-3cdd-4637-c7e6-5e2b09ba4ad1"
   },
   "outputs": [
    {
     "name": "stdout",
     "output_type": "stream",
     "text": [
      "0.9790693977615401\n"
     ]
    }
   ],
   "source": [
    "print(ridge.score(test_scaled, test_target))\n",
    "# train과 test 값이 유사해짐"
   ]
  },
  {
   "cell_type": "code",
   "execution_count": 27,
   "metadata": {
    "colab": {},
    "colab_type": "code",
    "id": "wXd3_Kq6hlbM"
   },
   "outputs": [],
   "source": [
    "import matplotlib.pyplot as plt\n",
    "\n",
    "train_score = []\n",
    "test_score = []"
   ]
  },
  {
   "cell_type": "code",
   "execution_count": 28,
   "metadata": {
    "colab": {},
    "colab_type": "code",
    "id": "9MvIvQOrhfqC"
   },
   "outputs": [],
   "source": [
    "alpha_list = [0.001, 0.01, 0.1, 1, 10, 100]\n",
    "for alpha in alpha_list:\n",
    "    # 릿지 모델을 만듭니다\n",
    "    ridge = Ridge(alpha=alpha)\n",
    "    # 릿지 모델을 훈련합니다\n",
    "    ridge.fit(train_scaled, train_target)\n",
    "    # 훈련 점수와 테스트 점수를 저장합니다\n",
    "    \n",
    "    train_score.append(ridge.score(train_scaled, train_target))\n",
    "    test_score.append(ridge.score(test_scaled, test_target))"
   ]
  },
  {
   "cell_type": "code",
   "execution_count": 30,
   "metadata": {
    "colab": {
     "base_uri": "https://localhost:8080/",
     "height": 265
    },
    "colab_type": "code",
    "executionInfo": {
     "elapsed": 1201,
     "status": "ok",
     "timestamp": 1588154969631,
     "user": {
      "displayName": "Haesun Park",
      "photoUrl": "https://lh3.googleusercontent.com/a-/AOh14GhsWlS7sKQL-9fIkg3FmxpTMz_u-KDSs8y__P1ngQ=s64",
      "userId": "14935388527648823821"
     },
     "user_tz": -540
    },
    "id": "95DjrJxlhiow",
    "outputId": "40ac4fe8-c3fa-4df1-82e7-c92e10a66fe3"
   },
   "outputs": [
    {
     "data": {
      "image/png": "[encoded data removed]",
      "text/plain": [
       "<Figure size 432x288 with 1 Axes>"
      ]
     },
     "metadata": {
      "needs_background": "light"
     },
     "output_type": "display_data"
    }
   ],
   "source": [
    "## np.log10(alpha_list) = -1\n",
    "\n",
    "plt.plot(np.log10(alpha_list), train_score, label = \"Training data\")\n",
    "plt.plot(np.log10(alpha_list), test_score, label = \"Test data\")\n",
    "plt.legend()\n",
    "plt.xlabel(\"log10(alpha)\")\n",
    "plt.ylabel(\"R^2\")\n",
    "plt.show()"
   ]
  },
  {
   "cell_type": "code",
   "execution_count": 39,
   "metadata": {
    "colab": {
     "base_uri": "https://localhost:8080/",
     "height": 52
    },
    "colab_type": "code",
    "executionInfo": {
     "elapsed": 2175,
     "status": "ok",
     "timestamp": 1588153467973,
     "user": {
      "displayName": "Haesun Park",
      "photoUrl": "https://lh3.googleusercontent.com/a-/AOh14GhsWlS7sKQL-9fIkg3FmxpTMz_u-KDSs8y__P1ngQ=s64",
      "userId": "14935388527648823821"
     },
     "user_tz": -540
    },
    "id": "5S5vhi-vhjzT",
    "outputId": "9665cf66-2bc8-4578-bead-003670c9fdb2"
   },
   "outputs": [
    {
     "name": "stdout",
     "output_type": "stream",
     "text": [
      "0.9903815817570367\n",
      "0.9827976465386894\n"
     ]
    }
   ],
   "source": [
    "ridge = Ridge(alpha=0.1)\n",
    "# alpha값은 알아서 설정\n",
    "ridge.fit(train_scaled, train_target)\n",
    "\n",
    "print(ridge.score(train_scaled, train_target))\n",
    "print(ridge.score(test_scaled, test_target))"
   ]
  },
  {
   "cell_type": "markdown",
   "metadata": {
    "colab_type": "text",
    "id": "jUph9pH_KA9_"
   },
   "source": [
    "## 라쏘 (LASSO)"
   ]
  },
  {
   "cell_type": "code",
   "execution_count": 32,
   "metadata": {
    "colab": {
     "base_uri": "https://localhost:8080/",
     "height": 35
    },
    "colab_type": "code",
    "executionInfo": {
     "elapsed": 2171,
     "status": "ok",
     "timestamp": 1588153467974,
     "user": {
      "displayName": "Haesun Park",
      "photoUrl": "https://lh3.googleusercontent.com/a-/AOh14GhsWlS7sKQL-9fIkg3FmxpTMz_u-KDSs8y__P1ngQ=s64",
      "userId": "14935388527648823821"
     },
     "user_tz": -540
    },
    "id": "Ymu-jmekh0IK",
    "outputId": "15d897e1-cc9f-416f-c632-c905f8bfa142"
   },
   "outputs": [
    {
     "name": "stdout",
     "output_type": "stream",
     "text": [
      "0.989789897208096\n"
     ]
    }
   ],
   "source": [
    "from sklearn.linear_model import Lasso\n",
    "\n",
    "lasso = Lasso()\n",
    "lasso.fit(train_scaled, train_target)\n",
    "print(lasso.score(train_scaled, train_target))"
   ]
  },
  {
   "cell_type": "code",
   "execution_count": 33,
   "metadata": {
    "colab": {
     "base_uri": "https://localhost:8080/",
     "height": 35
    },
    "colab_type": "code",
    "executionInfo": {
     "elapsed": 2166,
     "status": "ok",
     "timestamp": 1588153467975,
     "user": {
      "displayName": "Haesun Park",
      "photoUrl": "https://lh3.googleusercontent.com/a-/AOh14GhsWlS7sKQL-9fIkg3FmxpTMz_u-KDSs8y__P1ngQ=s64",
      "userId": "14935388527648823821"
     },
     "user_tz": -540
    },
    "id": "t3jO37UMh2iI",
    "outputId": "ffc06a59-4be8-488b-aa86-3c36b35b044c"
   },
   "outputs": [
    {
     "name": "stdout",
     "output_type": "stream",
     "text": [
      "0.9800593698421886\n"
     ]
    }
   ],
   "source": [
    "print(lasso.score(test_scaled, test_target))"
   ]
  },
  {
   "cell_type": "code",
   "execution_count": 34,
   "metadata": {
    "colab": {
     "base_uri": "https://localhost:8080/",
     "height": 106
    },
    "colab_type": "code",
    "executionInfo": {
     "elapsed": 930,
     "status": "ok",
     "timestamp": 1588155087769,
     "user": {
      "displayName": "Haesun Park",
      "photoUrl": "https://lh3.googleusercontent.com/a-/AOh14GhsWlS7sKQL-9fIkg3FmxpTMz_u-KDSs8y__P1ngQ=s64",
      "userId": "14935388527648823821"
     },
     "user_tz": -540
    },
    "id": "uoL2oJ6Ih4Jw",
    "outputId": "718dc920-25ad-43c9-a143-ec6c7d8896a9"
   },
   "outputs": [
    {
     "name": "stderr",
     "output_type": "stream",
     "text": [
      "C:\\ProgramData\\Anaconda3\\lib\\site-packages\\sklearn\\linear_model\\_coordinate_descent.py:529: ConvergenceWarning: Objective did not converge. You might want to increase the number of iterations. Duality gap: 18778.69795779601, tolerance: 518.2793833333334\n",
      "  model = cd_fast.enet_coordinate_descent(\n",
      "C:\\ProgramData\\Anaconda3\\lib\\site-packages\\sklearn\\linear_model\\_coordinate_descent.py:529: ConvergenceWarning: Objective did not converge. You might want to increase the number of iterations. Duality gap: 12972.821345409666, tolerance: 518.2793833333334\n",
      "  model = cd_fast.enet_coordinate_descent(\n"
     ]
    }
   ],
   "source": [
    "train_score = []\n",
    "test_score = []\n",
    "\n",
    "alpha_list = [0.001, 0.01, 0.1, 1, 10, 100]\n",
    "for alpha in alpha_list:\n",
    "    # 라쏘 모델을 만듭니다\n",
    "    lasso = Lasso(alpha=alpha, max_iter=10000)\n",
    "    # 라쏘 모델을 훈련합니다\n",
    "    lasso.fit(train_scaled, train_target)\n",
    "    # 훈련 점수와 테스트 점수를 저장합니다\n",
    "    train_score.append(lasso.score(train_scaled, train_target))\n",
    "    test_score.append(lasso.score(test_scaled, test_target))"
   ]
  },
  {
   "cell_type": "code",
   "execution_count": 35,
   "metadata": {
    "colab": {
     "base_uri": "https://localhost:8080/",
     "height": 265
    },
    "colab_type": "code",
    "executionInfo": {
     "elapsed": 936,
     "status": "ok",
     "timestamp": 1588155089648,
     "user": {
      "displayName": "Haesun Park",
      "photoUrl": "https://lh3.googleusercontent.com/a-/AOh14GhsWlS7sKQL-9fIkg3FmxpTMz_u-KDSs8y__P1ngQ=s64",
      "userId": "14935388527648823821"
     },
     "user_tz": -540
    },
    "id": "7rkH8Dvzh9UI",
    "outputId": "a2d05450-b2f9-4e08-b13f-4cde46d8e144"
   },
   "outputs": [
    {
     "data": {
      "image/png": "[encoded data removed]",
      "text/plain": [
       "<Figure size 432x288 with 1 Axes>"
      ]
     },
     "metadata": {
      "needs_background": "light"
     },
     "output_type": "display_data"
    }
   ],
   "source": [
    "plt.plot(np.log10(alpha_list), train_score, label = \"Training data\")\n",
    "plt.plot(np.log10(alpha_list), test_score, label = \"Test data\")\n",
    "plt.legend()\n",
    "plt.xlabel(\"log10(alpha)\")\n",
    "plt.ylabel(\"R^2\")\n",
    "plt.show()"
   ]
  },
  {
   "cell_type": "code",
   "execution_count": 36,
   "metadata": {
    "colab": {
     "base_uri": "https://localhost:8080/",
     "height": 52
    },
    "colab_type": "code",
    "executionInfo": {
     "elapsed": 909,
     "status": "ok",
     "timestamp": 1588155093993,
     "user": {
      "displayName": "Haesun Park",
      "photoUrl": "https://lh3.googleusercontent.com/a-/AOh14GhsWlS7sKQL-9fIkg3FmxpTMz_u-KDSs8y__P1ngQ=s64",
      "userId": "14935388527648823821"
     },
     "user_tz": -540
    },
    "id": "t4uFD9Flh_Dw",
    "outputId": "7f3aed93-8187-405e-86bc-d98bd09d93f5"
   },
   "outputs": [
    {
     "name": "stdout",
     "output_type": "stream",
     "text": [
      "0.9888067471131867\n",
      "0.9824470598706695\n"
     ]
    }
   ],
   "source": [
    "lasso = Lasso(alpha=10)\n",
    "lasso.fit(train_scaled, train_target)\n",
    "\n",
    "print(lasso.score(train_scaled, train_target))\n",
    "print(lasso.score(test_scaled, test_target))"
   ]
  },
  {
   "cell_type": "markdown",
   "metadata": {},
   "source": [
    "### 계수가 0인 feature 갯수 알아보기"
   ]
  },
  {
   "cell_type": "code",
   "execution_count": 64,
   "metadata": {
    "colab": {
     "base_uri": "https://localhost:8080/",
     "height": 35
    },
    "colab_type": "code",
    "executionInfo": {
     "elapsed": 1142,
     "status": "ok",
     "timestamp": 1588155097116,
     "user": {
      "displayName": "Haesun Park",
      "photoUrl": "https://lh3.googleusercontent.com/a-/AOh14GhsWlS7sKQL-9fIkg3FmxpTMz_u-KDSs8y__P1ngQ=s64",
      "userId": "14935388527648823821"
     },
     "user_tz": -540
    },
    "id": "z_bQc3s8Uoai",
    "outputId": "899b142f-219a-4e49-a90e-97460e0d6d13"
   },
   "outputs": [
    {
     "name": "stdout",
     "output_type": "stream",
     "text": [
      "41\n"
     ]
    }
   ],
   "source": [
    "print(np.sum(lasso.coef_ == 0))"
   ]
  }
 ],
 "metadata": {
  "colab": {
   "authorship_tag": "ABX9TyPQ54A7gWcJH4lKx0thrwxw",
   "collapsed_sections": [],
   "name": "3-3 특성 공학과 규제.ipynb",
   "provenance": []
  },
  "kernelspec": {
   "display_name": "Python 3",
   "language": "python",
   "name": "python3"
  },
  "language_info": {
   "codemirror_mode": {
    "name": "ipython",
    "version": 3
   },
   "file_extension": ".py",
   "mimetype": "text/x-python",
   "name": "python",
   "nbconvert_exporter": "python",
   "pygments_lexer": "ipython3",
   "version": "3.8.5"
  }
 },
 "nbformat": 4,
 "nbformat_minor": 1
}
