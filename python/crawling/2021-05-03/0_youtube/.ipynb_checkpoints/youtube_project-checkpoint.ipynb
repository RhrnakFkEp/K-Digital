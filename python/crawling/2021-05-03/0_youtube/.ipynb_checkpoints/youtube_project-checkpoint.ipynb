{
 "cells": [
  {
   "cell_type": "code",
   "execution_count": 4,
   "metadata": {},
   "outputs": [
    {
     "data": {
      "text/plain": [
       "'\\n2021-04-22\\n작성자 : 이예희\\n'"
      ]
     },
     "execution_count": 4,
     "metadata": {},
     "output_type": "execute_result"
    }
   ],
   "source": [
    "'''\n",
    "2021-04-22\n",
    "작성자 : 이예희\n",
    "'''"
   ]
  },
  {
   "cell_type": "code",
   "execution_count": 1,
   "metadata": {},
   "outputs": [
    {
     "name": "stdout",
     "output_type": "stream",
     "text": [
      "Requirement already satisfied: pytube in c:\\programdata\\anaconda3\\lib\\site-packages (10.7.2)\n"
     ]
    }
   ],
   "source": [
    "!pip install pytube"
   ]
  },
  {
   "cell_type": "code",
   "execution_count": null,
   "metadata": {},
   "outputs": [],
   "source": [
    "from pytube import YouTube\n",
    "YouTube('https://youtu.be/9bZkp7q19f0').streams.first().download()\n",
    "# streams : 전체 다운로드를 하지 않아도, 실행(영상, 음성 등)하면서 같이 다운로드되는것.\n",
    "# first() : 영상이 여러개(144p, 240p, 360p....1080p 등 )임. 그 중 첫번째것을 가져옴\n",
    "# 해상도에서 p : progresive. 더 향상됨의 의미.\n",
    "\n",
    "yt = YouTube('http://youtube.com/watch?v=9bZkp7q19f0')\n",
    "\n",
    "# print(yt)   # object. 어딘가에 파일이 생성됨.\n",
    "# print(yt.streams)"
   ]
  },
  {
   "cell_type": "code",
   "execution_count": 4,
   "metadata": {},
   "outputs": [],
   "source": [
    "tilte = yt.title\n",
    "# 영상의 title을 가져옴"
   ]
  },
  {
   "cell_type": "code",
   "execution_count": 5,
   "metadata": {},
   "outputs": [
    {
     "data": {
      "text/plain": [
       "'https://i.ytimg.com/vi/9bZkp7q19f0/maxresdefault.jpg'"
      ]
     },
     "execution_count": 5,
     "metadata": {},
     "output_type": "execute_result"
    }
   ],
   "source": [
    "yt.thumbnail_url\n",
    "# 섬네일에 해당하는 URL을 가져올수있음"
   ]
  },
  {
   "cell_type": "code",
   "execution_count": 3,
   "metadata": {},
   "outputs": [
    {
     "data": {
      "text/plain": [
       "('test.jpg', <http.client.HTTPMessage at 0x1ecc8cffaf0>)"
      ]
     },
     "execution_count": 3,
     "metadata": {},
     "output_type": "execute_result"
    }
   ],
   "source": [
    "import urllib.request\n",
    "\n",
    "url = 'https://images-na.ssl-images-amazon.com/images/I/810wq1cOY7L._AC_SX679_.jpg'\n",
    "\n",
    "urllib.request.urlretrieve(url, 'test.jpg') # url(위쪽변수에 담긴거)을 검색 후, 그걸 test.jpg로 저장"
   ]
  },
  {
   "cell_type": "code",
   "execution_count": 7,
   "metadata": {},
   "outputs": [
    {
     "data": {
      "text/plain": [
       "('gangnam_style.jpg', <http.client.HTTPMessage at 0x23117145760>)"
      ]
     },
     "execution_count": 7,
     "metadata": {},
     "output_type": "execute_result"
    }
   ],
   "source": [
    "urllib.request.urlretrieve(yt.thumbnail_url, 'gangnam_style.jpg')"
   ]
  },
  {
   "cell_type": "code",
   "execution_count": 8,
   "metadata": {},
   "outputs": [
    {
     "ename": "NameError",
     "evalue": "name 'progress_func' is not defined",
     "output_type": "error",
     "traceback": [
      "\u001b[1;31m---------------------------------------------------------------------------\u001b[0m",
      "\u001b[1;31mNameError\u001b[0m                                 Traceback (most recent call last)",
      "\u001b[1;32m<ipython-input-8-98155e8248dc>\u001b[0m in \u001b[0;36m<module>\u001b[1;34m\u001b[0m\n\u001b[0;32m      1\u001b[0m yt = YouTube(\n\u001b[0;32m      2\u001b[0m         \u001b[1;34m'http://youtube.com/watch?v=2lAe1cqCOXo'\u001b[0m\u001b[1;33m,\u001b[0m\u001b[1;33m\u001b[0m\u001b[1;33m\u001b[0m\u001b[0m\n\u001b[1;32m----> 3\u001b[1;33m         \u001b[0mon_progress_callback\u001b[0m\u001b[1;33m=\u001b[0m\u001b[0mprogress_func\u001b[0m\u001b[1;33m,\u001b[0m  \u001b[1;31m# 에러. 사라진듯\u001b[0m\u001b[1;33m\u001b[0m\u001b[1;33m\u001b[0m\u001b[0m\n\u001b[0m\u001b[0;32m      4\u001b[0m         \u001b[0mon_complete_callback\u001b[0m\u001b[1;33m=\u001b[0m\u001b[0mcomplete_func\u001b[0m\u001b[1;33m,\u001b[0m  \u001b[1;31m# 마찬가지로 사라지지않았을까\u001b[0m\u001b[1;33m\u001b[0m\u001b[1;33m\u001b[0m\u001b[0m\n\u001b[0;32m      5\u001b[0m         \u001b[0mproxies\u001b[0m\u001b[1;33m=\u001b[0m\u001b[0mmy_proxies\u001b[0m\u001b[1;33m\u001b[0m\u001b[1;33m\u001b[0m\u001b[0m\n",
      "\u001b[1;31mNameError\u001b[0m: name 'progress_func' is not defined"
     ]
    }
   ],
   "source": [
    "yt = YouTube(\n",
    "        'http://youtube.com/watch?v=2lAe1cqCOXo',\n",
    "        on_progress_callback=progress_func,  # 에러. 사라진듯\n",
    "        on_complete_callback=complete_func,  # 마찬가지로 사라지지않았을까\n",
    "        proxies=my_proxies\n",
    "    )"
   ]
  },
  {
   "cell_type": "code",
   "execution_count": null,
   "metadata": {},
   "outputs": [],
   "source": [
    "yt.streams.filter(progressive=True)    # progressive가 Ture인것만 가져옴"
   ]
  },
  {
   "cell_type": "code",
   "execution_count": null,
   "metadata": {},
   "outputs": [],
   "source": [
    "yt.streams.filter(adaptive=True)    # 적응형. adaptive = True 인것만 가져옴"
   ]
  },
  {
   "cell_type": "code",
   "execution_count": null,
   "metadata": {},
   "outputs": [],
   "source": [
    "yt.streams.filter(file_extension='mp4')"
   ]
  },
  {
   "cell_type": "code",
   "execution_count": 4,
   "metadata": {},
   "outputs": [
    {
     "name": "stdout",
     "output_type": "stream",
     "text": [
      "영상 제목: BTS (방탄소년단) 'Dynamite' Official MV\n",
      "영상 길이: 223 초\n",
      "영상 평점: 4.7882586\n",
      "영상 제한: False\n",
      "영상 게시자: HYBE LABELS\n",
      "영상 썸네일: https://i.ytimg.com/vi/gdZLi9oWNZg/maxresdefault.jpg?v=5f3f4882\n",
      "영상 조회수: 1040915119\n",
      "영상 설명글: BTS (방탄소년단) 'Dynamite' Official MV\n",
      "\n",
      "\n",
      "Credits:\n",
      "Director: Yong Seok Choi (Lumpens)\n",
      "Assistant Director: Jihye Yoon (Lumpens)\n",
      "\n",
      "Director of Photography: Hyunwoo Nam (GDW)\n",
      "B Camera Operator: Eumko\n",
      "Focus Puller: Sangwoo Yun, Youngwoo Lee\n",
      "2nd AC: Eunki Kim\n",
      "3rd AC: Kyuwon Seo\n",
      "DIT: Eunil Lee\n",
      "\n",
      "Gaffer: Song Hyunsuk\n",
      "Lighting Crew: Choi Jung Hyun, Hwang Uigyu, Kim Hyun Ju, Park Cheonil, Park Yeonghwan, Yeom Jaehyeok\n",
      "\n",
      "Jimmy Jib Operator: Youngjung Kim\n",
      "Jimmy Jib Assistant: Hyun in Kim, Sung Hoon Kim\n",
      "\n",
      "Art Director: Bona Kim, Jinsil Park (MU:E)\n",
      "Assistant Art Team: Yeri Kang (MU:E)\n",
      "Art-team Manager: ilho Heo (MU:E)\n",
      "\n",
      "Producer: Emma Sungeun Kim (GE Production)\n",
      "Location Manager: Ji Hoon Han\n",
      "\n",
      "VFX STUDIO: PLASTIC BEACH\n",
      "VFX Supervisor: Ohzeon\n",
      "VFX Assistant Supervisor: Jojeem\n",
      "VFX Project Manager: Chanyoung Song, Jieun Jeong\n",
      "VFX Producer: Kyutae Jang\n",
      "3D Artist: Kwangwon Lee, Doyeon Kim, Jeonghwa Lee, Jiwon Jeon\n",
      "2D Artist: Gihoon Jang, Hyunjun Lee\n",
      "\n",
      "Visual Creative: Nu Kim, Sabinne Cheon, Lee Sun Kyoung, Kim Ga Eun, Jung Su Jung\n",
      "Brand Experience Design: Kris Seongmin Gim, Hyeri Lee \n",
      "Performance Directing: Son Sung Deuk, Lee Ga Hun, Lee Byung Eun, Hyewon Park\n",
      "Artist Management: Kim Shin Gyu, Kim Su Bin, Kim Dae Young, Park Jun Tae, An Da Sol, Ahn Jong Hun, Yun Tae Woong, Lee Seung Byeong, Lee Jung Min\n",
      "\n",
      "Big Hit Entertainment. Rights are reserved selectively in the video. Unauthorized reproduction is a violation of applicable laws. Manufactured by Big Hit Entertainment, Seoul, Korea.\n",
      "\n",
      "Connect with BTS: \n",
      "https://ibighit.com/bts \n",
      "http://twitter.com/BTS_bighit\n",
      "http://twitter.com/BTS_twt \n",
      "http://www.facebook.com/bangtan.official \n",
      "https://www.youtube.com/user/BANGTANTV \n",
      "http://instagram.com/BTS.bighitofficial \n",
      "https://channels.vlive.tv/FE619 \n",
      "https://www.tiktok.com/@bts_official_bighit\n",
      "https://weverse.onelink.me/qt3S/94808190\n",
      "https://www.weibo.com/BTSbighit\n",
      "https://www.weibo.com/BTSmembers \n",
      "http://i.youku.com/btsofficial \n",
      "http://btsblog.ibighit.com\n",
      "\n",
      "\n",
      "#BTS #방탄소년단 #BTS_Dynamite #Dynamite #MV\n"
     ]
    }
   ],
   "source": [
    "import os\n",
    "from pytube import YouTube\n",
    "yt = YouTube(\"https://www.youtube.com/watch?v=gdZLi9oWNZg\")\n",
    "\n",
    "\n",
    "# F12 누르면 나오는 개발자도구의 코드에서 찾는것임. title, length 등의 정보를 뽑아서 가져오는것.\n",
    "# API 크롤링이라고 함.\n",
    "print(\"영상 제목:\",yt.title)\n",
    "print(\"영상 길이:\",yt.length, \"초\")\n",
    "print(\"영상 평점:\",yt.rating)\n",
    "print(\"영상 제한:\",yt.age_restricted)\n",
    "print(\"영상 게시자:\",yt.author)\n",
    "print(\"영상 썸네일:\",yt.thumbnail_url)\n",
    "print(\"영상 조회수:\",yt.views)\n",
    "print(\"영상 설명글:\",yt.description.strip())"
   ]
  },
  {
   "cell_type": "code",
   "execution_count": null,
   "metadata": {},
   "outputs": [],
   "source": [
    "yt = YouTube(\"https://www.youtube.com/watch?v=gdZLi9oWNZg\")\n",
    "\n",
    "# 나중에 openpyxl에 저장할 때 사용됨\n",
    "title = yt.title\n",
    "length = yt.length\n",
    "rating = yt.rating\n",
    "age_restricted = yt.age_restricted\n",
    "author = yt.author\n",
    "thumbnail_url = yt.thumbnail_url\n",
    "views = yt.views\n",
    "description = yt.description.strip()"
   ]
  },
  {
   "cell_type": "code",
   "execution_count": 5,
   "metadata": {},
   "outputs": [
    {
     "data": {
      "text/plain": [
       "'C:\\\\Users\\\\Owner\\\\0_YGL Lecture\\\\0_youtube\\\\BTS (방탄소년단) Dynamite Official MV.mp4'"
      ]
     },
     "execution_count": 5,
     "metadata": {},
     "output_type": "execute_result"
    }
   ],
   "source": [
    "from pytube import YouTube\n",
    "\n",
    "yt = YouTube(\"https://www.youtube.com/watch?v=gdZLi9oWNZg\")\n",
    "stream = yt.streams.first()\n",
    "stream.download()"
   ]
  },
  {
   "cell_type": "code",
   "execution_count": null,
   "metadata": {},
   "outputs": [],
   "source": [
    "# 영상 다운로드 경로 설정\n",
    "# 경로지정안하면, 해당코드가 있는 위치에 다운받아짐.\n",
    "# stream.download(\"C:/\")   # C드라이브에 저장불가. 권한에러 발생\n",
    "stream.download(\"C:/youtube\")"
   ]
  },
  {
   "cell_type": "code",
   "execution_count": 6,
   "metadata": {},
   "outputs": [
    {
     "name": "stdout",
     "output_type": "stream",
     "text": [
      "[<Stream: itag=\"18\" mime_type=\"video/mp4\" res=\"360p\" fps=\"24fps\" vcodec=\"avc1.42001E\" acodec=\"mp4a.40.2\" progressive=\"True\" type=\"video\">, <Stream: itag=\"137\" mime_type=\"video/mp4\" res=\"1080p\" fps=\"24fps\" vcodec=\"avc1.640028\" progressive=\"False\" type=\"video\">, <Stream: itag=\"248\" mime_type=\"video/webm\" res=\"1080p\" fps=\"24fps\" vcodec=\"vp9\" progressive=\"False\" type=\"video\">, <Stream: itag=\"399\" mime_type=\"video/mp4\" res=\"1080p\" fps=\"24fps\" vcodec=\"av01.0.08M.08\" progressive=\"False\" type=\"video\">, <Stream: itag=\"136\" mime_type=\"video/mp4\" res=\"720p\" fps=\"24fps\" vcodec=\"avc1.4d401f\" progressive=\"False\" type=\"video\">, <Stream: itag=\"247\" mime_type=\"video/webm\" res=\"720p\" fps=\"24fps\" vcodec=\"vp9\" progressive=\"False\" type=\"video\">, <Stream: itag=\"398\" mime_type=\"video/mp4\" res=\"720p\" fps=\"24fps\" vcodec=\"av01.0.05M.08\" progressive=\"False\" type=\"video\">, <Stream: itag=\"135\" mime_type=\"video/mp4\" res=\"480p\" fps=\"24fps\" vcodec=\"avc1.4d401e\" progressive=\"False\" type=\"video\">, <Stream: itag=\"244\" mime_type=\"video/webm\" res=\"480p\" fps=\"24fps\" vcodec=\"vp9\" progressive=\"False\" type=\"video\">, <Stream: itag=\"397\" mime_type=\"video/mp4\" res=\"480p\" fps=\"24fps\" vcodec=\"av01.0.04M.08\" progressive=\"False\" type=\"video\">, <Stream: itag=\"134\" mime_type=\"video/mp4\" res=\"360p\" fps=\"24fps\" vcodec=\"avc1.4d401e\" progressive=\"False\" type=\"video\">, <Stream: itag=\"243\" mime_type=\"video/webm\" res=\"360p\" fps=\"24fps\" vcodec=\"vp9\" progressive=\"False\" type=\"video\">, <Stream: itag=\"396\" mime_type=\"video/mp4\" res=\"360p\" fps=\"24fps\" vcodec=\"av01.0.01M.08\" progressive=\"False\" type=\"video\">, <Stream: itag=\"133\" mime_type=\"video/mp4\" res=\"240p\" fps=\"24fps\" vcodec=\"avc1.4d4015\" progressive=\"False\" type=\"video\">, <Stream: itag=\"242\" mime_type=\"video/webm\" res=\"240p\" fps=\"24fps\" vcodec=\"vp9\" progressive=\"False\" type=\"video\">, <Stream: itag=\"395\" mime_type=\"video/mp4\" res=\"240p\" fps=\"24fps\" vcodec=\"av01.0.00M.08\" progressive=\"False\" type=\"video\">, <Stream: itag=\"160\" mime_type=\"video/mp4\" res=\"144p\" fps=\"24fps\" vcodec=\"avc1.4d400c\" progressive=\"False\" type=\"video\">, <Stream: itag=\"278\" mime_type=\"video/webm\" res=\"144p\" fps=\"24fps\" vcodec=\"vp9\" progressive=\"False\" type=\"video\">, <Stream: itag=\"394\" mime_type=\"video/mp4\" res=\"144p\" fps=\"24fps\" vcodec=\"av01.0.00M.08\" progressive=\"False\" type=\"video\">, <Stream: itag=\"140\" mime_type=\"audio/mp4\" abr=\"128kbps\" acodec=\"mp4a.40.2\" progressive=\"False\" type=\"audio\">, <Stream: itag=\"249\" mime_type=\"audio/webm\" abr=\"50kbps\" acodec=\"opus\" progressive=\"False\" type=\"audio\">, <Stream: itag=\"250\" mime_type=\"audio/webm\" abr=\"70kbps\" acodec=\"opus\" progressive=\"False\" type=\"audio\">, <Stream: itag=\"251\" mime_type=\"audio/webm\" abr=\"160kbps\" acodec=\"opus\" progressive=\"False\" type=\"audio\">]\n"
     ]
    }
   ],
   "source": [
    "from pytube import YouTube\n",
    "yt = YouTube(\"https://www.youtube.com/watch?v=gdZLi9oWNZg\")\n",
    "\n",
    "print(yt.streams) # print함수를 통해서 어떤 stream이 있는지 확인합니다."
   ]
  },
  {
   "cell_type": "code",
   "execution_count": null,
   "metadata": {},
   "outputs": [],
   "source": [
    "# itag를 이용해 특정 스트림만 가져올 수 있음.\n",
    "yt.streams.get_by_itag(\"18\")"
   ]
  },
  {
   "cell_type": "code",
   "execution_count": 9,
   "metadata": {},
   "outputs": [
    {
     "data": {
      "text/plain": [
       "'C:/youtube\\\\PSY - GANGNAM STYLE(강남스타일) MV.mp4'"
      ]
     },
     "execution_count": 9,
     "metadata": {},
     "output_type": "execute_result"
    }
   ],
   "source": [
    "stream = yt.streams.get_by_itag(\"18\")\n",
    "stream.download(\"C:/youtube\")"
   ]
  },
  {
   "cell_type": "code",
   "execution_count": 7,
   "metadata": {},
   "outputs": [
    {
     "name": "stdout",
     "output_type": "stream",
     "text": [
      "오디오만 가지고 있는 stream을 확인: \n",
      " [<Stream: itag=\"140\" mime_type=\"audio/mp4\" abr=\"128kbps\" acodec=\"mp4a.40.2\" progressive=\"False\" type=\"audio\">, <Stream: itag=\"249\" mime_type=\"audio/webm\" abr=\"50kbps\" acodec=\"opus\" progressive=\"False\" type=\"audio\">, <Stream: itag=\"250\" mime_type=\"audio/webm\" abr=\"70kbps\" acodec=\"opus\" progressive=\"False\" type=\"audio\">, <Stream: itag=\"251\" mime_type=\"audio/webm\" abr=\"160kbps\" acodec=\"opus\" progressive=\"False\" type=\"audio\">]\n"
     ]
    }
   ],
   "source": [
    "# 오디오만 가지고 있는 stream 확인\n",
    "from pytube import YouTube\n",
    "yt = YouTube(\"https://www.youtube.com/watch?v=gdZLi9oWNZg\")\n",
    "\n",
    "print(\"오디오만 가지고 있는 stream을 확인: \\n\",yt.streams.filter(only_audio=True))"
   ]
  },
  {
   "cell_type": "code",
   "execution_count": 11,
   "metadata": {},
   "outputs": [
    {
     "name": "stdout",
     "output_type": "stream",
     "text": [
      "<Stream: itag=\"140\" mime_type=\"audio/mp4\" abr=\"128kbps\" acodec=\"mp4a.40.2\" progressive=\"False\" type=\"audio\">\n"
     ]
    },
    {
     "data": {
      "text/plain": [
       "'C:/youtube\\\\BTS (방탄소년단) Dynamite Official MV.mp4'"
      ]
     },
     "execution_count": 11,
     "metadata": {},
     "output_type": "execute_result"
    }
   ],
   "source": [
    "# 오디오만 추출\n",
    "audio_stream = yt.streams.filter(only_audio=True)\n",
    "print(audio_stream[0])\n",
    "audio_stream_result = audio_stream[0]\n",
    "audio_stream_result.download('C:/youtube')"
   ]
  },
  {
   "cell_type": "code",
   "execution_count": 12,
   "metadata": {},
   "outputs": [
    {
     "name": "stdout",
     "output_type": "stream",
     "text": [
      "오디오만 가지고 있는 itag 번호를 확인하자 : \n",
      " [<Stream: itag=\"140\" mime_type=\"audio/mp4\" abr=\"128kbps\" acodec=\"mp4a.40.2\" progressive=\"False\" type=\"audio\">, <Stream: itag=\"249\" mime_type=\"audio/webm\" abr=\"50kbps\" acodec=\"opus\" progressive=\"False\" type=\"audio\">, <Stream: itag=\"250\" mime_type=\"audio/webm\" abr=\"70kbps\" acodec=\"opus\" progressive=\"False\" type=\"audio\">, <Stream: itag=\"251\" mime_type=\"audio/webm\" abr=\"160kbps\" acodec=\"opus\" progressive=\"False\" type=\"audio\">]\n"
     ]
    }
   ],
   "source": [
    "from pytube import YouTube\n",
    "yt = YouTube(\"https://www.youtube.com/watch?v=AJuFMTHDl1Y&t=538s\")\n",
    "print(\"오디오만 가지고 있는 itag 번호를 확인하자 : \\n\", yt.streams.filter(only_audio=True))"
   ]
  },
  {
   "cell_type": "code",
   "execution_count": 13,
   "metadata": {},
   "outputs": [
    {
     "data": {
      "text/plain": [
       "'c:/youtube\\\\차이코프스키 피아노 협주곡 1번 1악장 (Tchaikovsky Piano Concerto No1 Op23 - 1Allegro con spirito).webm'"
      ]
     },
     "execution_count": 13,
     "metadata": {},
     "output_type": "execute_result"
    }
   ],
   "source": [
    "stream = yt.streams.get_by_itag(\"251\")\n",
    "stream.download(\"c:/youtube\")"
   ]
  },
  {
   "cell_type": "code",
   "execution_count": 14,
   "metadata": {},
   "outputs": [
    {
     "name": "stdout",
     "output_type": "stream",
     "text": [
      "title: BTS (방탄소년단) 'Dynamite' Official MV\n",
      "0번 영상 화질 :360p\n"
     ]
    },
    {
     "ename": "IndexError",
     "evalue": "list index out of range",
     "output_type": "error",
     "traceback": [
      "\u001b[1;31m---------------------------------------------------------------------------\u001b[0m",
      "\u001b[1;31mIndexError\u001b[0m                                Traceback (most recent call last)",
      "\u001b[1;32m<ipython-input-14-56758b90b259>\u001b[0m in \u001b[0;36m<module>\u001b[1;34m\u001b[0m\n\u001b[0;32m     18\u001b[0m \u001b[0mprint\u001b[0m\u001b[1;33m(\u001b[0m\u001b[1;34m\"title:\"\u001b[0m\u001b[1;33m,\u001b[0m \u001b[0myt\u001b[0m\u001b[1;33m.\u001b[0m\u001b[0mtitle\u001b[0m\u001b[1;33m)\u001b[0m\u001b[1;33m\u001b[0m\u001b[1;33m\u001b[0m\u001b[0m\n\u001b[0;32m     19\u001b[0m \u001b[1;32mfor\u001b[0m \u001b[0mi\u001b[0m \u001b[1;32min\u001b[0m  \u001b[0mrange\u001b[0m\u001b[1;33m(\u001b[0m\u001b[0mlen\u001b[0m\u001b[1;33m(\u001b[0m\u001b[0myt\u001b[0m\u001b[1;33m.\u001b[0m\u001b[0mstreams\u001b[0m\u001b[1;33m)\u001b[0m\u001b[1;33m)\u001b[0m\u001b[1;33m:\u001b[0m\u001b[1;33m\u001b[0m\u001b[1;33m\u001b[0m\u001b[0m\n\u001b[1;32m---> 20\u001b[1;33m     \u001b[0mprint\u001b[0m\u001b[1;33m(\u001b[0m\u001b[1;34mf\"{i}번 영상 화질 :{yt_streams[i].resolution}\"\u001b[0m\u001b[1;33m)\u001b[0m\u001b[1;33m\u001b[0m\u001b[1;33m\u001b[0m\u001b[0m\n\u001b[0m\u001b[0;32m     21\u001b[0m \u001b[0mnum\u001b[0m \u001b[1;33m=\u001b[0m \u001b[0mint\u001b[0m\u001b[1;33m(\u001b[0m\u001b[0minput\u001b[0m\u001b[1;33m(\u001b[0m\u001b[1;34m\"다운받을 영상의 번호를 입력해주세요\"\u001b[0m\u001b[1;33m)\u001b[0m\u001b[1;33m)\u001b[0m\u001b[1;33m\u001b[0m\u001b[1;33m\u001b[0m\u001b[0m\n\u001b[0;32m     22\u001b[0m \u001b[0myt_streams\u001b[0m\u001b[1;33m[\u001b[0m\u001b[0mnum\u001b[0m\u001b[1;33m]\u001b[0m\u001b[1;33m.\u001b[0m\u001b[0mdownload\u001b[0m\u001b[1;33m(\u001b[0m\u001b[0mFolderPath\u001b[0m\u001b[1;33m)\u001b[0m\u001b[1;33m\u001b[0m\u001b[1;33m\u001b[0m\u001b[0m\n",
      "\u001b[1;32mC:\\ProgramData\\Anaconda3\\lib\\site-packages\\pytube\\query.py\u001b[0m in \u001b[0;36m__getitem__\u001b[1;34m(self, i)\u001b[0m\n\u001b[0;32m    362\u001b[0m \u001b[1;33m\u001b[0m\u001b[0m\n\u001b[0;32m    363\u001b[0m     \u001b[1;32mdef\u001b[0m \u001b[0m__getitem__\u001b[0m\u001b[1;33m(\u001b[0m\u001b[0mself\u001b[0m\u001b[1;33m,\u001b[0m \u001b[0mi\u001b[0m\u001b[1;33m:\u001b[0m \u001b[0mUnion\u001b[0m\u001b[1;33m[\u001b[0m\u001b[0mslice\u001b[0m\u001b[1;33m,\u001b[0m \u001b[0mint\u001b[0m\u001b[1;33m]\u001b[0m\u001b[1;33m)\u001b[0m\u001b[1;33m:\u001b[0m\u001b[1;33m\u001b[0m\u001b[1;33m\u001b[0m\u001b[0m\n\u001b[1;32m--> 364\u001b[1;33m         \u001b[1;32mreturn\u001b[0m \u001b[0mself\u001b[0m\u001b[1;33m.\u001b[0m\u001b[0mfmt_streams\u001b[0m\u001b[1;33m[\u001b[0m\u001b[0mi\u001b[0m\u001b[1;33m]\u001b[0m\u001b[1;33m\u001b[0m\u001b[1;33m\u001b[0m\u001b[0m\n\u001b[0m\u001b[0;32m    365\u001b[0m \u001b[1;33m\u001b[0m\u001b[0m\n\u001b[0;32m    366\u001b[0m     \u001b[1;32mdef\u001b[0m \u001b[0m__len__\u001b[0m\u001b[1;33m(\u001b[0m\u001b[0mself\u001b[0m\u001b[1;33m)\u001b[0m \u001b[1;33m->\u001b[0m \u001b[0mint\u001b[0m\u001b[1;33m:\u001b[0m\u001b[1;33m\u001b[0m\u001b[1;33m\u001b[0m\u001b[0m\n",
      "\u001b[1;31mIndexError\u001b[0m: list index out of range"
     ]
    }
   ],
   "source": [
    "# 자동화에 해당하는 부분\n",
    "\n",
    "import os\n",
    "from pytube import YouTube\n",
    "\n",
    "UserName = \"사용자 이름\"\n",
    "FolderName = \"폴더명\"\n",
    "FolderPath = f\"c:/{UserName}/{FolderName}\"\n",
    "\n",
    "if not os.path.isdir(FolderPath): os.makedirs(FolderPath)\n",
    "\n",
    "# Youtube URL\n",
    "yt = YouTube(\"https://www.youtube.com/watch?v=gdZLi9oWNZg\")\n",
    "\n",
    "# mp4 확장자로 필터링\n",
    "yt_streams = yt.streams.filter(progressive=True, file_extension='mp4')\n",
    "\n",
    "print(\"title:\", yt.title)\n",
    "for i in  range(len(yt.streams)):\n",
    "    print(f\"{i}번 영상 화질 :{yt_streams[i].resolution}\")\n",
    "num = int(input(\"다운받을 영상의 번호를 입력해주세요\"))\n",
    "yt_streams[num].download(FolderPath)"
   ]
  },
  {
   "cell_type": "code",
   "execution_count": null,
   "metadata": {},
   "outputs": [],
   "source": [
    "os.getcwd()  # current working directory"
   ]
  },
  {
   "cell_type": "code",
   "execution_count": null,
   "metadata": {},
   "outputs": [],
   "source": [
    "os.system(\"dir\")  # dir이 없음"
   ]
  },
  {
   "cell_type": "code",
   "execution_count": 8,
   "metadata": {},
   "outputs": [],
   "source": [
    "import os\n",
    "from pytube import YouTube\n",
    "\n",
    "UserName = \"사용자 이름\"\n",
    "FolderName = \"폴더명\"\n",
    "FolderPath = f\"c:/{UserName}/{FolderName}\"\n",
    "\n",
    "if not os.path.isdir(FolderPath): \n",
    "    os.mkdirs(FolderPath)\n",
    "    # os.makedir(FolderPath) 도 가능."
   ]
  },
  {
   "cell_type": "code",
   "execution_count": null,
   "metadata": {},
   "outputs": [],
   "source": [
    "# Youtube URL\n",
    "yt = YouTube(\"https://www.youtube.com/watch?v=gdZLi9oWNZg\")\n",
    "\n",
    "# mp4 확장자로 필터링\n",
    "yt_streams = yt.streams.filter(progressive=True, file_extension='mp4')\n",
    "\n",
    "print(\"title:\", yt.title)\n",
    "for i in  range(len(yt.streams)):\n",
    "    print(f\"{i}번 : 영상 화질 :{yt.streams[i].resolution}\")\n",
    "num = int(input(\"다운받을 영상의 번호를 입력해주세요 : \"))\n",
    "yt.streams[num].download(FolderPath)"
   ]
  },
  {
   "cell_type": "code",
   "execution_count": 8,
   "metadata": {},
   "outputs": [
    {
     "name": "stdout",
     "output_type": "stream",
     "text": [
      "{'zh': <Caption lang=\"Chinese\" code=\"zh\">, 'en': <Caption lang=\"English\" code=\"en\">, 'ja': <Caption lang=\"Japanese\" code=\"ja\">, 'ko': <Caption lang=\"Korean\" code=\"ko\">, 'es': <Caption lang=\"Spanish\" code=\"es\">}\n"
     ]
    }
   ],
   "source": [
    "# 자막 언어 설정 확인. 어떤 언어의 자막들이 들어있는지.\n",
    "from pytube import YouTube\n",
    "yt = YouTube(\"https://www.youtube.com/watch?v=gdZLi9oWNZg\")\n",
    "print(yt.captions)"
   ]
  },
  {
   "cell_type": "code",
   "execution_count": null,
   "metadata": {},
   "outputs": [],
   "source": [
    "# 한국어 자막을 가져옴\n",
    "# caption = yt.captions.get_by_language_code(\"ko\")   # deprecated. 비추천함. 다른 형식으로 사용해야함. 해당형식으로 사용시 오류발생\n",
    "caption = yt.captions['ko']\n",
    "print(caption.generate_srt_captions())"
   ]
  },
  {
   "cell_type": "code",
   "execution_count": null,
   "metadata": {},
   "outputs": [],
   "source": [
    "from pytube import YouTube\n",
    "URL_KR = \"https://www.youtube.com/watch?v=oNCRJ8egk5E\"\n",
    "URL_JR = \"https://www.youtube.com/watch?v=zQsUJxDkAvw\"\n",
    "URL_EN = \"https://www.youtube.com/watch?v=7GP_ymLQ-FU\"\n",
    "\n",
    "# 라이브러리 가져오기\n",
    "choice = int( input(\"한국어: 1\\n일본어 : 2\\n영어 : 3 \\n\"))\n",
    "\n",
    "if choice == 1 :\n",
    "    yt = YouTube( URL_KR )\n",
    "elif choice == 2 :\n",
    "    yt = YouTube( URL_JR )\n",
    "else :\n",
    "    yt = YouTube( URL_EN )\n",
    "\n",
    "yt_captions = yt.captions\n",
    "\n",
    "print(\"\\n다운로드 가능한 영상 자막 정보 :\")\n",
    "for i,cap in enumerate(yt.captions):\n",
    "    print(i, \" : \", cap)\n",
    "print(\"언어를 선택하세요 ( code 입력 ):\")\n",
    "code = input()\n",
    "my_caption = yt_captions[code]\n",
    "print( \"선택된 caption : \", my_caption)\n",
    "print( \"선택된 자막 보여주기 :\")\n",
    "print(my_caption.generate_srt_captions())\n",
    "print(\"end\")"
   ]
  },
  {
   "cell_type": "code",
   "execution_count": 6,
   "metadata": {},
   "outputs": [
    {
     "name": "stdout",
     "output_type": "stream",
     "text": [
      "Requirement already satisfied: moviepy in c:\\programdata\\anaconda3\\lib\\site-packages (1.0.3)\n",
      "Requirement already satisfied: imageio-ffmpeg>=0.2.0; python_version >= \"3.4\" in c:\\programdata\\anaconda3\\lib\\site-packages (from moviepy) (0.4.3)\n",
      "Requirement already satisfied: proglog<=1.0.0 in c:\\programdata\\anaconda3\\lib\\site-packages (from moviepy) (0.1.9)\n",
      "Requirement already satisfied: numpy>=1.17.3; python_version != \"2.7\" in c:\\programdata\\anaconda3\\lib\\site-packages (from moviepy) (1.19.2)\n",
      "Requirement already satisfied: imageio<3.0,>=2.5; python_version >= \"3.4\" in c:\\programdata\\anaconda3\\lib\\site-packages (from moviepy) (2.9.0)\n",
      "Requirement already satisfied: requests<3.0,>=2.8.1 in c:\\programdata\\anaconda3\\lib\\site-packages (from moviepy) (2.24.0)\n",
      "Requirement already satisfied: decorator<5.0,>=4.0.2 in c:\\programdata\\anaconda3\\lib\\site-packages (from moviepy) (4.4.2)\n",
      "Requirement already satisfied: tqdm<5.0,>=4.11.2 in c:\\programdata\\anaconda3\\lib\\site-packages (from moviepy) (4.50.2)\n",
      "Requirement already satisfied: pillow in c:\\programdata\\anaconda3\\lib\\site-packages (from imageio<3.0,>=2.5; python_version >= \"3.4\"->moviepy) (8.0.1)\n",
      "Requirement already satisfied: chardet<4,>=3.0.2 in c:\\programdata\\anaconda3\\lib\\site-packages (from requests<3.0,>=2.8.1->moviepy) (3.0.4)\n",
      "Requirement already satisfied: urllib3!=1.25.0,!=1.25.1,<1.26,>=1.21.1 in c:\\programdata\\anaconda3\\lib\\site-packages (from requests<3.0,>=2.8.1->moviepy) (1.25.11)\n",
      "Requirement already satisfied: certifi>=2017.4.17 in c:\\programdata\\anaconda3\\lib\\site-packages (from requests<3.0,>=2.8.1->moviepy) (2020.6.20)\n",
      "Requirement already satisfied: idna<3,>=2.5 in c:\\programdata\\anaconda3\\lib\\site-packages (from requests<3.0,>=2.8.1->moviepy) (2.10)\n"
     ]
    }
   ],
   "source": [
    "!pip install moviepy"
   ]
  },
  {
   "cell_type": "code",
   "execution_count": 9,
   "metadata": {},
   "outputs": [],
   "source": [
    "from moviepy.editor import *"
   ]
  },
  {
   "cell_type": "code",
   "execution_count": null,
   "metadata": {},
   "outputs": [
    {
     "name": "stdout",
     "output_type": "stream",
     "text": [
      "유튜브 주소를 입력하세요.\n",
      " >>> 8\n",
      "유튜브 영상 불러오는 중...\n",
      "유효하지 않은 주소입니다.\n",
      "\n",
      "유튜브 주소를 입력하세요.\n",
      " >>> 5\n",
      "유튜브 영상 불러오는 중...\n",
      "유효하지 않은 주소입니다.\n",
      "\n",
      "유튜브 주소를 입력하세요.\n",
      "유효하지 않은 주소입니다.\n",
      "\n",
      "유튜브 주소를 입력하세요.\n"
     ]
    }
   ],
   "source": [
    "# 폴더 이름 설정\n",
    "folderName  = \"유튜브 다운로드\"\n",
    "\n",
    "# 유튜브 주소 입력 유효성 검사\n",
    "while True : \n",
    "    print(\"유튜브 주소를 입력하세요.\")\n",
    "    try : \n",
    "        yt_input = input(\" >>> \")\n",
    "        print(\"유튜브 영상 불러오는 중...\")\n",
    "        yt = YouTube(yt_input)\n",
    "        break\n",
    "    except : print(\"유효하지 않은 주소입니다.\\n\")\n",
    "\n",
    "# 바탕화면에 폴더 생성\n",
    "UserName = os.path.expanduser(\"~\") \n",
    "folderPath = f\"{UserName}/Desktop/{folderName}\"  \n",
    "if not os.path.isdir(folderPath): os.makedirs(folderPath)\n",
    "\n",
    "# mp4 확장자로 필터링\n",
    "yt_streams = yt.streams.filter(progressive=True, file_extension='mp4').all()\n",
    "\n",
    "# 다운 가능한 영상 화질 출력\n",
    "print(f\"\\n제목 : {yt.title}\\n\")\n",
    "for i in range(len(yt_streams)) : \n",
    "    print(f\"{i+1} 번 영상 화질 : {yt_streams[i].resolution}\")\n",
    "\n",
    "# 입력 유효성 검사 \n",
    "print(\"\\n다운받을 영상의 번호를 입력해주세요.\")\n",
    "while True : \n",
    "    try : \n",
    "        num=int(input(\" >>> \"))-1\n",
    "        if (0 <= num and num < len(yt_streams)) :\n",
    "            print(\"\\n다운로드 중... \\n잠시만 기다려주세요.\\n\");break\n",
    "        else : print(f\"\\n1~{len(yt_streams)} 사이 번호를 입력해주세요.\")\n",
    "    except :\n",
    "        print(f\"\\n1~{len(yt_streams)} 사이 번호를 입력해주세요.\")\n",
    "    \n",
    "# 다운로드    \n",
    "yt_streams[num].download(folderPath)\n",
    "print(\"\\n다운로드가 완료되었습니다..\")\n",
    "\n",
    "# 다운로드 폴더 열기\n",
    "os.startfile(folderPath)"
   ]
  },
  {
   "cell_type": "code",
   "execution_count": 8,
   "metadata": {
    "scrolled": false
   },
   "outputs": [
    {
     "name": "stdout",
     "output_type": "stream",
     "text": [
      "편집할 영상을 선택해주세요.\n",
      "1 번 : 애플이 이럴리가 없는데 믿기지않는 혜자 구성 새로운 아이패드 프로 5세대 아이맥 M1 에어태그 발표 총정리!.mp4\n",
      "\n",
      "번호를 입력해주세요. 1\n",
      "\n",
      "애플이 이럴리가 없는데 믿기지않는 혜자 구성 새로운 아이패드 프로 5세대 아이맥 M1 에어태그 발표 총정리!.mp4 를 선택하셨습니다.\n",
      "영상을 편집합니다. \n",
      "\n",
      "※입력값은 초단위로 입력바람. 1분30초 => 90\n",
      "시작 시간 :30\n",
      "끝나는 시간 :40\n",
      "\n",
      " 저장할 이름을 입력해주세요.(확장자 생략)5\n"
     ]
    },
    {
     "name": "stderr",
     "output_type": "stream",
     "text": [
      "                                                                                                                       \n",
      "\n",
      "chunk: 100%|██████████████████████████████████████████████████████████████████| 1/1 [02:33<00:00, 153.89s/it, now=None]\n",
      "\n",
      "                                                                                                                       \u001b[A\u001b[A\n",
      "\n",
      "chunk: 100%|██████████████████████████████████████████████████████████████████| 1/1 [02:33<00:00, 153.89s/it, now=None]\n",
      "\n",
      "chunk: 100%|██████████████████████████████████████████████████████████████████| 1/1 [03:21<00:00, 201.99s/it, now=None]\u001b[A\u001b[A\n",
      "chunk:   0%|                                                                         | 0/221 [00:00<?, ?it/s, now=None]\u001b[A"
     ]
    },
    {
     "name": "stdout",
     "output_type": "stream",
     "text": [
      "Moviepy - Building video E:/과제2/잇섭영상/5.mp4.\n",
      "MoviePy - Writing audio in 5TEMP_MPY_wvf_snd.mp3\n"
     ]
    },
    {
     "name": "stderr",
     "output_type": "stream",
     "text": [
      "\n",
      "chunk:   1%|▌                                                                | 2/221 [00:00<00:38,  5.65it/s, now=None]\u001b[A\n",
      "chunk:  74%|██████████████████████████████████████████████▊                | 164/221 [00:00<00:07,  8.06it/s, now=None]\u001b[A\n",
      "                                                                                                                       \u001b[A\n",
      "\n",
      "chunk: 100%|██████████████████████████████████████████████████████████████████| 1/1 [02:34<00:00, 154.39s/it, now=None]\n",
      "\n",
      "                                                                                                                       \u001b[A\u001b[A\n",
      "\n",
      "chunk: 100%|██████████████████████████████████████████████████████████████████| 1/1 [02:34<00:00, 154.40s/it, now=None]\n",
      "\n",
      "chunk: 100%|██████████████████████████████████████████████████████████████████| 1/1 [03:22<00:00, 202.50s/it, now=None]\u001b[A\u001b[A\n",
      "t:   0%|                                                                             | 0/300 [00:00<?, ?it/s, now=None]\u001b[A"
     ]
    },
    {
     "name": "stdout",
     "output_type": "stream",
     "text": [
      "MoviePy - Done.\n",
      "Moviepy - Writing video E:/과제2/잇섭영상/5.mp4\n",
      "\n"
     ]
    },
    {
     "name": "stderr",
     "output_type": "stream",
     "text": [
      "\n",
      "t:   1%|▍                                                                    | 2/300 [00:00<00:48,  6.16it/s, now=None]\u001b[A\n",
      "t:   1%|▋                                                                    | 3/300 [00:00<01:14,  3.98it/s, now=None]\u001b[A\n",
      "t:  19%|████████████▉                                                       | 57/300 [00:00<00:42,  5.66it/s, now=None]\u001b[A\n",
      "t:  38%|█████████████████████████▋                                         | 115/300 [00:00<00:22,  8.06it/s, now=None]\u001b[A\n",
      "t:  64%|███████████████████████████████████████████                        | 193/300 [00:01<00:09, 11.46it/s, now=None]\u001b[A\n",
      "t:  86%|█████████████████████████████████████████████████████████▊         | 259/300 [00:01<00:02, 16.25it/s, now=None]\u001b[A\n",
      "                                                                                                                       \u001b[A\n",
      "\n",
      "chunk: 100%|██████████████████████████████████████████████████████████████████| 1/1 [02:35<00:00, 155.76s/it, now=None]\n",
      "\n",
      "                                                                                                                       \u001b[A\u001b[A\n",
      "\n",
      "chunk: 100%|██████████████████████████████████████████████████████████████████| 1/1 [02:35<00:00, 155.76s/it, now=None]\n",
      "\n",
      "chunk: 100%|██████████████████████████████████████████████████████████████████| 1/1 [03:23<00:00, 203.86s/it, now=None]\u001b[A\u001b[A"
     ]
    },
    {
     "name": "stdout",
     "output_type": "stream",
     "text": [
      "Moviepy - Done !\n",
      "Moviepy - video ready E:/과제2/잇섭영상/5.mp4\n"
     ]
    }
   ],
   "source": [
    "# 유튜브 제목에서 다운로드 된 영상 이름 추출\n",
    "print(\"편집할 영상을 선택해주세요.\")\n",
    "\n",
    "# 디랙토리 보기\n",
    "_directory = os.listdir(folderPath)\n",
    "for i in range(len(_directory)) :\n",
    "    print(f\"{i+1} 번 : {_directory[i]}\")\n",
    "\n",
    "# 파일 선택하기\n",
    "while True : \n",
    "    try : \n",
    "        select = int(input(\"\\n번호를 입력해주세요. \"))-1\n",
    "        if (0 <= select and select < len(_directory)) :\n",
    "            print(f\"\\n{_directory[i]} 를 선택하셨습니다.\");break\n",
    "        else : print(f\"1~{len(_directory)} 사이 번호를 입력해주세요.\")\n",
    "    except :\n",
    "        print(f\"1~{len(_directory)} 사이 번호를 입력해주세요.\")\n",
    "        \n",
    "selected_file = f\"{folderPath}/{_directory[select]}\"\n",
    "\n",
    "print(\"영상을 편집합니다. \")\n",
    "print(\"\\n※입력값은 초단위로 입력바람. 1분30초 => 90\")\n",
    "m_start = int(input(\"시작 시간 :\"))\n",
    "m_end = int(input(\"끝나는 시간 :\"))\n",
    "m_name = input(\"\\n 저장할 이름을 입력해주세요.(확장자 생략)\")\n",
    "\n",
    "\n",
    "# 다운로드 된 파일에서 특정 구간 추출 및 저장\n",
    "videoclip = VideoFileClip(selected_file)\n",
    "videoclip = videoclip.subclip(m_start,m_end)\n",
    "\n",
    "videoclip.write_videofile(f\"{folderPath}/{m_name}.mp4\")\n",
    "\n",
    "# 폴더 열기\n",
    "os.startfile(folderPath)"
   ]
  },
  {
   "cell_type": "code",
   "execution_count": 23,
   "metadata": {},
   "outputs": [
    {
     "name": "stdout",
     "output_type": "stream",
     "text": [
      "Collecting google-api-python-client\n",
      "  Downloading google_api_python_client-2.2.0-py2.py3-none-any.whl (7.0 MB)\n",
      "Collecting uritemplate<4dev,>=3.0.0\n",
      "  Downloading uritemplate-3.0.1-py2.py3-none-any.whl (15 kB)\n",
      "Requirement already satisfied: google-auth<2dev,>=1.16.0 in c:\\programdata\\anaconda3\\lib\\site-packages (from google-api-python-client) (1.29.0)\n",
      "Collecting google-api-core<2dev,>=1.21.0\n",
      "  Downloading google_api_core-1.26.3-py2.py3-none-any.whl (93 kB)\n",
      "Collecting google-auth-httplib2>=0.1.0\n",
      "  Downloading google_auth_httplib2-0.1.0-py2.py3-none-any.whl (9.3 kB)\n",
      "Requirement already satisfied: six<2dev,>=1.13.0 in c:\\programdata\\anaconda3\\lib\\site-packages (from google-api-python-client) (1.15.0)\n",
      "Collecting httplib2<1dev,>=0.15.0\n",
      "  Downloading httplib2-0.19.1-py3-none-any.whl (95 kB)\n",
      "Requirement already satisfied: rsa<5,>=3.1.4; python_version >= \"3.6\" in c:\\programdata\\anaconda3\\lib\\site-packages (from google-auth<2dev,>=1.16.0->google-api-python-client) (4.7.2)\n",
      "Requirement already satisfied: cachetools<5.0,>=2.0.0 in c:\\programdata\\anaconda3\\lib\\site-packages (from google-auth<2dev,>=1.16.0->google-api-python-client) (4.2.1)\n",
      "Requirement already satisfied: pyasn1-modules>=0.2.1 in c:\\programdata\\anaconda3\\lib\\site-packages (from google-auth<2dev,>=1.16.0->google-api-python-client) (0.2.8)\n",
      "Requirement already satisfied: setuptools>=40.3.0 in c:\\programdata\\anaconda3\\lib\\site-packages (from google-auth<2dev,>=1.16.0->google-api-python-client) (50.3.1.post20201107)\n",
      "Requirement already satisfied: packaging>=14.3 in c:\\programdata\\anaconda3\\lib\\site-packages (from google-api-core<2dev,>=1.21.0->google-api-python-client) (20.4)\n",
      "Requirement already satisfied: pytz in c:\\programdata\\anaconda3\\lib\\site-packages (from google-api-core<2dev,>=1.21.0->google-api-python-client) (2020.1)\n",
      "Collecting googleapis-common-protos<2.0dev,>=1.6.0\n",
      "  Downloading googleapis_common_protos-1.53.0-py2.py3-none-any.whl (198 kB)\n",
      "Requirement already satisfied: protobuf>=3.12.0 in c:\\programdata\\anaconda3\\lib\\site-packages (from google-api-core<2dev,>=1.21.0->google-api-python-client) (3.15.8)\n",
      "Requirement already satisfied: requests<3.0.0dev,>=2.18.0 in c:\\programdata\\anaconda3\\lib\\site-packages (from google-api-core<2dev,>=1.21.0->google-api-python-client) (2.24.0)\n",
      "Requirement already satisfied: pyparsing<3,>=2.4.2 in c:\\programdata\\anaconda3\\lib\\site-packages (from httplib2<1dev,>=0.15.0->google-api-python-client) (2.4.7)\n",
      "Requirement already satisfied: pyasn1>=0.1.3 in c:\\programdata\\anaconda3\\lib\\site-packages (from rsa<5,>=3.1.4; python_version >= \"3.6\"->google-auth<2dev,>=1.16.0->google-api-python-client) (0.4.8)\n",
      "Requirement already satisfied: urllib3!=1.25.0,!=1.25.1,<1.26,>=1.21.1 in c:\\programdata\\anaconda3\\lib\\site-packages (from requests<3.0.0dev,>=2.18.0->google-api-core<2dev,>=1.21.0->google-api-python-client) (1.25.11)\n",
      "Requirement already satisfied: certifi>=2017.4.17 in c:\\programdata\\anaconda3\\lib\\site-packages (from requests<3.0.0dev,>=2.18.0->google-api-core<2dev,>=1.21.0->google-api-python-client) (2020.6.20)\n",
      "Requirement already satisfied: idna<3,>=2.5 in c:\\programdata\\anaconda3\\lib\\site-packages (from requests<3.0.0dev,>=2.18.0->google-api-core<2dev,>=1.21.0->google-api-python-client) (2.10)\n",
      "Requirement already satisfied: chardet<4,>=3.0.2 in c:\\programdata\\anaconda3\\lib\\site-packages (from requests<3.0.0dev,>=2.18.0->google-api-core<2dev,>=1.21.0->google-api-python-client) (3.0.4)\n",
      "Installing collected packages: uritemplate, googleapis-common-protos, google-api-core, httplib2, google-auth-httplib2, google-api-python-client\n",
      "Successfully installed google-api-core-1.26.3 google-api-python-client-2.2.0 google-auth-httplib2-0.1.0 googleapis-common-protos-1.53.0 httplib2-0.19.1 uritemplate-3.0.1\n"
     ]
    }
   ],
   "source": [
    "!pip install google-api-python-client"
   ]
  },
  {
   "cell_type": "code",
   "execution_count": 24,
   "metadata": {},
   "outputs": [
    {
     "ename": "NameError",
     "evalue": "name 'response' is not defined",
     "output_type": "error",
     "traceback": [
      "\u001b[1;31m---------------------------------------------------------------------------\u001b[0m",
      "\u001b[1;31mNameError\u001b[0m                                 Traceback (most recent call last)",
      "\u001b[1;32m<ipython-input-24-331459f7ea16>\u001b[0m in \u001b[0;36m<module>\u001b[1;34m\u001b[0m\n\u001b[1;32m----> 1\u001b[1;33m \u001b[1;32mwhile\u001b[0m \u001b[0mresponse\u001b[0m\u001b[1;33m:\u001b[0m\u001b[1;33m\u001b[0m\u001b[1;33m\u001b[0m\u001b[0m\n\u001b[0m\u001b[0;32m      2\u001b[0m     \u001b[1;32mfor\u001b[0m \u001b[0mitem\u001b[0m \u001b[1;32min\u001b[0m \u001b[0mresponse\u001b[0m\u001b[1;33m[\u001b[0m\u001b[1;34m'items'\u001b[0m\u001b[1;33m]\u001b[0m\u001b[1;33m:\u001b[0m\u001b[1;33m\u001b[0m\u001b[1;33m\u001b[0m\u001b[0m\n\u001b[0;32m      3\u001b[0m         \u001b[0mcomment\u001b[0m \u001b[1;33m=\u001b[0m \u001b[0mitem\u001b[0m\u001b[1;33m[\u001b[0m\u001b[1;34m'snippet'\u001b[0m\u001b[1;33m]\u001b[0m\u001b[1;33m[\u001b[0m\u001b[1;34m'topLevelComment'\u001b[0m\u001b[1;33m]\u001b[0m\u001b[1;33m[\u001b[0m\u001b[1;34m'snippet'\u001b[0m\u001b[1;33m]\u001b[0m\u001b[1;33m\u001b[0m\u001b[1;33m\u001b[0m\u001b[0m\n\u001b[0;32m      4\u001b[0m         \u001b[0mcomments\u001b[0m\u001b[1;33m.\u001b[0m\u001b[0mappend\u001b[0m\u001b[1;33m(\u001b[0m\u001b[1;33m[\u001b[0m\u001b[0mcomment\u001b[0m\u001b[1;33m[\u001b[0m\u001b[1;34m'textDisplay'\u001b[0m\u001b[1;33m]\u001b[0m\u001b[1;33m,\u001b[0m \u001b[0mcomment\u001b[0m\u001b[1;33m[\u001b[0m\u001b[1;34m'authorDisplayName'\u001b[0m\u001b[1;33m]\u001b[0m\u001b[1;33m,\u001b[0m \u001b[0mcomment\u001b[0m\u001b[1;33m[\u001b[0m\u001b[1;34m'publishedAt'\u001b[0m\u001b[1;33m]\u001b[0m\u001b[1;33m,\u001b[0m \u001b[0mcomment\u001b[0m\u001b[1;33m[\u001b[0m\u001b[1;34m'likeCount'\u001b[0m\u001b[1;33m]\u001b[0m\u001b[1;33m]\u001b[0m\u001b[1;33m)\u001b[0m\u001b[1;33m\u001b[0m\u001b[1;33m\u001b[0m\u001b[0m\n\u001b[0;32m      5\u001b[0m \u001b[1;33m\u001b[0m\u001b[0m\n",
      "\u001b[1;31mNameError\u001b[0m: name 'response' is not defined"
     ]
    }
   ],
   "source": [
    "while response:\n",
    "    for item in response['items']:\n",
    "        comment = item['snippet']['topLevelComment']['snippet']\n",
    "        comments.append([comment['textDisplay'], comment['authorDisplayName'], comment['publishedAt'], comment['likeCount']])\n",
    " \n",
    "        if item['snippet']['totalReplyCount'] > 0:\n",
    "            for reply_item in item['replies']['comments']:\n",
    "                reply = reply_item['snippet']\n",
    "                comments.append([reply['textDisplay'], reply['authorDisplayName'], reply['publishedAt'], reply['likeCount']])\n",
    " \n",
    "    if 'nextPageToken' in response:\n",
    "        response = api_obj.commentThreads().list(part='snippet,replies', videoId=video_id, pageToken=response['nextPageToken'], maxResults=100).execute()\n",
    "    else:\n",
    "        break"
   ]
  },
  {
   "cell_type": "code",
   "execution_count": 25,
   "metadata": {
    "scrolled": true
   },
   "outputs": [
    {
     "ename": "NameError",
     "evalue": "name 'pandas' is not defined",
     "output_type": "error",
     "traceback": [
      "\u001b[1;31m---------------------------------------------------------------------------\u001b[0m",
      "\u001b[1;31mNameError\u001b[0m                                 Traceback (most recent call last)",
      "\u001b[1;32m<ipython-input-25-a5c87f5e2a90>\u001b[0m in \u001b[0;36m<module>\u001b[1;34m\u001b[0m\n\u001b[1;32m----> 1\u001b[1;33m \u001b[0mdf\u001b[0m \u001b[1;33m=\u001b[0m \u001b[0mpandas\u001b[0m\u001b[1;33m.\u001b[0m\u001b[0mDataFrame\u001b[0m\u001b[1;33m(\u001b[0m\u001b[0mcomments\u001b[0m\u001b[1;33m)\u001b[0m\u001b[1;33m\u001b[0m\u001b[1;33m\u001b[0m\u001b[0m\n\u001b[0m\u001b[0;32m      2\u001b[0m \u001b[0mdf\u001b[0m\u001b[1;33m.\u001b[0m\u001b[0mto_excel\u001b[0m\u001b[1;33m(\u001b[0m\u001b[1;34m'results.xlsx'\u001b[0m\u001b[1;33m,\u001b[0m \u001b[0mheader\u001b[0m\u001b[1;33m=\u001b[0m\u001b[1;33m[\u001b[0m\u001b[1;34m'comment'\u001b[0m\u001b[1;33m,\u001b[0m \u001b[1;34m'author'\u001b[0m\u001b[1;33m,\u001b[0m \u001b[1;34m'date'\u001b[0m\u001b[1;33m,\u001b[0m \u001b[1;34m'num_likes'\u001b[0m\u001b[1;33m]\u001b[0m\u001b[1;33m,\u001b[0m \u001b[0mindex\u001b[0m\u001b[1;33m=\u001b[0m\u001b[1;32mNone\u001b[0m\u001b[1;33m)\u001b[0m\u001b[1;33m\u001b[0m\u001b[1;33m\u001b[0m\u001b[0m\n",
      "\u001b[1;31mNameError\u001b[0m: name 'pandas' is not defined"
     ]
    }
   ],
   "source": [
    "df = pandas.DataFrame(comments)\n",
    "df.to_excel('results.xlsx', header=['comment', 'author', 'date', 'num_likes'], index=None)"
   ]
  },
  {
   "cell_type": "code",
   "execution_count": 11,
   "metadata": {},
   "outputs": [
    {
     "ename": "HttpError",
     "evalue": "<HttpError 400 when requesting https://youtube.googleapis.com/youtube/v3/commentThreads?part=snippet%2Creplies&videoId=%EC%B6%94%EC%B6%9C%ED%95%98%EA%B3%A0%EC%9E%90+%ED%95%98%EB%8A%94+%EB%8F%99%EC%98%81%EC%83%81%EC%9D%98+id&maxResults=100&key=%EB%B0%9C%EA%B8%89+%EB%B0%9B%EC%9D%80+API+%ED%82%A4&alt=json returned \"API key not valid. Please pass a valid API key.\". Details: \"[{'message': 'API key not valid. Please pass a valid API key.', 'domain': 'global', 'reason': 'badRequest'}]\">",
     "output_type": "error",
     "traceback": [
      "\u001b[1;31m---------------------------------------------------------------------------\u001b[0m",
      "\u001b[1;31mHttpError\u001b[0m                                 Traceback (most recent call last)",
      "\u001b[1;32m<ipython-input-11-4aa2eef401ce>\u001b[0m in \u001b[0;36m<module>\u001b[1;34m\u001b[0m\n\u001b[0;32m      8\u001b[0m \u001b[0mcomments\u001b[0m \u001b[1;33m=\u001b[0m \u001b[0mlist\u001b[0m\u001b[1;33m(\u001b[0m\u001b[1;33m)\u001b[0m\u001b[1;33m\u001b[0m\u001b[1;33m\u001b[0m\u001b[0m\n\u001b[0;32m      9\u001b[0m \u001b[0mapi_obj\u001b[0m \u001b[1;33m=\u001b[0m \u001b[0mbuild\u001b[0m\u001b[1;33m(\u001b[0m\u001b[1;34m'youtube'\u001b[0m\u001b[1;33m,\u001b[0m \u001b[1;34m'v3'\u001b[0m\u001b[1;33m,\u001b[0m \u001b[0mdeveloperKey\u001b[0m\u001b[1;33m=\u001b[0m\u001b[0mapi_key\u001b[0m\u001b[1;33m)\u001b[0m\u001b[1;33m\u001b[0m\u001b[1;33m\u001b[0m\u001b[0m\n\u001b[1;32m---> 10\u001b[1;33m \u001b[0mresponse\u001b[0m \u001b[1;33m=\u001b[0m \u001b[0mapi_obj\u001b[0m\u001b[1;33m.\u001b[0m\u001b[0mcommentThreads\u001b[0m\u001b[1;33m(\u001b[0m\u001b[1;33m)\u001b[0m\u001b[1;33m.\u001b[0m\u001b[0mlist\u001b[0m\u001b[1;33m(\u001b[0m\u001b[0mpart\u001b[0m\u001b[1;33m=\u001b[0m\u001b[1;34m'snippet,replies'\u001b[0m\u001b[1;33m,\u001b[0m \u001b[0mvideoId\u001b[0m\u001b[1;33m=\u001b[0m\u001b[0mvideo_id\u001b[0m\u001b[1;33m,\u001b[0m \u001b[0mmaxResults\u001b[0m\u001b[1;33m=\u001b[0m\u001b[1;36m100\u001b[0m\u001b[1;33m)\u001b[0m\u001b[1;33m.\u001b[0m\u001b[0mexecute\u001b[0m\u001b[1;33m(\u001b[0m\u001b[1;33m)\u001b[0m\u001b[1;33m\u001b[0m\u001b[1;33m\u001b[0m\u001b[0m\n\u001b[0m\u001b[0;32m     11\u001b[0m \u001b[1;33m\u001b[0m\u001b[0m\n\u001b[0;32m     12\u001b[0m \u001b[1;32mwhile\u001b[0m \u001b[0mresponse\u001b[0m\u001b[1;33m:\u001b[0m\u001b[1;33m\u001b[0m\u001b[1;33m\u001b[0m\u001b[0m\n",
      "\u001b[1;32mC:\\ProgramData\\Anaconda3\\lib\\site-packages\\googleapiclient\\_helpers.py\u001b[0m in \u001b[0;36mpositional_wrapper\u001b[1;34m(*args, **kwargs)\u001b[0m\n\u001b[0;32m    132\u001b[0m                 \u001b[1;32melif\u001b[0m \u001b[0mpositional_parameters_enforcement\u001b[0m \u001b[1;33m==\u001b[0m \u001b[0mPOSITIONAL_WARNING\u001b[0m\u001b[1;33m:\u001b[0m\u001b[1;33m\u001b[0m\u001b[1;33m\u001b[0m\u001b[0m\n\u001b[0;32m    133\u001b[0m                     \u001b[0mlogger\u001b[0m\u001b[1;33m.\u001b[0m\u001b[0mwarning\u001b[0m\u001b[1;33m(\u001b[0m\u001b[0mmessage\u001b[0m\u001b[1;33m)\u001b[0m\u001b[1;33m\u001b[0m\u001b[1;33m\u001b[0m\u001b[0m\n\u001b[1;32m--> 134\u001b[1;33m             \u001b[1;32mreturn\u001b[0m \u001b[0mwrapped\u001b[0m\u001b[1;33m(\u001b[0m\u001b[1;33m*\u001b[0m\u001b[0margs\u001b[0m\u001b[1;33m,\u001b[0m \u001b[1;33m**\u001b[0m\u001b[0mkwargs\u001b[0m\u001b[1;33m)\u001b[0m\u001b[1;33m\u001b[0m\u001b[1;33m\u001b[0m\u001b[0m\n\u001b[0m\u001b[0;32m    135\u001b[0m \u001b[1;33m\u001b[0m\u001b[0m\n\u001b[0;32m    136\u001b[0m         \u001b[1;32mreturn\u001b[0m \u001b[0mpositional_wrapper\u001b[0m\u001b[1;33m\u001b[0m\u001b[1;33m\u001b[0m\u001b[0m\n",
      "\u001b[1;32mC:\\ProgramData\\Anaconda3\\lib\\site-packages\\googleapiclient\\http.py\u001b[0m in \u001b[0;36mexecute\u001b[1;34m(self, http, num_retries)\u001b[0m\n\u001b[0;32m    933\u001b[0m             \u001b[0mcallback\u001b[0m\u001b[1;33m(\u001b[0m\u001b[0mresp\u001b[0m\u001b[1;33m)\u001b[0m\u001b[1;33m\u001b[0m\u001b[1;33m\u001b[0m\u001b[0m\n\u001b[0;32m    934\u001b[0m         \u001b[1;32mif\u001b[0m \u001b[0mresp\u001b[0m\u001b[1;33m.\u001b[0m\u001b[0mstatus\u001b[0m \u001b[1;33m>=\u001b[0m \u001b[1;36m300\u001b[0m\u001b[1;33m:\u001b[0m\u001b[1;33m\u001b[0m\u001b[1;33m\u001b[0m\u001b[0m\n\u001b[1;32m--> 935\u001b[1;33m             \u001b[1;32mraise\u001b[0m \u001b[0mHttpError\u001b[0m\u001b[1;33m(\u001b[0m\u001b[0mresp\u001b[0m\u001b[1;33m,\u001b[0m \u001b[0mcontent\u001b[0m\u001b[1;33m,\u001b[0m \u001b[0muri\u001b[0m\u001b[1;33m=\u001b[0m\u001b[0mself\u001b[0m\u001b[1;33m.\u001b[0m\u001b[0muri\u001b[0m\u001b[1;33m)\u001b[0m\u001b[1;33m\u001b[0m\u001b[1;33m\u001b[0m\u001b[0m\n\u001b[0m\u001b[0;32m    936\u001b[0m         \u001b[1;32mreturn\u001b[0m \u001b[0mself\u001b[0m\u001b[1;33m.\u001b[0m\u001b[0mpostproc\u001b[0m\u001b[1;33m(\u001b[0m\u001b[0mresp\u001b[0m\u001b[1;33m,\u001b[0m \u001b[0mcontent\u001b[0m\u001b[1;33m)\u001b[0m\u001b[1;33m\u001b[0m\u001b[1;33m\u001b[0m\u001b[0m\n\u001b[0;32m    937\u001b[0m \u001b[1;33m\u001b[0m\u001b[0m\n",
      "\u001b[1;31mHttpError\u001b[0m: <HttpError 400 when requesting https://youtube.googleapis.com/youtube/v3/commentThreads?part=snippet%2Creplies&videoId=%EC%B6%94%EC%B6%9C%ED%95%98%EA%B3%A0%EC%9E%90+%ED%95%98%EB%8A%94+%EB%8F%99%EC%98%81%EC%83%81%EC%9D%98+id&maxResults=100&key=%EB%B0%9C%EA%B8%89+%EB%B0%9B%EC%9D%80+API+%ED%82%A4&alt=json returned \"API key not valid. Please pass a valid API key.\". Details: \"[{'message': 'API key not valid. Please pass a valid API key.', 'domain': 'global', 'reason': 'badRequest'}]\">"
     ]
    }
   ],
   "source": [
    "import pandas\n",
    "from googleapiclient.discovery import build\n",
    " \n",
    " \n",
    "api_key = '발급 받은 API 키'\n",
    "video_id = '추출하고자 하는 동영상의 id'\n",
    " \n",
    "comments = list()\n",
    "api_obj = build('youtube', 'v3', developerKey=api_key)\n",
    "response = api_obj.commentThreads().list(part='snippet,replies', videoId=video_id, maxResults=100).execute()\n",
    " \n",
    "while response:\n",
    "    for item in response['items']:\n",
    "        comment = item['snippet']['topLevelComment']['snippet']\n",
    "        comments.append([comment['textDisplay'], comment['authorDisplayName'], comment['publishedAt'], comment['likeCount']])\n",
    " \n",
    "        if item['snippet']['totalReplyCount'] > 0:\n",
    "            for reply_item in item['replies']['comments']:\n",
    "                reply = reply_item['snippet']\n",
    "                comments.append([reply['textDisplay'], reply['authorDisplayName'], reply['publishedAt'], reply['likeCount']])\n",
    " \n",
    "    if 'nextPageToken' in response:\n",
    "        response = api_obj.commentThreads().list(part='snippet,replies', videoId=video_id, pageToken=response['nextPageToken'], maxResults=100).execute()\n",
    "    else:\n",
    "        break\n",
    " \n",
    "df = pandas.DataFrame(comments)\n",
    "df.to_excel('results.xlsx', header=['comment', 'author', 'date', 'num_likes'], index=None)\n"
   ]
  },
  {
   "cell_type": "code",
   "execution_count": 12,
   "metadata": {},
   "outputs": [
    {
     "name": "stdout",
     "output_type": "stream",
     "text": [
      "영상에서 추출하기를 희망하는 자막의 언어를 고르세요\n",
      "1 : 한국어\t2 : 영어\t3 : 스페인어\t4 :중국어\t5 : 일본어\n",
      "2\n",
      "영어 자막을 출력합니다\n",
      "\n",
      "1\n",
      "00:00:23,820 --> 00:00:27,353\n",
      "Cos ah ah I’m in the stars tonight\n",
      "\n",
      "2\n",
      "00:00:27,353 --> 00:00:32,696\n",
      "So watch me bring the fire and set the night alight\n",
      "\n",
      "3\n",
      "00:00:32,696 --> 00:00:36,819\n",
      "Shoes on get up in the morn Cup of milk let’s rock and roll\n",
      "\n",
      "4\n",
      "00:00:36,819 --> 00:00:41,117\n",
      "King Kong kick the drum rolling on like a rolling stone\n",
      "\n",
      "5\n",
      "00:00:41,117 --> 00:00:42,989\n",
      "Sing song when I’m walking home\n",
      "\n",
      "6\n",
      "00:00:42,989 --> 00:00:45,277\n",
      "Jump up to the top LeBron\n",
      "\n",
      "7\n",
      "00:00:45,277 --> 00:00:47,152\n",
      "Ding dong call me on my phone\n",
      "\n",
      "8\n",
      "00:00:47,152 --> 00:00:49,366\n",
      "Ice tea and a game of ping pong\n",
      "\n",
      "9\n",
      "00:00:49,366 --> 00:00:50,713\n",
      "This is getting heavy\n",
      "\n",
      "10\n",
      "00:00:50,713 --> 00:00:53,612\n",
      "Can you hear the bass boom, I’m ready\n",
      "\n",
      "11\n",
      "00:00:53,612 --> 00:00:54,870\n",
      "Life is sweet as honey\n",
      "\n",
      "12\n",
      "00:00:54,870 --> 00:00:57,685\n",
      "Yeah this beat cha ching like money\n",
      "\n",
      "13\n",
      "00:00:57,685 --> 00:01:01,433\n",
      "Disco overload I’m into that I’m good to go\n",
      "\n",
      "14\n",
      "00:01:01,433 --> 00:01:04,036\n",
      "I'm diamond you know I glow up\n",
      "\n",
      "15\n",
      "00:01:04,036 --> 00:01:05,803\n",
      "Hey, so let’s go\n",
      "\n",
      "16\n",
      "00:01:05,803 --> 00:01:09,639\n",
      "Cos ah ah I’m in the stars tonight\n",
      "\n",
      "17\n",
      "00:01:09,639 --> 00:01:14,695\n",
      "So watch me bring the fire and set the night alight\n",
      "\n",
      "18\n",
      "00:01:14,695 --> 00:01:18,136\n",
      "Shining through the city with a little funk and soul\n",
      "\n",
      "19\n",
      "00:01:18,136 --> 00:01:23,227\n",
      "So I’mma light it up like dynamite, woah\n",
      "\n",
      "20\n",
      "00:01:23,227 --> 00:01:25,145\n",
      "Bring a friend join the crowd\n",
      "\n",
      "21\n",
      "00:01:25,145 --> 00:01:27,441\n",
      "Whoever wanna come along\n",
      "\n",
      "22\n",
      "00:01:27,441 --> 00:01:31,648\n",
      "Word up talk the talk just move like we off the wall\n",
      "\n",
      "23\n",
      "00:01:31,648 --> 00:01:33,184\n",
      "Day or night the sky’s alight\n",
      "\n",
      "24\n",
      "00:01:33,184 --> 00:01:35,660\n",
      "So we dance to the break of dawn\n",
      "\n",
      "25\n",
      "00:01:35,660 --> 00:01:40,028\n",
      "Ladies and gentlemen, I got the medicine so you should keep ya eyes on the ball, huh\n",
      "\n",
      "26\n",
      "00:01:40,028 --> 00:01:41,227\n",
      "This is getting heavy\n",
      "\n",
      "27\n",
      "00:01:41,227 --> 00:01:44,142\n",
      "Can you hear the bass boom, I’m ready\n",
      "\n",
      "28\n",
      "00:01:44,142 --> 00:01:45,712\n",
      "Life is sweet as honey\n",
      "\n",
      "29\n",
      "00:01:45,712 --> 00:01:48,352\n",
      "Yeah this beat cha ching like money\n",
      "\n",
      "30\n",
      "00:01:48,352 --> 00:01:52,249\n",
      "Disco overload I’m into that I’m good to go\n",
      "\n",
      "31\n",
      "00:01:52,249 --> 00:01:55,286\n",
      "I'm diamond you know I glow up\n",
      "\n",
      "32\n",
      "00:01:55,286 --> 00:01:56,658\n",
      "Let’s go\n",
      "\n",
      "33\n",
      "00:01:56,658 --> 00:02:00,324\n",
      "Cos ah ah I’m in the stars tonight\n",
      "\n",
      "34\n",
      "00:02:00,324 --> 00:02:04,777\n",
      "So watch me bring the fire and set the night alight\n",
      "\n",
      "35\n",
      "00:02:04,777 --> 00:02:09,013\n",
      "Shining through the city with a little funk and soul\n",
      "\n",
      "36\n",
      "00:02:09,013 --> 00:02:13,304\n",
      "So I’mma light it up like dynamite, woah\n",
      "\n",
      "37\n",
      "00:02:13,304 --> 00:02:21,944\n",
      "Dynnnnnanana, life is dynamite\n",
      "\n",
      "38\n",
      "00:02:21,944 --> 00:02:25,305\n",
      "Shining through the city with a little funk and soul\n",
      "\n",
      "39\n",
      "00:02:25,305 --> 00:02:30,334\n",
      "So I’mma light it up like dynamite, woah\n",
      "\n",
      "40\n",
      "00:02:30,334 --> 00:02:36,717\n",
      "Dynnnnnanana eh\n",
      "\n",
      "41\n",
      "00:02:36,717 --> 00:02:39,028\n",
      "Light it up like dynamite\n",
      "\n",
      "42\n",
      "00:02:39,028 --> 00:02:45,315\n",
      "Dynnnnnanana eh\n",
      "\n",
      "43\n",
      "00:02:45,315 --> 00:02:46,930\n",
      "Light it up like dynamite\n",
      "\n",
      "44\n",
      "00:02:46,930 --> 00:02:50,484\n",
      "Cos ah ah I’m in the stars tonight\n",
      "\n",
      "45\n",
      "00:02:50,484 --> 00:02:55,449\n",
      "So watch me bring the fire and set the night alight\n",
      "\n",
      "46\n",
      "00:02:55,449 --> 00:02:59,460\n",
      "Shining through the city with a little funk and soul\n",
      "\n",
      "47\n",
      "00:02:59,460 --> 00:03:04,371\n",
      "So I’mma light it up like dynamite\n",
      "\n",
      "48\n",
      "00:03:04,371 --> 00:03:07,563\n",
      "Cos ah ah I’m in the stars tonight\n",
      "\n",
      "49\n",
      "00:03:07,563 --> 00:03:12,243\n",
      "So watch me bring the fire and set the night alight\n",
      "\n",
      "50\n",
      "00:03:12,243 --> 00:03:16,050\n",
      "Shining through the city with a little funk and soul\n",
      "\n",
      "51\n",
      "00:03:16,050 --> 00:03:20,867\n",
      "So I’mma light it up like dynamite, woah\n",
      "\n",
      "52\n",
      "00:03:20,867 --> 00:03:29,278\n",
      "Dynnnnnanana, life is dynamite\n",
      "\n",
      "53\n",
      "00:03:29,278 --> 00:03:33,189\n",
      "Shining through the city with a little funk and soul\n",
      "\n",
      "54\n",
      "00:03:33,189 --> 00:03:38,315\n",
      "So I’mma light it up like dynamite, woah\n"
     ]
    }
   ],
   "source": [
    "# 과제 1 : 영어, 일본어, 중국어, 스페인어. 각각의 언어로 된 영상을 찾고, 해당 영상의 자막 추출해서 노션에 작성\n",
    "\n",
    "from pytube import YouTube\n",
    "yt = YouTube(\"https://www.youtube.com/watch?v=gdZLi9oWNZg\")\n",
    "# print(yt.captions)\n",
    "\n",
    "# 한국어 자막을 가져옴\n",
    "# caption = yt.captions.get_by_language_code(\"ko\")   # deprecated. 비추천함. 다른 형식으로 사용해야함. 해당형식으로 사용시 오류발생\n",
    "caption = yt.captions['ko']\n",
    "# print(caption.generate_srt_captions())\n",
    "\n",
    "\n",
    "from pytube import YouTube\n",
    "yt = YouTube(\"https://www.youtube.com/watch?v=gdZLi9oWNZg\")\n",
    "\n",
    "print(\"영상에서 추출하기를 희망하는 자막의 언어를 고르세요\")\n",
    "print(\"1 : 한국어\\t2 : 영어\\t3 : 스페인어\\t4 :중국어\\t5 : 일본어\")\n",
    "select = int(input())\n",
    "\n",
    "if select == 1:\n",
    "    cap_lang = \"한국어\"\n",
    "    catption = yt.captions['ko']\n",
    "elif select == 2:\n",
    "    cap_lang = \"영어\"\n",
    "    caption = yt.captions['en']\n",
    "elif select == 3:\n",
    "    cap_lang = \"스페인어\"\n",
    "    caption = yt.captions['es']\n",
    "elif select == 4:\n",
    "    cap_lang = \"중국어\"\n",
    "    caption = yt.captions['zh']\n",
    "else:\n",
    "    cap_lang = \"일본어\"\n",
    "    caption = yt.captions['ja']\n",
    "    \n",
    "print(f\"{cap_lang} 자막을 출력합니다\\n\")\n",
    "print(caption.generate_srt_captions())"
   ]
  },
  {
   "cell_type": "code",
   "execution_count": 27,
   "metadata": {},
   "outputs": [
    {
     "name": "stdout",
     "output_type": "stream",
     "text": [
      "영상에서 편집할 부분의 번호를 입력해주세요\n",
      "1번 : 이... 이름이\n",
      "2번 : 오프닝\n",
      "3번 : AirTag\n",
      "4번 : iMac with M1\n",
      "5번 : iPad Pro 5th\n",
      "6번 : 이번 이벤트의 소감은?\n",
      "5\n",
      "편집할 영상을 선택해주세요.\n",
      "1 번 : 42.mp4\n",
      "2 번 : 5.mp4\n",
      "3 번 : 545.mp4\n",
      "4 번 : 애플이 이럴리가 없는데 믿기지않는 혜자 구성 새로운 아이패드 프로 5세대 아이맥 M1 에어태그 발표 총정리!.mp4\n",
      "\n",
      "번호를 입력해주세요. 4\n",
      "\n",
      "애플이 이럴리가 없는데 믿기지않는 혜자 구성 새로운 아이패드 프로 5세대 아이맥 M1 에어태그 발표 총정리!.mp4 를 선택하셨습니다.\n",
      "영상을 편집합니다. \n",
      "\n",
      "확장자를 제외하고 편집한 영상의 저장할 이름을 적어주세요.\n",
      "33\n"
     ]
    },
    {
     "name": "stderr",
     "output_type": "stream",
     "text": [
      "                                                                                                                       \n",
      "\n",
      "chunk: 100%|█████████████████████████████████████████████████████████████████| 1/1 [21:06<00:00, 1266.41s/it, now=None]\n",
      "\n",
      "                                                                                                                       \u001b[A\u001b[A\n",
      "\n",
      "chunk: 100%|█████████████████████████████████████████████████████████████████| 1/1 [21:06<00:00, 1266.41s/it, now=None]\n",
      "\n",
      "chunk: 100%|█████████████████████████████████████████████████████████████████| 1/1 [21:54<00:00, 1314.51s/it, now=None]\u001b[A\u001b[A\n",
      "chunk:   0%|                                                                        | 0/5734 [00:00<?, ?it/s, now=None]\u001b[A"
     ]
    },
    {
     "name": "stdout",
     "output_type": "stream",
     "text": [
      "Moviepy - Building video E:/과제2/잇섭영상/33.mp4.\n",
      "MoviePy - Writing audio in 33TEMP_MPY_wvf_snd.mp3\n"
     ]
    },
    {
     "name": "stderr",
     "output_type": "stream",
     "text": [
      "\n",
      "chunk:   0%|                                                                | 2/5734 [00:00<16:45,  5.70it/s, now=None]\u001b[A\n",
      "chunk:   3%|█▋                                                            | 154/5734 [00:00<11:26,  8.13it/s, now=None]\u001b[A\n",
      "chunk:   6%|███▊                                                          | 358/5734 [00:00<07:43, 11.60it/s, now=None]\u001b[A\n",
      "chunk:   9%|█████▋                                                        | 529/5734 [00:00<05:15, 16.52it/s, now=None]\u001b[A\n",
      "chunk:  13%|███████▊                                                      | 720/5734 [00:00<03:33, 23.51it/s, now=None]\u001b[A\n",
      "chunk:  15%|█████████▌                                                    | 885/5734 [00:00<02:25, 33.38it/s, now=None]\u001b[A\n",
      "chunk:  18%|███████████▏                                                 | 1046/5734 [00:00<01:39, 47.26it/s, now=None]\u001b[A\n",
      "chunk:  21%|█████████████                                                | 1225/5734 [00:01<01:07, 66.70it/s, now=None]\u001b[A\n",
      "chunk:  24%|██████████████▉                                              | 1401/5734 [00:01<00:46, 93.76it/s, now=None]\u001b[A\n",
      "chunk:  28%|████████████████▋                                           | 1594/5734 [00:01<00:31, 131.21it/s, now=None]\u001b[A\n",
      "chunk:  31%|██████████████████▋                                         | 1788/5734 [00:01<00:21, 182.15it/s, now=None]\u001b[A\n",
      "chunk:  34%|████████████████████▌                                       | 1969/5734 [00:01<00:15, 249.39it/s, now=None]\u001b[A\n",
      "chunk:  38%|██████████████████████▌                                     | 2159/5734 [00:01<00:10, 337.15it/s, now=None]\u001b[A\n",
      "chunk:  42%|█████████████████████████                                   | 2398/5734 [00:01<00:07, 453.38it/s, now=None]\u001b[A\n",
      "chunk:  45%|███████████████████████████▏                                | 2602/5734 [00:01<00:05, 590.86it/s, now=None]\u001b[A\n",
      "chunk:  49%|█████████████████████████████▎                              | 2803/5734 [00:01<00:03, 747.06it/s, now=None]\u001b[A\n",
      "chunk:  52%|███████████████████████████████▍                            | 3001/5734 [00:01<00:02, 912.09it/s, now=None]\u001b[A\n",
      "chunk:  56%|████████████████████████████████▉                          | 3198/5734 [00:02<00:02, 1081.70it/s, now=None]\u001b[A\n",
      "chunk:  59%|███████████████████████████████████                        | 3411/5734 [00:02<00:01, 1267.51it/s, now=None]\u001b[A\n",
      "chunk:  63%|█████████████████████████████████████▏                     | 3610/5734 [00:02<00:01, 1367.70it/s, now=None]\u001b[A\n",
      "chunk:  66%|███████████████████████████████████████                    | 3800/5734 [00:02<00:01, 1445.15it/s, now=None]\u001b[A\n",
      "chunk:  69%|████████████████████████████████████████▉                  | 3983/5734 [00:02<00:01, 1504.05it/s, now=None]\u001b[A\n",
      "chunk:  73%|███████████████████████████████████████████                | 4183/5734 [00:02<00:00, 1620.62it/s, now=None]\u001b[A\n",
      "chunk:  77%|█████████████████████████████████████████████▏             | 4394/5734 [00:02<00:00, 1741.42it/s, now=None]\u001b[A\n",
      "chunk:  80%|███████████████████████████████████████████████▏           | 4586/5734 [00:02<00:00, 1709.55it/s, now=None]\u001b[A\n",
      "chunk:  83%|█████████████████████████████████████████████████          | 4771/5734 [00:02<00:00, 1700.67it/s, now=None]\u001b[A\n",
      "chunk:  87%|███████████████████████████████████████████████████▎       | 4992/5734 [00:03<00:00, 1824.01it/s, now=None]\u001b[A\n",
      "chunk:  90%|█████████████████████████████████████████████████████▎     | 5186/5734 [00:03<00:00, 1856.84it/s, now=None]\u001b[A\n",
      "chunk:  94%|███████████████████████████████████████████████████████▎   | 5378/5734 [00:03<00:00, 1800.92it/s, now=None]\u001b[A\n",
      "chunk:  97%|█████████████████████████████████████████████████████████▍ | 5581/5734 [00:03<00:00, 1860.96it/s, now=None]\u001b[A\n",
      "                                                                                                                       \u001b[A\n",
      "\n",
      "chunk: 100%|█████████████████████████████████████████████████████████████████| 1/1 [21:09<00:00, 1269.89s/it, now=None]\n",
      "\n",
      "                                                                                                                       \u001b[A\u001b[A\n",
      "\n",
      "chunk: 100%|█████████████████████████████████████████████████████████████████| 1/1 [21:09<00:00, 1269.89s/it, now=None]\n",
      "\n",
      "chunk: 100%|█████████████████████████████████████████████████████████████████| 1/1 [21:57<00:00, 1317.99s/it, now=None]\u001b[A\u001b[A\n",
      "t:   0%|                                                                            | 0/7793 [00:00<?, ?it/s, now=None]\u001b[A"
     ]
    },
    {
     "name": "stdout",
     "output_type": "stream",
     "text": [
      "MoviePy - Done.\n",
      "Moviepy - Writing video E:/과제2/잇섭영상/33.mp4\n",
      "\n"
     ]
    },
    {
     "name": "stderr",
     "output_type": "stream",
     "text": [
      "\n",
      "t:   0%|                                                                    | 2/7793 [00:00<21:05,  6.16it/s, now=None]\u001b[A\n",
      "t:   1%|▌                                                                  | 63/7793 [00:00<14:42,  8.76it/s, now=None]\u001b[A\n",
      "t:   2%|█                                                                 | 119/7793 [00:00<10:17, 12.43it/s, now=None]\u001b[A\n",
      "t:   2%|█▌                                                                | 181/7793 [00:00<07:12, 17.60it/s, now=None]\u001b[A\n",
      "t:   3%|██                                                                | 240/7793 [00:00<05:04, 24.82it/s, now=None]\u001b[A\n",
      "t:   4%|██▍                                                               | 288/7793 [00:00<03:36, 34.69it/s, now=None]\u001b[A\n",
      "t:   5%|██▉                                                               | 352/7793 [00:00<02:33, 48.43it/s, now=None]\u001b[A\n",
      "t:   6%|███▊                                                              | 451/7793 [00:01<01:48, 67.76it/s, now=None]\u001b[A\n",
      "t:   7%|████▌                                                             | 538/7793 [00:01<01:17, 93.59it/s, now=None]\u001b[A\n",
      "t:   8%|█████                                                            | 610/7793 [00:01<00:57, 125.44it/s, now=None]\u001b[A\n",
      "t:   9%|█████▋                                                           | 679/7793 [00:01<00:43, 164.65it/s, now=None]\u001b[A\n",
      "t:  10%|██████▎                                                          | 756/7793 [00:01<00:32, 215.45it/s, now=None]\u001b[A\n",
      "t:  11%|███████▏                                                         | 861/7793 [00:01<00:24, 282.89it/s, now=None]\u001b[A\n",
      "t:  12%|███████▊                                                         | 941/7793 [00:01<00:19, 347.24it/s, now=None]\u001b[A\n",
      "t:  13%|████████▍                                                       | 1020/7793 [00:01<00:17, 391.93it/s, now=None]\u001b[A\n",
      "t:  14%|████████▉                                                       | 1092/7793 [00:01<00:14, 451.68it/s, now=None]\u001b[A\n",
      "t:  15%|█████████▋                                                      | 1176/7793 [00:02<00:12, 522.60it/s, now=None]\u001b[A\n",
      "t:  16%|██████████▍                                                     | 1265/7793 [00:02<00:10, 596.36it/s, now=None]\u001b[A\n",
      "t:  17%|███████████                                                     | 1344/7793 [00:02<00:10, 588.81it/s, now=None]\u001b[A\n",
      "t:  18%|███████████▋                                                    | 1417/7793 [00:02<00:10, 582.89it/s, now=None]\u001b[A\n",
      "t:  19%|████████████▎                                                   | 1500/7793 [00:02<00:09, 639.92it/s, now=None]\u001b[A\n",
      "t:  20%|█████████████                                                   | 1589/7793 [00:02<00:08, 698.68it/s, now=None]\u001b[A\n",
      "t:  21%|█████████████▋                                                  | 1667/7793 [00:02<00:08, 715.67it/s, now=None]\u001b[A\n",
      "t:  23%|██████████████▍                                                 | 1754/7793 [00:02<00:08, 754.34it/s, now=None]\u001b[A\n",
      "t:  24%|███████████████▏                                                | 1845/7793 [00:02<00:07, 794.93it/s, now=None]\u001b[A\n",
      "t:  25%|███████████████▉                                                | 1943/7793 [00:02<00:06, 840.67it/s, now=None]\u001b[A\n",
      "t:  26%|████████████████▋                                               | 2039/7793 [00:03<00:06, 870.64it/s, now=None]\u001b[A\n",
      "t:  27%|█████████████████▍                                              | 2129/7793 [00:03<00:06, 873.88it/s, now=None]\u001b[A\n",
      "t:  28%|██████████████████▏                                             | 2219/7793 [00:03<00:06, 839.36it/s, now=None]\u001b[A\n",
      "t:  30%|██████████████████▉                                             | 2305/7793 [00:03<00:06, 843.04it/s, now=None]\u001b[A\n",
      "t:  31%|███████████████████▋                                            | 2391/7793 [00:03<00:06, 809.49it/s, now=None]\u001b[A\n",
      "t:  32%|████████████████████▎                                           | 2479/7793 [00:03<00:06, 829.22it/s, now=None]\u001b[A\n",
      "t:  33%|█████████████████████                                           | 2563/7793 [00:03<00:07, 732.45it/s, now=None]\u001b[A\n",
      "t:  34%|█████████████████████▋                                          | 2642/7793 [00:03<00:06, 748.76it/s, now=None]\u001b[A\n",
      "t:  35%|██████████████████████▎                                         | 2719/7793 [00:03<00:06, 754.80it/s, now=None]\u001b[A\n",
      "t:  36%|██████████████████████▉                                         | 2796/7793 [00:04<00:07, 690.51it/s, now=None]\u001b[A\n",
      "t:  37%|███████████████████████▌                                        | 2868/7793 [00:04<00:07, 677.20it/s, now=None]\u001b[A\n",
      "t:  38%|████████████████████████▎                                       | 2964/7793 [00:04<00:06, 742.69it/s, now=None]\u001b[A\n",
      "t:  39%|█████████████████████████▏                                      | 3062/7793 [00:04<00:05, 800.69it/s, now=None]\u001b[A\n",
      "t:  40%|█████████████████████████▉                                      | 3153/7793 [00:04<00:05, 830.42it/s, now=None]\u001b[A\n",
      "t:  42%|██████████████████████████▌                                     | 3239/7793 [00:04<00:05, 795.46it/s, now=None]\u001b[A\n",
      "t:  43%|███████████████████████████▎                                    | 3321/7793 [00:04<00:05, 772.93it/s, now=None]\u001b[A\n",
      "t:  44%|███████████████████████████▉                                    | 3400/7793 [00:04<00:05, 734.35it/s, now=None]\u001b[A\n",
      "t:  45%|████████████████████████████▌                                   | 3475/7793 [00:04<00:06, 709.40it/s, now=None]\u001b[A\n",
      "t:  46%|█████████████████████████████▏                                  | 3555/7793 [00:05<00:05, 732.98it/s, now=None]\u001b[A\n",
      "t:  47%|█████████████████████████████▉                                  | 3647/7793 [00:05<00:05, 779.27it/s, now=None]\u001b[A\n",
      "t:  48%|██████████████████████████████▋                                 | 3735/7793 [00:05<00:05, 806.78it/s, now=None]\u001b[A\n",
      "t:  49%|███████████████████████████████▎                                | 3818/7793 [00:05<00:04, 801.60it/s, now=None]\u001b[A\n",
      "t:  50%|████████████████████████████████                                | 3906/7793 [00:05<00:04, 805.30it/s, now=None]\u001b[A\n",
      "t:  51%|████████████████████████████████▊                               | 3991/7793 [00:05<00:04, 817.99it/s, now=None]\u001b[A\n",
      "t:  52%|█████████████████████████████████▌                              | 4086/7793 [00:05<00:04, 851.52it/s, now=None]\u001b[A\n",
      "t:  54%|██████████████████████████████████▍                             | 4187/7793 [00:05<00:04, 893.51it/s, now=None]\u001b[A\n",
      "t:  55%|███████████████████████████████████▏                            | 4282/7793 [00:05<00:03, 909.50it/s, now=None]\u001b[A\n",
      "t:  56%|███████████████████████████████████▉                            | 4374/7793 [00:06<00:04, 824.04it/s, now=None]\u001b[A\n",
      "t:  57%|████████████████████████████████████▋                           | 4460/7793 [00:06<00:03, 834.29it/s, now=None]\u001b[A\n",
      "t:  58%|█████████████████████████████████████▎                          | 4545/7793 [00:06<00:03, 812.23it/s, now=None]\u001b[A\n",
      "t:  59%|██████████████████████████████████████                          | 4636/7793 [00:06<00:03, 839.10it/s, now=None]\u001b[A\n",
      "t:  61%|██████████████████████████████████████▊                         | 4729/7793 [00:06<00:03, 864.23it/s, now=None]\u001b[A\n",
      "t:  62%|███████████████████████████████████████▌                        | 4817/7793 [00:06<00:03, 835.43it/s, now=None]\u001b[A\n",
      "t:  63%|████████████████████████████████████████▎                       | 4916/7793 [00:06<00:03, 876.27it/s, now=None]\u001b[A\n",
      "t:  64%|█████████████████████████████████████████▏                      | 5013/7793 [00:06<00:03, 900.03it/s, now=None]\u001b[A\n",
      "t:  66%|█████████████████████████████████████████▉                      | 5112/7793 [00:06<00:02, 925.02it/s, now=None]\u001b[A\n",
      "t:  67%|██████████████████████████████████████████▊                     | 5206/7793 [00:06<00:02, 929.21it/s, now=None]\u001b[A\n",
      "t:  68%|███████████████████████████████████████████▌                    | 5300/7793 [00:07<00:02, 863.91it/s, now=None]\u001b[A\n",
      "t:  69%|████████████████████████████████████████████▏                   | 5388/7793 [00:07<00:02, 829.13it/s, now=None]\u001b[A\n",
      "t:  70%|████████████████████████████████████████████▉                   | 5477/7793 [00:07<00:02, 846.28it/s, now=None]\u001b[A\n"
     ]
    },
    {
     "name": "stderr",
     "output_type": "stream",
     "text": [
      "t:  71%|█████████████████████████████████████████████▋                  | 5568/7793 [00:07<00:02, 856.88it/s, now=None]\u001b[A\n",
      "t:  73%|██████████████████████████████████████████████▍                 | 5656/7793 [00:07<00:02, 863.45it/s, now=None]\u001b[A\n",
      "t:  74%|███████████████████████████████████████████████▏                | 5743/7793 [00:07<00:02, 852.15it/s, now=None]\u001b[A\n",
      "t:  75%|███████████████████████████████████████████████▉                | 5833/7793 [00:07<00:02, 863.53it/s, now=None]\u001b[A\n",
      "t:  76%|████████████████████████████████████████████████▋               | 5923/7793 [00:07<00:02, 874.05it/s, now=None]\u001b[A\n",
      "t:  77%|█████████████████████████████████████████████████▎              | 6011/7793 [00:07<00:02, 790.56it/s, now=None]\u001b[A\n",
      "t:  78%|██████████████████████████████████████████████████              | 6092/7793 [00:08<00:02, 771.05it/s, now=None]\u001b[A\n",
      "t:  79%|██████████████████████████████████████████████████▋             | 6171/7793 [00:08<00:02, 661.29it/s, now=None]\u001b[A\n",
      "t:  80%|███████████████████████████████████████████████████▍            | 6265/7793 [00:08<00:02, 724.84it/s, now=None]\u001b[A\n",
      "t:  82%|████████████████████████████████████████████████████▎           | 6364/7793 [00:08<00:01, 788.00it/s, now=None]\u001b[A\n",
      "t:  83%|█████████████████████████████████████████████████████           | 6457/7793 [00:08<00:01, 825.63it/s, now=None]\u001b[A\n",
      "t:  84%|█████████████████████████████████████████████████████▊          | 6549/7793 [00:08<00:01, 849.27it/s, now=None]\u001b[A\n",
      "t:  85%|██████████████████████████████████████████████████████▌         | 6637/7793 [00:08<00:01, 788.88it/s, now=None]\u001b[A\n",
      "t:  86%|███████████████████████████████████████████████████████▏        | 6719/7793 [00:08<00:01, 739.87it/s, now=None]\u001b[A\n",
      "t:  87%|███████████████████████████████████████████████████████▊        | 6796/7793 [00:08<00:01, 737.58it/s, now=None]\u001b[A\n",
      "t:  88%|████████████████████████████████████████████████████████▌       | 6892/7793 [00:09<00:01, 791.26it/s, now=None]\u001b[A\n",
      "t:  90%|█████████████████████████████████████████████████████████▍      | 6996/7793 [00:09<00:00, 852.24it/s, now=None]\u001b[A\n",
      "t:  91%|██████████████████████████████████████████████████████████▏     | 7085/7793 [00:09<00:00, 804.45it/s, now=None]\u001b[A\n",
      "t:  92%|██████████████████████████████████████████████████████████▉     | 7169/7793 [00:09<00:00, 810.12it/s, now=None]\u001b[A\n",
      "t:  93%|███████████████████████████████████████████████████████████▌    | 7256/7793 [00:09<00:00, 824.96it/s, now=None]\u001b[A\n",
      "t:  94%|████████████████████████████████████████████████████████████▎   | 7341/7793 [00:09<00:00, 827.23it/s, now=None]\u001b[A\n",
      "t:  95%|█████████████████████████████████████████████████████████████   | 7432/7793 [00:09<00:00, 850.21it/s, now=None]\u001b[A\n",
      "t:  96%|█████████████████████████████████████████████████████████████▋  | 7518/7793 [00:09<00:00, 800.76it/s, now=None]\u001b[A\n",
      "t:  98%|██████████████████████████████████████████████████████████████▍ | 7600/7793 [00:09<00:00, 774.28it/s, now=None]\u001b[A\n",
      "t:  99%|███████████████████████████████████████████████████████████████▎| 7702/7793 [00:10<00:00, 834.04it/s, now=None]\u001b[A\n",
      "                                                                                                                       \u001b[A\n",
      "\n",
      "chunk: 100%|█████████████████████████████████████████████████████████████████| 1/1 [21:20<00:00, 1280.11s/it, now=None]\n",
      "\n",
      "                                                                                                                       \u001b[A\u001b[A\n",
      "\n",
      "chunk: 100%|█████████████████████████████████████████████████████████████████| 1/1 [21:20<00:00, 1280.11s/it, now=None]\n",
      "\n",
      "chunk: 100%|█████████████████████████████████████████████████████████████████| 1/1 [22:08<00:00, 1328.21s/it, now=None]\u001b[A\u001b[A"
     ]
    },
    {
     "name": "stdout",
     "output_type": "stream",
     "text": [
      "Moviepy - Done !\n",
      "Moviepy - video ready E:/과제2/잇섭영상/33.mp4\n"
     ]
    }
   ],
   "source": [
    "# 과제 2 : 잇섭 아이패드 영상에서 더보기의 timestemp영역 부분끼리 영상 나누기.\n",
    "# https://www.youtube.com/watch?v=MssCLewODGc&t=1s\n",
    "\n",
    "# Timestamp.\n",
    "# 00:00​ 이... 이름이\n",
    "# 00:13​ 오프닝\n",
    "# 00:44​ AirTag\n",
    "# 03:14​ iMac with M1\n",
    "# 07:18​ iPad Pro 5th\n",
    "# 11:38​ 이번 이벤트의 소감은?\n",
    "\n",
    "\n",
    "from pytube import YouTube\n",
    "import os\n",
    "from moviepy.editor import *\n",
    "\n",
    "# UserName = os.path.expanduser(\"~\")  # 사용자의 홈 디렉토리 경로\n",
    "UserName = \"과제2\"\n",
    "folderName = \"잇섭영상\"\n",
    "folderPath = f\"E:/{UserName}/{folderName}\" \n",
    "\n",
    "\n",
    "if not os.path.isdir(folderPath): \n",
    "    os.makedirs(folderPath)\n",
    "\n",
    "    \n",
    "_directory = os.listdir(folderPath)\n",
    "# print(_diriectory)\n",
    "\n",
    "yt = YouTube(\"https://www.youtube.com/watch?v=MssCLewODGc\")\n",
    "YouTube('https://youtu.be/MssCLewODGc').streams.first().download(folderPath)\n",
    "\n",
    "# 영상의 타입스템프 -----------------------------------------\n",
    "ts = [\"00:00\", \"00:13\", \"00:44\", \"03:14\", \"07:18\", \"11:38\", \"12:38\"]\n",
    "ts_name = [\"이... 이름이\", \"오프닝\", \"AirTag\", \"iMac with M1\", \"iPad Pro 5th\", \"이번 이벤트의 소감은?\"]\n",
    "\n",
    "print(\"영상에서 편집할 부분의 번호를 입력해주세요\")\n",
    "\n",
    "for i in range(len(ts_name)):\n",
    "    print(f\"{i+1}번 : {ts_name[i]}\")\n",
    "\n",
    "# 선택한 시간. 분:초\n",
    "select_idx = int(input())-1\n",
    "time_start = ts[select_idx].split(\":\")\n",
    "time_end = ts[select_idx+1].split(\":\")\n",
    "# print(select_idx)\n",
    "# print(time_start)\n",
    "# print(time_end)\n",
    "\n",
    "# 선택한 시간을 초로 환산\n",
    "sec_start = int(time_start[0])*60 + int(time_start[1])\n",
    "sec_end = int(time_end[0])*60 + int(time_end[1])\n",
    "# print(sec_start)\n",
    "# print(sec_end)\n",
    "\n",
    "\n",
    "\n",
    "\n",
    "# 편집할 영상 선택 --------------------------------------\n",
    "print(\"편집할 영상을 선택해주세요.\")\n",
    "\n",
    "# 선택한 디랙토리 내의 파일 목록\n",
    "_directory = os.listdir(folderPath)\n",
    "for i in range(len(_directory)) :\n",
    "    print(f\"{i+1} 번 : {_directory[i]}\")\n",
    "\n",
    "# 디렉토리에서 편집할 파일 선택하기\n",
    "while True : \n",
    "    try : \n",
    "        select = int(input(\"\\n번호를 입력해주세요. \"))-1\n",
    "        if (0 <= select and select < len(_directory)) :\n",
    "            print(f\"\\n{_directory[i]} 를 선택하셨습니다.\");break\n",
    "        else : print(f\"1~{len(_directory)} 사이 번호를 입력해주세요.\")\n",
    "    except :\n",
    "        print(f\"1~{len(_directory)} 사이 번호를 입력해주세요.\")\n",
    "        \n",
    "selected_file = f\"{folderPath}/{_directory[select]}\"\n",
    "\n",
    "\n",
    "\n",
    "\n",
    "# 영상 자르기 ----------------------------------------------\n",
    "print(\"영상을 편집합니다\")\n",
    "m_name = input(\"확장자를 제외하고 편집한 영상의 저장할 이름을 적어주세요 : \\n\")\n",
    "\n",
    "# 다운로드 된 파일에서 특정 구간 추출 및 저장\n",
    "videoclip = VideoFileClip(selected_file)\n",
    "videoclip = videoclip.subclip(sec_start,sec_end)\n",
    "\n",
    "videoclip.write_videofile(f\"{folderPath}/{m_name}.mp4\")\n",
    "\n",
    "# 폴더 열기\n",
    "os.startfile(folderPath)"
   ]
  },
  {
   "cell_type": "code",
   "execution_count": 48,
   "metadata": {},
   "outputs": [
    {
     "data": {
      "text/plain": [
       "['00', '13']"
      ]
     },
     "execution_count": 48,
     "metadata": {},
     "output_type": "execute_result"
    }
   ],
   "source": []
  }
 ],
 "metadata": {
  "kernelspec": {
   "display_name": "Python 3",
   "language": "python",
   "name": "python3"
  },
  "language_info": {
   "codemirror_mode": {
    "name": "ipython",
    "version": 3
   },
   "file_extension": ".py",
   "mimetype": "text/x-python",
   "name": "python",
   "nbconvert_exporter": "python",
   "pygments_lexer": "ipython3",
   "version": "3.8.5"
  }
 },
 "nbformat": 4,
 "nbformat_minor": 4
}
