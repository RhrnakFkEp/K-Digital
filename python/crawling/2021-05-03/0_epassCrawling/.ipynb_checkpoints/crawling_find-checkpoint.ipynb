{
 "cells": [
  {
   "cell_type": "code",
   "execution_count": null,
   "metadata": {},
   "outputs": [],
   "source": [
    "# !pip install bs4\n",
    "# 아나콘다 내장함수라 굳이 설치 안해도됨"
   ]
  },
  {
   "cell_type": "code",
   "execution_count": 1,
   "metadata": {},
   "outputs": [],
   "source": [
    "#insert cell above\n",
    "from bs4 import BeautifulSoup\n",
    "# 아나콘다의 내장함수 설치 안해도 됨.\n",
    "# bs4로부터 BeautifulSoup를 불러옴"
   ]
  },
  {
   "cell_type": "code",
   "execution_count": 3,
   "metadata": {},
   "outputs": [],
   "source": [
    "html = \"\"\"\n",
    "<html>\n",
    "    <body>\n",
    "        <h1 id = \"title\">크롤링이란?</h1>\n",
    "        <p id = \"body\">웹 페이지의 정보를 가져오는 것</p>\n",
    "        <p>원하는 부분을 추출하는 것</p>\n",
    "    </body>\n",
    "</html>\n",
    "\n",
    "\"\"\""
   ]
  },
  {
   "cell_type": "code",
   "execution_count": 5,
   "metadata": {},
   "outputs": [],
   "source": [
    "soup = BeautifulSoup(html, 'html.parser')  \n",
    "# 일반변호사. 더빠른게 존재. 번역기의 역할."
   ]
  },
  {
   "cell_type": "code",
   "execution_count": 6,
   "metadata": {},
   "outputs": [],
   "source": [
    "title = soup.find(id = \"title\")  \n",
    "# 원하는 요소 찾기\n",
    "# id가 title인 요소 찾음"
   ]
  },
  {
   "cell_type": "code",
   "execution_count": 7,
   "metadata": {},
   "outputs": [
    {
     "name": "stdout",
     "output_type": "stream",
     "text": [
      "<h1 id=\"title\">크롤링이란?</h1>\n"
     ]
    }
   ],
   "source": [
    "print(title)  # 태그가 가져와짐."
   ]
  },
  {
   "cell_type": "code",
   "execution_count": 9,
   "metadata": {},
   "outputs": [
    {
     "name": "stdout",
     "output_type": "stream",
     "text": [
      "크롤링이란?\n"
     ]
    }
   ],
   "source": [
    "print(title.string)  \n",
    "# 태그는 사라지고, 태그 사이에 끼어있던 문자열만 가져와짐.\n",
    "\n",
    "# title.string\n",
    "# title.text\n",
    "# title.get_text()\n",
    "# 셋 다 같은 역할."
   ]
  },
  {
   "cell_type": "code",
   "execution_count": 13,
   "metadata": {},
   "outputs": [
    {
     "name": "stdout",
     "output_type": "stream",
     "text": [
      "<p id=\"body\">웹 페이지의 정보를 가져오는 것</p>\n"
     ]
    }
   ],
   "source": [
    "body = soup.find(id = \"body\")\n",
    "print(body)"
   ]
  },
  {
   "cell_type": "code",
   "execution_count": 14,
   "metadata": {},
   "outputs": [
    {
     "name": "stdout",
     "output_type": "stream",
     "text": [
      "웹 페이지의 정보를 가져오는 것\n",
      "웹 페이지의 정보를 가져오는 것\n",
      "웹 페이지의 정보를 가져오는 것\n"
     ]
    }
   ],
   "source": [
    "print(body.string)\n",
    "print(body.text)\n",
    "print(body.get_text())"
   ]
  },
  {
   "cell_type": "code",
   "execution_count": null,
   "metadata": {},
   "outputs": [],
   "source": []
  }
 ],
 "metadata": {
  "kernelspec": {
   "display_name": "Python 3",
   "language": "python",
   "name": "python3"
  },
  "language_info": {
   "codemirror_mode": {
    "name": "ipython",
    "version": 3
   },
   "file_extension": ".py",
   "mimetype": "text/x-python",
   "name": "python",
   "nbconvert_exporter": "python",
   "pygments_lexer": "ipython3",
   "version": "3.8.5"
  }
 },
 "nbformat": 4,
 "nbformat_minor": 4
}
