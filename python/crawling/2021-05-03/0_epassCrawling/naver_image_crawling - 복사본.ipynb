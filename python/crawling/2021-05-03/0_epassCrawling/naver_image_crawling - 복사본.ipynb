{
 "cells": [
  {
   "cell_type": "code",
   "execution_count": null,
   "metadata": {},
   "outputs": [],
   "source": [
    "'''\n",
    "작성일자 : 2020-04-30\n",
    "작성자 : 이예희\n",
    "작성내용 :\n",
    "- 네이버 이미지 크롤링\n",
    "# 12교시 다시보기\n",
    "'''"
   ]
  },
  {
   "cell_type": "code",
   "execution_count": 14,
   "metadata": {},
   "outputs": [],
   "source": [
    "# import\n",
    "import time\n",
    "from selenium import webdriver\n",
    "from bs4 import BeautifulSoup\n",
    "from tqdm import tqdm\n",
    "import os\n",
    "# 진행바. progressBar. (무언가를 로딩할 때, 사용하는 것)"
   ]
  },
  {
   "cell_type": "code",
   "execution_count": 2,
   "metadata": {},
   "outputs": [],
   "source": [
    "# 기본 문법\n",
    "driver = webdriver.Chrome(\"./chromedriver\")\n",
    "\n",
    "# 페이지 열릴 때마다 딜레이 시켜줌\n",
    "# 명시적으로 3초를 기다림\n",
    "# 인터넷 속도(네트워크 상태)가 빠르면, 딜레이가 줄어듦\n",
    "# 무언가 정보가 들어오면 wait을 그만둔단것.\n",
    "driver.implicitly_wait(3)\n",
    "driver.get(\"https://www.naver.com\")\n",
    "\n",
    "# URL에 연결\n",
    "html = driver.page_source\n",
    "# 파서\n",
    "html_parsing = BeautifulSoup(html, \"lxml\")\n",
    "\n",
    "# driver.close()\n",
    "# -- 여기까지 모두 같은 셀에 있어야 동작."
   ]
  },
  {
   "cell_type": "code",
   "execution_count": 30,
   "metadata": {},
   "outputs": [
    {
     "name": "stdout",
     "output_type": "stream",
     "text": [
      "접속중\n"
     ]
    },
    {
     "name": "stderr",
     "output_type": "stream",
     "text": [
      "5it [00:00, 43.99it/s]"
     ]
    },
    {
     "name": "stdout",
     "output_type": "stream",
     "text": [
      "수집완료\n",
      "폴더가 있습니다.\n",
      "크롤링한 사진을 폴더에 넣습니다.\n"
     ]
    },
    {
     "name": "stderr",
     "output_type": "stream",
     "text": [
      "100it [00:00, 213.59it/s]\n"
     ]
    }
   ],
   "source": [
    "# 기본 문법\n",
    "driver = webdriver.Chrome(\"./chromedriver\")\n",
    "\n",
    "# 페이지 열릴 때마다 딜레이 시켜줌\n",
    "# 명시적으로 3초를 기다림\n",
    "# 인터넷 속도(네트워크 상태)가 빠르면, 딜레이가 줄어듦\n",
    "# 무언가 정보가 들어오면 wait을 그만둔단것.\n",
    "driver.implicitly_wait(3)\n",
    "driver.get(\"https://www.naver.com\")\n",
    "\n",
    "# URL에 연결\n",
    "html = driver.page_source\n",
    "# 파서\n",
    "html_parsing = BeautifulSoup(html, \"lxml\")\n",
    "\n",
    "# driver.close()\n",
    "# -- 여기까지 모두 같은 셀에 있어야 동작.\n",
    "\n",
    "# 네이버 검색 키워드\n",
    "# 검색창에 넣을 것\n",
    "keyword = \"블랙핑크\"\n",
    "\n",
    "# 웹 접속이 되었는지 중간 확인\n",
    "# 잘 동작되는지 콘솔창에서 확인가능\n",
    "print(\"접속중\")\n",
    "\n",
    "# url = \"가져올 URL\"\n",
    "# 블랙핑크\n",
    "# url = https://search.naver.com/search.naver?sm=tab_hty.top&where=image&query=%EB%B8%94%EB%9E%99%ED%95%91%ED%81%AC&oquery=%EB%B8%94%EB%9E%99%ED%95%91%ED%81%AC&tqi=h4Xg8sp0JXVssTc1h0dssssstMK-184489\n",
    "# 방탄소년단\n",
    "# https://search.naver.com/search.naver?sm=tab_hty.top&where=image&query=%EB%B0%A9%ED%83%84%EC%86%8C%EB%85%84%EB%8B%A8&oquery=%EB%B0%A9%ED%83%84%EC%86%8C%EB%85%84%EB%8B%A8&tqi=h4XR4lp0JywssEExbFwssssstXN-463227\n",
    "\n",
    "\n",
    "\n",
    "\n",
    "# 네이버의 검색 패턴\n",
    "# https://search.naver.com/search.naver?sm=tab_hty.top&where=image&query=검색할내용\n",
    "url = \"https://search.naver.com/search.naver?where=image&sm=tab_jum&query=%EB%B8%94%EB%9E%99%ED%95%91%ED%81%AC\"\n",
    "driver.get(url)\n",
    "\n",
    "\n",
    "imgs = driver.find_elements_by_css_selector(\"img._image\")\n",
    "# print(imgs)  # 세션 정상적으로 되어있는지 확인가능.\n",
    "\n",
    "\n",
    "result = []\n",
    "\n",
    "for img in imgs:\n",
    "    result.append(img.get_attribute('src'))\n",
    "# 이미지 속성값가져옴\n",
    "    result.append(img.get_attribute('src'))\n",
    "# print(result)\n",
    "\n",
    "\n",
    "\n",
    "driver.close()\n",
    "print(\"수집완료\")\n",
    "\n",
    "\n",
    "if not os.path.isdir(f\"./{keyword}\"):\n",
    "    os.mkdir(f\"./{keyword}\")\n",
    "else:\n",
    "    print(\"폴더가 있습니다.\")\n",
    "print(\"크롤링한 사진을 폴더에 넣습니다.\")\n",
    "from urllib.request import urlretrieve\n",
    "\n",
    "# 100(전체)를 기준으로 얼마나 수집되었는지. \n",
    "for idx, link in tqdm(enumerate(result)):\n",
    "    start = link.rfind('.')  # .을 것임.\n",
    "    end = link.rfind('&') # &을 찾을거임\n",
    "    filetype = link[start:end]\n",
    "\n",
    "#     find : 왼-> 오 순으로 찾음\n",
    "# rfind : 오 -> 왼 순으로 찾음\n",
    "# right\n",
    "# lfind도 있지만 find와같기에 쓰이지않음\n",
    "\n",
    "    urlretrieve(link, './{}/{}{}{}'.format(keyword, keyword, idx, filetype))\n",
    "    #블랙핑크폴더 밑에 블랙핑크인덱스파일타입으로 들어감.\n",
    "    #블랙핑크1.jpg .png 등\n",
    "    "
   ]
  },
  {
   "cell_type": "code",
   "execution_count": null,
   "metadata": {},
   "outputs": [],
   "source": []
  },
  {
   "cell_type": "code",
   "execution_count": null,
   "metadata": {},
   "outputs": [],
   "source": []
  }
 ],
 "metadata": {
  "kernelspec": {
   "display_name": "Python 3",
   "language": "python",
   "name": "python3"
  },
  "language_info": {
   "codemirror_mode": {
    "name": "ipython",
    "version": 3
   },
   "file_extension": ".py",
   "mimetype": "text/x-python",
   "name": "python",
   "nbconvert_exporter": "python",
   "pygments_lexer": "ipython3",
   "version": "3.8.5"
  }
 },
 "nbformat": 4,
 "nbformat_minor": 4
}